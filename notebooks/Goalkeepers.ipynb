{
 "cells": [
  {
   "cell_type": "code",
   "execution_count": 18,
   "id": "6dd0856e-7bd9-4ec3-88cf-293472cd313c",
   "metadata": {},
   "outputs": [],
   "source": [
    "from pyspark.sql import SparkSession\n",
    "from pyspark.sql.functions import *"
   ]
  },
  {
   "cell_type": "code",
   "execution_count": 19,
   "id": "77db1c89-dcd9-4b97-b311-16741979833b",
   "metadata": {},
   "outputs": [],
   "source": [
    "spark= SparkSession.builder.getOrCreate()"
   ]
  },
  {
   "cell_type": "code",
   "execution_count": 20,
   "id": "0612065c-55f7-4d1c-a98f-b20d76ce5022",
   "metadata": {},
   "outputs": [],
   "source": [
    "GoalKeepers = spark.read.format('csv')\\\n",
    "    .option(\"header\", \"True\")\\\n",
    "    .option(\"inferSchema\", \"True\")\\\n",
    "    .load(\"../data/goalkeepers.csv\")"
   ]
  },
  {
   "cell_type": "code",
   "execution_count": 21,
   "id": "b8b0820f-1616-4ec0-bfc9-dde9da2e7bd4",
   "metadata": {},
   "outputs": [
    {
     "data": {
      "text/plain": [
       "['LastName',\n",
       " 'FirstName',\n",
       " 'Date',\n",
       " 'Start',\n",
       " 'Pos',\n",
       " 'Min',\n",
       " 'SoTA',\n",
       " 'GA',\n",
       " 'Saves',\n",
       " 'PSxG',\n",
       " 'PKatt',\n",
       " 'PKA',\n",
       " 'PKm',\n",
       " 'PassAtt',\n",
       " 'Throws',\n",
       " 'AvgLen',\n",
       " 'GKAtt',\n",
       " 'GKAvgLen',\n",
       " 'C']"
      ]
     },
     "execution_count": 21,
     "metadata": {},
     "output_type": "execute_result"
    }
   ],
   "source": [
    "GoalKeepers.columns"
   ]
  },
  {
   "cell_type": "code",
   "execution_count": 22,
   "id": "e2fbae77-7128-4347-a846-bdbeb74d2102",
   "metadata": {},
   "outputs": [],
   "source": [
    "GoalKeepers.createOrReplaceTempView('gk')"
   ]
  },
  {
   "cell_type": "code",
   "execution_count": 23,
   "id": "915fc615-ec80-4f26-8549-967da56bef24",
   "metadata": {},
   "outputs": [],
   "source": [
    "GoalKeepers=GoalKeepers.withColumn('fullname',concat_ws(' ',col('FirstName'),col('LastName')))"
   ]
  },
  {
   "cell_type": "code",
   "execution_count": 24,
   "id": "32985eb5-6cf9-4d54-a66f-655ea70127f3",
   "metadata": {},
   "outputs": [
    {
     "name": "stdout",
     "output_type": "stream",
     "text": [
      "+------------+\n",
      "|fullname    |\n",
      "+------------+\n",
      "|David Ospina|\n",
      "|Petr Cech   |\n",
      "|Petr Cech   |\n",
      "|David Ospina|\n",
      "|David Ospina|\n",
      "+------------+\n",
      "only showing top 5 rows\n",
      "\n"
     ]
    }
   ],
   "source": [
    "GoalKeepers.select('fullname').show(5,False)"
   ]
  },
  {
   "cell_type": "code",
   "execution_count": 46,
   "id": "de453a0c-7c8f-46f5-8302-5d27a944328e",
   "metadata": {},
   "outputs": [],
   "source": [
    "goalkeep=spark.sql('''\n",
    "    select distinct concat(firstname,' ',lastname) as fullname\n",
    "    from gk\n",
    "''')"
   ]
  },
  {
   "cell_type": "code",
   "execution_count": 47,
   "id": "6b93eb12-407f-4abc-abc5-e4d16d5cbaa8",
   "metadata": {},
   "outputs": [
    {
     "name": "stdout",
     "output_type": "stream",
     "text": [
      "+------------------------+\n",
      "|count(DISTINCT fullname)|\n",
      "+------------------------+\n",
      "|                       7|\n",
      "+------------------------+\n",
      "\n"
     ]
    }
   ],
   "source": [
    "gk_=spark.sql(\"\"\"\n",
    "    select count(distinct fullname)\n",
    "    from ( select distinct concat(firstname,' ',lastname) as fullname\n",
    "    from gk ) as kk\n",
    "\"\"\").show()"
   ]
  },
  {
   "cell_type": "code",
   "execution_count": 48,
   "id": "089560b1-c520-460f-b96b-26eb60d7e67f",
   "metadata": {},
   "outputs": [],
   "source": [
    "goalkeep=goalkeep.withColumn('GKID',monotonically_increasing_id()+1)"
   ]
  },
  {
   "cell_type": "code",
   "execution_count": 49,
   "id": "4c75de9a-9d83-4f8e-aed1-e7459a4018f8",
   "metadata": {},
   "outputs": [
    {
     "name": "stdout",
     "output_type": "stream",
     "text": [
      "+-----------------+----+\n",
      "|         fullname|GKID|\n",
      "+-----------------+----+\n",
      "|Emiliano Martinez|   1|\n",
      "|   Aaron Ramsdale|   2|\n",
      "|       Bernd Leno|   3|\n",
      "|        Petr Cech|   4|\n",
      "|  Runar Runarsson|   5|\n",
      "|      Mathew Ryan|   6|\n",
      "|     David Ospina|   7|\n",
      "+-----------------+----+\n",
      "\n"
     ]
    }
   ],
   "source": [
    "goalkeep.show()"
   ]
  },
  {
   "cell_type": "code",
   "execution_count": 51,
   "id": "88e56455-bfb6-4a4c-bf80-5161d81de7ef",
   "metadata": {},
   "outputs": [],
   "source": [
    "DimGoalKeepers=GoalKeepers.join(goalkeep,on='fullname',how='inner')"
   ]
  },
  {
   "cell_type": "code",
   "execution_count": 52,
   "id": "9d360d12-bb24-481c-ae02-8449ed915db0",
   "metadata": {},
   "outputs": [
    {
     "name": "stdout",
     "output_type": "stream",
     "text": [
      "+------------+--------+---------+----------+-----+---+---+----+---+-----+----+-----+----+----+-------+------+------+-----+--------+---+----+\n",
      "|    fullname|LastName|FirstName|      Date|Start|Pos|Min|SoTA| GA|Saves|PSxG|PKatt| PKA| PKm|PassAtt|Throws|AvgLen|GKAtt|GKAvgLen|  C|GKID|\n",
      "+------------+--------+---------+----------+-----+---+---+----+---+-----+----+-----+----+----+-------+------+------+-----+--------+---+----+\n",
      "|David Ospina|  Ospina|    David| 5/13/2018|    1| GK| 90|   3|  0|    3| 0.4|    0|   0|   0|     39|     8|  31.9|    9|    48.2|  0|   7|\n",
      "|   Petr Cech|    Cech|     Petr|  5/9/2018|    1| GK| 90|  10|  3|    7| 3.2|    1|   1|   0|     26|     7|  34.5|   11|    66.0|  1|   4|\n",
      "|   Petr Cech|    Cech|     Petr|  5/6/2018|    1| GK| 90|   2|  0|    2| 0.2|    0|   0|   0|     31|     8|  32.4|    2|    56.0|  1|   4|\n",
      "|David Ospina|  Ospina|    David| 4/29/2018|    1| GK| 90|   2|  2|    0| 1.3|    0|   0|   0|     15|     4|  41.1|    5|    49.0|  0|   7|\n",
      "|David Ospina|  Ospina|    David| 4/22/2018|    1| GK| 90|   4|  1|    3| 0.6|    0|   0|   0|     24|     6|  20.8|    4|    44.3|  0|   7|\n",
      "|   Petr Cech|    Cech|     Petr| 4/15/2018|    1| GK| 90|   4|  2|    2| 0.6|    0|   0|   0|     28|     6|  26.3|    6|    34.0|  1|   4|\n",
      "|   Petr Cech|    Cech|     Petr|  4/8/2018|    1| GK| 90|   7|  2|    5| 2.6|    0|   0|   0|     17|     9|  33.5|    6|    52.8|  1|   4|\n",
      "|David Ospina|  Ospina|    David|  4/1/2018|    1| GK| 90|   2|  0|    2| 0.1|    0|   0|   0|     30|     6|  26.3|    7|    48.0|  0|   7|\n",
      "|   Petr Cech|    Cech|     Petr| 3/11/2018|    1| GK| 90|   4|  0|    3| 1.8|    1|   0|   0|     17|     7|  32.9|   11|    45.1|  1|   4|\n",
      "|   Petr Cech|    Cech|     Petr|  3/4/2018|    1| GK| 90|   6|  2|    4| 0.9|    0|   0|   0|     31|     7|  35.8|    7|    43.9|  0|   4|\n",
      "|   Petr Cech|    Cech|     Petr|  3/1/2018|    1| GK| 90|   5|  3|    2| 3.1|    0|   0|   0|     37|     5|  34.4|    2|    75.0|  0|   4|\n",
      "|   Petr Cech|    Cech|     Petr| 2/10/2018|    1| GK| 90|   6|  1|    5| 1.8|    0|   0|   0|     38|    12|  37.2|   13|    43.8|  0|   4|\n",
      "|   Petr Cech|    Cech|     Petr|  2/3/2018|    1| GK| 69|   1|  1| NULL| 0.3| NULL|NULL|NULL|     13|     2|  45.7|    6|    53.8|  0|   4|\n",
      "|David Ospina|  Ospina|    David|  2/3/2018|    0| GK| 21|   1|  0|    1| 0.1|    0|   0|   0|      8|     3|  31.1|    3|    46.3|  0|   7|\n",
      "|   Petr Cech|    Cech|     Petr| 1/30/2018|    1| GK| 90|   4|  3|    1| 2.8|    0|   0|   0|     19|     7|  27.4|    5|    37.8|  0|   4|\n",
      "|   Petr Cech|    Cech|     Petr| 1/20/2018|    1| GK| 90|   5|  1|    4| 1.1|    0|   0|   0|     27|     8|  28.4|    5|    47.8|  0|   4|\n",
      "|   Petr Cech|    Cech|     Petr| 1/14/2018|    1| GK| 90|   5|  2|    3| 0.3|    0|   0|   0|     28|     6|  43.8|    7|    59.0|  1|   4|\n",
      "|   Petr Cech|    Cech|     Petr|  1/3/2018|    1| GK| 90|   6|  2|    4| 2.0|    1|   1|   0|     20|     7|  27.0|   10|    34.7|  1|   4|\n",
      "|   Petr Cech|    Cech|     Petr|12/31/2017|    1| GK| 90|   3|  1|    2| 1.0|    1|   1|   0|     25|     8|  32.8|    7|    35.4|  0|   4|\n",
      "|   Petr Cech|    Cech|     Petr|12/28/2017|    1| GK| 90|   2|  2|    0| 0.6|    0|   0|   0|     16|     4|  33.2|   13|    44.4|  0|   4|\n",
      "+------------+--------+---------+----------+-----+---+---+----+---+-----+----+-----+----+----+-------+------+------+-----+--------+---+----+\n",
      "only showing top 20 rows\n",
      "\n"
     ]
    }
   ],
   "source": [
    "DimGoalKeepers.show()"
   ]
  },
  {
   "cell_type": "code",
   "execution_count": 53,
   "id": "c90a7d5c-9aa6-475d-8ae7-df20c644bfff",
   "metadata": {},
   "outputs": [
    {
     "data": {
      "text/plain": [
       "['fullname',\n",
       " 'LastName',\n",
       " 'FirstName',\n",
       " 'Date',\n",
       " 'Start',\n",
       " 'Pos',\n",
       " 'Min',\n",
       " 'SoTA',\n",
       " 'GA',\n",
       " 'Saves',\n",
       " 'PSxG',\n",
       " 'PKatt',\n",
       " 'PKA',\n",
       " 'PKm',\n",
       " 'PassAtt',\n",
       " 'Throws',\n",
       " 'AvgLen',\n",
       " 'GKAtt',\n",
       " 'GKAvgLen',\n",
       " 'C',\n",
       " 'GKID']"
      ]
     },
     "execution_count": 53,
     "metadata": {},
     "output_type": "execute_result"
    }
   ],
   "source": [
    "DimGoalKeepers.columns"
   ]
  },
  {
   "cell_type": "code",
   "execution_count": 54,
   "id": "0dc51638-19d4-4366-a562-88c19d119f2b",
   "metadata": {},
   "outputs": [],
   "source": [
    "DimGoalKeepers.write.csv('../data/DimGoalKeeper',header=True)"
   ]
  },
  {
   "cell_type": "markdown",
   "id": "119fad81-1dd0-4f1a-9034-54485f19ef70",
   "metadata": {},
   "source": [
    "### Creating the FactGK"
   ]
  },
  {
   "cell_type": "code",
   "execution_count": 58,
   "id": "568ca4a3-e2f5-40b2-a36c-2af0a00a9046",
   "metadata": {},
   "outputs": [],
   "source": [
    "dimmatch=spark.read.format('csv')\\\n",
    "    .option('header','True') \\\n",
    "    .option('inferSchema','True')\\\n",
    "    .load('../data/DimMatches/DimMatches.csv')"
   ]
  },
  {
   "cell_type": "code",
   "execution_count": 59,
   "id": "557dac4d-d412-4b26-bc40-57bd0a3995fb",
   "metadata": {},
   "outputs": [],
   "source": [
    "factgk=dimmatch.join(DimGoalKeepers,on='Date',how='left')"
   ]
  },
  {
   "cell_type": "code",
   "execution_count": 63,
   "id": "a91a1f4e-2677-404b-bba4-752372a0fa8c",
   "metadata": {},
   "outputs": [
    {
     "data": {
      "text/plain": [
       "['Date',\n",
       " 'Season',\n",
       " 'Tour',\n",
       " 'Time',\n",
       " 'Opponent',\n",
       " 'HoAw',\n",
       " 'ArsenalScore',\n",
       " 'OpponentScore',\n",
       " 'Stadium',\n",
       " 'Attendance',\n",
       " 'Coach',\n",
       " 'Referee',\n",
       " 'MatchID',\n",
       " 'fullname',\n",
       " 'LastName',\n",
       " 'FirstName',\n",
       " 'Start',\n",
       " 'Pos',\n",
       " 'Min',\n",
       " 'SoTA',\n",
       " 'GA',\n",
       " 'Saves',\n",
       " 'PSxG',\n",
       " 'PKatt',\n",
       " 'PKA',\n",
       " 'PKm',\n",
       " 'PassAtt',\n",
       " 'Throws',\n",
       " 'AvgLen',\n",
       " 'GKAtt',\n",
       " 'GKAvgLen',\n",
       " 'C',\n",
       " 'GKID']"
      ]
     },
     "execution_count": 63,
     "metadata": {},
     "output_type": "execute_result"
    }
   ],
   "source": [
    "factgk.columns"
   ]
  },
  {
   "cell_type": "code",
   "execution_count": 62,
   "id": "37a19fe0-7938-49c0-ada8-23ee6cfe9de8",
   "metadata": {},
   "outputs": [
    {
     "data": {
      "text/plain": [
       "['Season',\n",
       " 'Tour',\n",
       " 'Date',\n",
       " 'Time',\n",
       " 'Opponent',\n",
       " 'HoAw',\n",
       " 'ArsenalScore',\n",
       " 'OpponentScore',\n",
       " 'Stadium',\n",
       " 'Attendance',\n",
       " 'Coach',\n",
       " 'Referee',\n",
       " 'MatchID']"
      ]
     },
     "execution_count": 62,
     "metadata": {},
     "output_type": "execute_result"
    }
   ],
   "source": [
    "dimmatch.columns"
   ]
  },
  {
   "cell_type": "code",
   "execution_count": 64,
   "id": "b509e82a-dcbe-45a6-ac9c-aa3116be0fb4",
   "metadata": {},
   "outputs": [],
   "source": [
    "factgk=factgk.drop(\n",
    "'Season',\n",
    " 'Tour',\n",
    " 'Time',\n",
    " 'Opponent',\n",
    " 'HoAw',\n",
    " 'Stadium',\n",
    " 'Coach',\n",
    " 'Referee',\n",
    "  'Pos',\n",
    "    'C',\n",
    "'fullname',\n",
    " 'LastName',\n",
    " 'FirstName'\n",
    "    \n",
    ")"
   ]
  },
  {
   "cell_type": "code",
   "execution_count": 65,
   "id": "abb4f4b9-8290-41a4-9ee0-0f6fbe348fe2",
   "metadata": {},
   "outputs": [
    {
     "data": {
      "text/plain": [
       "['Date',\n",
       " 'ArsenalScore',\n",
       " 'OpponentScore',\n",
       " 'Attendance',\n",
       " 'MatchID',\n",
       " 'Start',\n",
       " 'Min',\n",
       " 'SoTA',\n",
       " 'GA',\n",
       " 'Saves',\n",
       " 'PSxG',\n",
       " 'PKatt',\n",
       " 'PKA',\n",
       " 'PKm',\n",
       " 'PassAtt',\n",
       " 'Throws',\n",
       " 'AvgLen',\n",
       " 'GKAtt',\n",
       " 'GKAvgLen',\n",
       " 'GKID']"
      ]
     },
     "execution_count": 65,
     "metadata": {},
     "output_type": "execute_result"
    }
   ],
   "source": [
    "factgk.columns"
   ]
  },
  {
   "cell_type": "code",
   "execution_count": 66,
   "id": "c594c530-2b7e-43dc-ba82-158db002fa98",
   "metadata": {},
   "outputs": [],
   "source": [
    "factgk.write.csv('../data/FactGK', header=True)"
   ]
  },
  {
   "cell_type": "code",
   "execution_count": null,
   "id": "53ecd6ca-6424-4dc6-b767-74e6db7db68e",
   "metadata": {},
   "outputs": [],
   "source": []
  }
 ],
 "metadata": {
  "kernelspec": {
   "display_name": "Python 3 (ipykernel)",
   "language": "python",
   "name": "python3"
  },
  "language_info": {
   "codemirror_mode": {
    "name": "ipython",
    "version": 3
   },
   "file_extension": ".py",
   "mimetype": "text/x-python",
   "name": "python",
   "nbconvert_exporter": "python",
   "pygments_lexer": "ipython3",
   "version": "3.11.6"
  }
 },
 "nbformat": 4,
 "nbformat_minor": 5
}
