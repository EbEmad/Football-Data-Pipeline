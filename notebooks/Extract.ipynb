{
 "cells": [
  {
   "cell_type": "code",
   "execution_count": 7,
   "id": "0cd64ee9-38a5-4c52-b680-5762b92e1428",
   "metadata": {},
   "outputs": [],
   "source": [
    "from pyspark.sql import SparkSession\n",
    "from pyspark.sql.functions import *"
   ]
  },
  {
   "cell_type": "code",
   "execution_count": 8,
   "id": "015f608a-9d99-48f3-abbe-375a285df6fa",
   "metadata": {},
   "outputs": [],
   "source": [
    "spark = SparkSession.builder \\\n",
    "    .appName(\"PostgreSQL_Connector\") \\\n",
    "    .config(\"spark.jars\", \"/Drivers/SQL_Sever/jdbc/postgresql-42.7.3.jar\") \\\n",
    "    .getOrCreate()"
   ]
  },
  {
   "cell_type": "code",
   "execution_count": 9,
   "id": "9288f501-d72e-4787-9713-fa474e1651c6",
   "metadata": {},
   "outputs": [],
   "source": [
    "DfMatches=spark.read.csv(\"../data/matches.csv\", header=True)"
   ]
  },
  {
   "cell_type": "code",
   "execution_count": 10,
   "id": "b42207b6-e25b-4320-9f67-1eb800a55224",
   "metadata": {},
   "outputs": [],
   "source": [
    "DfMatches.write.format(\"jdbc\") \\\n",
    "        .option(\"url\", \"jdbc:postgresql://postgres:5432/mydatabase\") \\\n",
    "        .option(\"driver\", \"org.postgresql.Driver\") \\\n",
    "        .option(\"dbtable\", \"arsenalmatches\") \\\n",
    "        .option(\"user\", \"postgres\") \\\n",
    "        .option(\"password\", \"postgres\") \\\n",
    "        .mode(\"overwrite\") \\\n",
    "        .save()"
   ]
  },
  {
   "cell_type": "code",
   "execution_count": 14,
   "id": "fcb5b8c4-12c1-4ec8-84dd-349987111d18",
   "metadata": {},
   "outputs": [],
   "source": [
    "DFGK=spark.read.csv('../data/goalkeepers.csv',header=True)"
   ]
  },
  {
   "cell_type": "code",
   "execution_count": 19,
   "id": "f6016bde-7d00-4291-8aef-9e4d2450bbf8",
   "metadata": {},
   "outputs": [],
   "source": [
    "DFGK.write.format('jdbc') \\\n",
    "    .option('url','jdbc:postgresql://postgres:5432/mydatabase') \\\n",
    "    .option('driver','org.postgresql.Driver') \\\n",
    "    .option('dbtable','arsenalGK') \\\n",
    "    .option('user','postgres') \\\n",
    "    .option('password','postgres') \\\n",
    "    .mode('overwrite') \\\n",
    "    .save()"
   ]
  },
  {
   "cell_type": "code",
   "execution_count": 22,
   "id": "250daf64-eaec-44aa-970d-60da4a794d18",
   "metadata": {},
   "outputs": [],
   "source": [
    "DfPlayers=spark.read.csv(\"../data/players.csv\", header=True)"
   ]
  },
  {
   "cell_type": "code",
   "execution_count": 24,
   "id": "a7ff2d50-8a23-4ac8-91ee-67696a040fb3",
   "metadata": {},
   "outputs": [],
   "source": [
    "DfPlayers.write.format(\"jdbc\") \\\n",
    "        .option(\"url\", \"jdbc:postgresql://postgres:5432/mydatabase\") \\\n",
    "        .option(\"driver\", \"org.postgresql.Driver\") \\\n",
    "        .option(\"dbtable\", \"arsenalPlayers\") \\\n",
    "        .option(\"user\", \"postgres\") \\\n",
    "        .option(\"password\", \"postgres\") \\\n",
    "        .mode(\"overwrite\") \\\n",
    "        .save()"
   ]
  },
  {
   "cell_type": "code",
   "execution_count": null,
   "id": "6974bf72-82ea-4149-9221-027c707ffa52",
   "metadata": {},
   "outputs": [],
   "source": []
  }
 ],
 "metadata": {
  "kernelspec": {
   "display_name": "Python 3 (ipykernel)",
   "language": "python",
   "name": "python3"
  },
  "language_info": {
   "codemirror_mode": {
    "name": "ipython",
    "version": 3
   },
   "file_extension": ".py",
   "mimetype": "text/x-python",
   "name": "python",
   "nbconvert_exporter": "python",
   "pygments_lexer": "ipython3",
   "version": "3.11.6"
  }
 },
 "nbformat": 4,
 "nbformat_minor": 5
}
