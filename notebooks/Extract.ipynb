{
 "cells": [
  {
   "cell_type": "code",
   "execution_count": 34,
   "id": "0cd64ee9-38a5-4c52-b680-5762b92e1428",
   "metadata": {},
   "outputs": [],
   "source": [
    "from pyspark.sql import SparkSession\n",
    "from pyspark.sql.functions import *\n",
    "from pyspark.sql.functions import to_date, date_format"
   ]
  },
  {
   "cell_type": "markdown",
   "id": "79048e71-9be3-4665-8085-801071f539cb",
   "metadata": {},
   "source": [
    "### Extract data from the source and then load it to storage "
   ]
  },
  {
   "cell_type": "code",
   "execution_count": 35,
   "id": "015f608a-9d99-48f3-abbe-375a285df6fa",
   "metadata": {},
   "outputs": [
    {
     "name": "stdout",
     "output_type": "stream",
     "text": [
      "<pyspark.sql.session.SparkSession object at 0x7cf3cc1176d0>\n"
     ]
    }
   ],
   "source": [
    "spark = SparkSession.builder.config(\"spark.jars\", \"/Drivers/SQL_Sever/jdbc/postgresql-42.7.3.jar\")\\\n",
    ".getOrCreate()\n",
    "print(spark)"
   ]
  },
  {
   "cell_type": "code",
   "execution_count": 36,
   "id": "9288f501-d72e-4787-9713-fa474e1651c6",
   "metadata": {},
   "outputs": [],
   "source": [
    "DfMatches=spark.read.csv(\"../data/matches.csv\", header=True)"
   ]
  },
  {
   "cell_type": "code",
   "execution_count": 37,
   "id": "0c1ea814-45f8-4120-985d-a1235f860aaf",
   "metadata": {},
   "outputs": [
    {
     "name": "stdout",
     "output_type": "stream",
     "text": [
      "+-------+----+----------+--------+--------------+----+------------+-------------+-----------------+----------+-------------+---------------+\n",
      "| Season|Tour|      Date|    Time|      Opponent|HoAw|ArsenalScore|OpponentScore|          Stadium|Attendance|        Coach|        Referee|\n",
      "+-------+----+----------+--------+--------------+----+------------+-------------+-----------------+----------+-------------+---------------+\n",
      "|2017/18|   1|2017-08-11|20:45:00|     Leicester|home|           4|            3| Emirates Stadium|     59387|Arsène Wenger|      Mike Dean|\n",
      "|2017/18|   2|2017-08-19|18:30:00|    Stoke City|away|           0|            1|   bet365 Stadium|     29459|Arsène Wenger| Andre Marriner|\n",
      "|2017/18|   3|2017-08-27|17:00:00|     Liverpool|away|           0|            4|          Anfield|     53206|Arsène Wenger|   Craig Pawson|\n",
      "|2017/18|   4|2017-09-09|16:00:00|   Bournemouth|home|           3|            0| Emirates Stadium|     59262|Arsène Wenger| Anthony Taylor|\n",
      "|2017/18|   5|2017-09-17|14:30:00|       Chelsea|away|           0|            0|  Stamford Bridge|     41478|Arsène Wenger| Michael Oliver|\n",
      "|2017/18|   6|2017-09-25|21:00:00|     West Brom|home|           2|            0| Emirates Stadium|     59134|Arsène Wenger|   Bobby Madley|\n",
      "|2017/18|   7|2017-10-01|13:00:00|      Brighton|home|           2|            0| Emirates Stadium|     59378|Arsène Wenger|   Kevin Friend|\n",
      "|2017/18|   8|2017-10-14|18:30:00|       Watford|away|           1|            2|    Vicarage Road|     20384|Arsène Wenger| Neil Swarbrick|\n",
      "|2017/18|   9|2017-10-22|14:30:00|       Everton|away|           5|            2|    Goodison Park|     39189|Arsène Wenger|   Craig Pawson|\n",
      "|2017/18|  10|2017-10-28|16:00:00|       Swansea|home|           2|            1| Emirates Stadium|     59493|Arsène Wenger|      Lee Mason|\n",
      "|2017/18|  11|2017-11-05|15:15:00|      Man City|away|           1|            3|   Etihad Stadium|     54286|Arsène Wenger| Michael Oliver|\n",
      "|2017/18|  12|2017-11-18|13:30:00|     Tottenham|home|           2|            0| Emirates Stadium|     59530|Arsène Wenger|      Mike Dean|\n",
      "|2017/18|  13|2017-11-26|15:00:00|       Burnley|away|           1|            0|        Turf Moor|     21722|Arsène Wenger|      Lee Mason|\n",
      "|2017/18|  14|2017-11-29|20:45:00|  Huddersfield|home|           5|            0| Emirates Stadium|     59285|Arsène Wenger|   Graham Scott|\n",
      "|2017/18|  15|2017-12-02|18:30:00|       Man Utd|home|           1|            3| Emirates Stadium|     59547|Arsène Wenger| Andre Marriner|\n",
      "|2017/18|  16|2017-12-10|13:00:00|   Southampton|away|           1|            1|St Mary's Stadium|     31643|Arsène Wenger|   Bobby Madley|\n",
      "|2017/18|  17|2017-12-13|21:00:00|      West Ham|away|           0|            0|   London Stadium|     56925|Arsène Wenger|  Jonathan Moss|\n",
      "|2017/18|  18|2017-12-16|16:00:00|     Newcastle|home|           1|            0| Emirates Stadium|     59379|Arsène Wenger| Stuart Attwell|\n",
      "|2017/18|  19|2017-12-22|20:45:00|     Liverpool|home|           3|            3| Emirates Stadium|     59409|Arsène Wenger|Martin Atkinson|\n",
      "|2017/18|  20|2017-12-28|21:00:00|Crystal Palace|away|           3|            2|    Selhurst Park|     25762|Arsène Wenger| Michael Oliver|\n",
      "+-------+----+----------+--------+--------------+----+------------+-------------+-----------------+----------+-------------+---------------+\n",
      "only showing top 20 rows\n",
      "\n"
     ]
    }
   ],
   "source": [
    "DfMatches.show()"
   ]
  },
  {
   "cell_type": "code",
   "execution_count": 38,
   "id": "d9000134-945c-4ad6-a5ed-0062c9626c02",
   "metadata": {},
   "outputs": [],
   "source": [
    "from pyspark.sql import SparkSession\n",
    "\n",
    "spark = SparkSession.builder \\\n",
    "    .appName(\"PostgreSQL Integration\") \\\n",
    "    .config(\"spark.jars\", \"/Drivers/SQL_Sever/jdbc/postgresql-42.7.3.jar\") \\\n",
    "    .config(\"spark.executor.extraClassPath\", \"/Drivers/SQL_Sever/jdbc/postgresql-42.7.3.jar\") \\\n",
    "    .config(\"spark.driver.extraClassPath\", \"/Drivers/SQL_Sever/jdbc/postgresql-42.7.3.jar\") \\\n",
    "    .getOrCreate()"
   ]
  },
  {
   "cell_type": "code",
   "execution_count": 39,
   "id": "b42207b6-e25b-4320-9f67-1eb800a55224",
   "metadata": {},
   "outputs": [
    {
     "ename": "SyntaxError",
     "evalue": "unexpected character after line continuation character (2439882572.py, line 2)",
     "output_type": "error",
     "traceback": [
      "\u001b[0;36m  Cell \u001b[0;32mIn[39], line 2\u001b[0;36m\u001b[0m\n\u001b[0;31m    .option(\"url\", \"jdbc:postgresql://postgres:5432/mydatabase\") \\  # Use internal port 5432\u001b[0m\n\u001b[0m                                                                                            \n^\u001b[0m\n\u001b[0;31mSyntaxError\u001b[0m\u001b[0;31m:\u001b[0m unexpected character after line continuation character\n"
     ]
    }
   ],
   "source": [
    "DfMatches.write.format(\"jdbc\") \\\n",
    "        .option(\"url\", \"jdbc:postgresql://postgres:5432/mydatabase\") \\\n",
    "        .option(\"driver\", \"org.postgresql.Driver\") \\\n",
    "        .option(\"dbtable\", \"arsenalmatches\") \\\n",
    "        .option(\"user\", \"postgres\") \\\n",
    "        .option(\"password\", \"postgres\") \\\n",
    "        .mode(\"overwrite\") \\\n",
    "        .save()\n"
   ]
  },
  {
   "cell_type": "code",
   "execution_count": null,
   "id": "fcb5b8c4-12c1-4ec8-84dd-349987111d18",
   "metadata": {},
   "outputs": [],
   "source": [
    "DFGK=spark.read.csv('../data/goalkeepers.csv',header=True)"
   ]
  },
  {
   "cell_type": "code",
   "execution_count": null,
   "id": "f6016bde-7d00-4291-8aef-9e4d2450bbf8",
   "metadata": {},
   "outputs": [],
   "source": [
    "DFGK.write.format('jdbc') \\\n",
    "    .option('url','jdbc:postgresql://postgres:5432/ArsenalDB') \\\n",
    "    .option('driver','org.postgresql.Driver') \\\n",
    "    .option('dbtable','arsenalGK') \\\n",
    "    .option('user','root') \\\n",
    "    .option('password','root') \\\n",
    "    .mode('overwrite') \\\n",
    "    .save()"
   ]
  },
  {
   "cell_type": "code",
   "execution_count": null,
   "id": "250daf64-eaec-44aa-970d-60da4a794d18",
   "metadata": {},
   "outputs": [],
   "source": [
    "DfPlayers=spark.read.csv(\"../data/players.csv\", header=True)"
   ]
  },
  {
   "cell_type": "code",
   "execution_count": null,
   "id": "a7ff2d50-8a23-4ac8-91ee-67696a040fb3",
   "metadata": {},
   "outputs": [],
   "source": [
    "DfPlayers.write.format(\"jdbc\") \\\n",
    "        .option(\"url\", \"jdbc:postgresql://postgres:5432/ArsenalDB\") \\\n",
    "        .option(\"driver\", \"org.postgresql.Driver\") \\\n",
    "        .option(\"dbtable\", \"arsenalPlayers\") \\\n",
    "        .option(\"user\", \"root\") \\\n",
    "        .option(\"password\", \"root\") \\\n",
    "        .mode(\"overwrite\") \\\n",
    "        .save()"
   ]
  },
  {
   "cell_type": "code",
   "execution_count": null,
   "id": "6974bf72-82ea-4149-9221-027c707ffa52",
   "metadata": {},
   "outputs": [],
   "source": []
  }
 ],
 "metadata": {
  "kernelspec": {
   "display_name": "Python 3 (ipykernel)",
   "language": "python",
   "name": "python3"
  },
  "language_info": {
   "codemirror_mode": {
    "name": "ipython",
    "version": 3
   },
   "file_extension": ".py",
   "mimetype": "text/x-python",
   "name": "python",
   "nbconvert_exporter": "python",
   "pygments_lexer": "ipython3",
   "version": "3.11.6"
  }
 },
 "nbformat": 4,
 "nbformat_minor": 5
}
