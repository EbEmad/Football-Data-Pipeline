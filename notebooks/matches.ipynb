{
 "cells": [
  {
   "cell_type": "code",
   "execution_count": 1,
   "id": "b6d3ca77-6b6c-485d-855a-6c34e3704281",
   "metadata": {},
   "outputs": [],
   "source": [
    "from pyspark.sql import SparkSession\n",
    "from pyspark.sql.functions import *"
   ]
  },
  {
   "cell_type": "code",
   "execution_count": 2,
   "id": "154262c4-8ff2-4d31-b049-ffad5d9e0811",
   "metadata": {},
   "outputs": [],
   "source": [
    "spark = SparkSession.builder.config(\"spark.jars\", \"/Drivers/SQL_Sever/jdbc/postgresql-42.7.3.jar\")\\\n",
    ".getOrCreate()"
   ]
  },
  {
   "cell_type": "code",
   "execution_count": 3,
   "id": "b8f4397e-38c0-445d-bc1a-948a8b307d66",
   "metadata": {},
   "outputs": [],
   "source": [
    "matches=spark.read.format('csv') \\\n",
    "    .option('header','True') \\\n",
    "    .option('inferschema','True') \\\n",
    "    .load('../data/matches.csv')"
   ]
  },
  {
   "cell_type": "code",
   "execution_count": 4,
   "id": "cc0b5bc3-f9fa-4076-9bdb-4e4d9ce4de5b",
   "metadata": {},
   "outputs": [
    {
     "name": "stdout",
     "output_type": "stream",
     "text": [
      "+-------+----+----------+-------------------+----------+----+------------+-------------+----------------+----------+-------------+--------------+\n",
      "| Season|Tour|      Date|               Time|  Opponent|HoAw|ArsenalScore|OpponentScore|         Stadium|Attendance|        Coach|       Referee|\n",
      "+-------+----+----------+-------------------+----------+----+------------+-------------+----------------+----------+-------------+--------------+\n",
      "|2017/18|   1|2017-08-11|2025-03-27 20:45:00| Leicester|home|           4|            3|Emirates Stadium|     59387|Arsène Wenger|     Mike Dean|\n",
      "|2017/18|   2|2017-08-19|2025-03-27 18:30:00|Stoke City|away|           0|            1|  bet365 Stadium|     29459|Arsène Wenger|Andre Marriner|\n",
      "|2017/18|   3|2017-08-27|2025-03-27 17:00:00| Liverpool|away|           0|            4|         Anfield|     53206|Arsène Wenger|  Craig Pawson|\n",
      "+-------+----+----------+-------------------+----------+----+------------+-------------+----------------+----------+-------------+--------------+\n",
      "only showing top 3 rows\n",
      "\n"
     ]
    }
   ],
   "source": [
    "matches.show(3)"
   ]
  },
  {
   "cell_type": "code",
   "execution_count": 5,
   "id": "5c01e234-1be8-4e74-ae7c-480ae9f7db43",
   "metadata": {},
   "outputs": [
    {
     "data": {
      "text/plain": [
       "StructType([StructField('Season', StringType(), True), StructField('Tour', IntegerType(), True), StructField('Date', DateType(), True), StructField('Time', TimestampType(), True), StructField('Opponent', StringType(), True), StructField('HoAw', StringType(), True), StructField('ArsenalScore', IntegerType(), True), StructField('OpponentScore', IntegerType(), True), StructField('Stadium', StringType(), True), StructField('Attendance', IntegerType(), True), StructField('Coach', StringType(), True), StructField('Referee', StringType(), True)])"
      ]
     },
     "execution_count": 5,
     "metadata": {},
     "output_type": "execute_result"
    }
   ],
   "source": [
    "matches.schema"
   ]
  },
  {
   "cell_type": "code",
   "execution_count": 6,
   "id": "bd8d5174-bec1-4b4e-9db4-7885d542c0e5",
   "metadata": {},
   "outputs": [],
   "source": [
    "matches.createOrReplaceTempView(\"Matches\")"
   ]
  },
  {
   "cell_type": "code",
   "execution_count": 7,
   "id": "86bb7de4-8d6d-43b9-8058-c7c8162ab963",
   "metadata": {},
   "outputs": [
    {
     "name": "stdout",
     "output_type": "stream",
     "text": [
      "+--------------------+\n",
      "|count(DISTINCT Date)|\n",
      "+--------------------+\n",
      "|                 214|\n",
      "+--------------------+\n",
      "\n"
     ]
    }
   ],
   "source": [
    "distinct_matches=spark.sql('''\n",
    "    select count(distinct Date) \n",
    "    from Matches\n",
    "\n",
    "''').show()"
   ]
  },
  {
   "cell_type": "code",
   "execution_count": 8,
   "id": "d7f62eaf-9a5f-4575-8ee6-715eb5d8a993",
   "metadata": {},
   "outputs": [
    {
     "name": "stdout",
     "output_type": "stream",
     "text": [
      "+-----------+\n",
      "|count(Date)|\n",
      "+-----------+\n",
      "|        214|\n",
      "+-----------+\n",
      "\n"
     ]
    }
   ],
   "source": [
    "Matches=spark.sql(\"\"\"\n",
    "    select count(Date)\n",
    "    from Matches\n",
    "\"\"\").show()"
   ]
  },
  {
   "cell_type": "code",
   "execution_count": 9,
   "id": "63098533-11b3-4d2e-a837-e545dc5a2e30",
   "metadata": {},
   "outputs": [
    {
     "data": {
      "text/plain": [
       "['Season',\n",
       " 'Tour',\n",
       " 'Date',\n",
       " 'Time',\n",
       " 'Opponent',\n",
       " 'HoAw',\n",
       " 'ArsenalScore',\n",
       " 'OpponentScore',\n",
       " 'Stadium',\n",
       " 'Attendance',\n",
       " 'Coach',\n",
       " 'Referee']"
      ]
     },
     "execution_count": 9,
     "metadata": {},
     "output_type": "execute_result"
    }
   ],
   "source": [
    "matches.columns"
   ]
  },
  {
   "cell_type": "code",
   "execution_count": 10,
   "id": "e0979b13-2af5-4f43-b402-dd382e2d034b",
   "metadata": {},
   "outputs": [],
   "source": [
    "DimMatch= matches.withColumn(\"MatchID\", monotonically_increasing_id())"
   ]
  },
  {
   "cell_type": "code",
   "execution_count": 11,
   "id": "157b0631-5fd7-4534-adb2-ab1bff2c06aa",
   "metadata": {},
   "outputs": [
    {
     "data": {
      "text/plain": [
       "['Season',\n",
       " 'Tour',\n",
       " 'Date',\n",
       " 'Time',\n",
       " 'Opponent',\n",
       " 'HoAw',\n",
       " 'ArsenalScore',\n",
       " 'OpponentScore',\n",
       " 'Stadium',\n",
       " 'Attendance',\n",
       " 'Coach',\n",
       " 'Referee',\n",
       " 'MatchID']"
      ]
     },
     "execution_count": 11,
     "metadata": {},
     "output_type": "execute_result"
    }
   ],
   "source": [
    "DimMatch.columns"
   ]
  },
  {
   "cell_type": "code",
   "execution_count": 12,
   "id": "144f70f5-b416-43f3-be10-90226b58f10d",
   "metadata": {},
   "outputs": [],
   "source": [
    "DimMatch.write.csv('../data/DimMatches', header=True)"
   ]
  },
  {
   "cell_type": "markdown",
   "id": "fe7d8d40-e5b3-4506-bc82-331b479be8cb",
   "metadata": {},
   "source": [
    "#### Loading the DimMatch for DWH Schema in ArsenalFC Database in Post"
   ]
  },
  {
   "cell_type": "code",
   "execution_count": 12,
   "id": "21da7986-b15d-4b9b-8832-4a467fc84e75",
   "metadata": {},
   "outputs": [],
   "source": [
    "DimMatch=spark.read.csv('../data/DimMatches/DimMatches.csv',header=True)"
   ]
  },
  {
   "cell_type": "code",
   "execution_count": 14,
   "id": "af9f43b0-3487-44f6-9ca7-70c603822dca",
   "metadata": {},
   "outputs": [],
   "source": [
    "DimMatch.write.format(\"jdbc\") \\\n",
    "    .option(\"url\", \"jdbc:postgresql://postgres:5432/mydatabase\") \\\n",
    "    .option(\"driver\", \"org.postgresql.Driver\") \\\n",
    "    .option(\"dbtable\", \"dwh.DimArsenalMatches\") \\\n",
    "    .option(\"user\", \"postgres\") \\\n",
    "    .option(\"password\", \"postgres\") \\\n",
    "    .mode(\"overwrite\") \\\n",
    "    .save()"
   ]
  },
  {
   "cell_type": "code",
   "execution_count": 15,
   "id": "55c9cf81-0516-44b8-9775-510dc39b284d",
   "metadata": {},
   "outputs": [],
   "source": [
    "from pyspark.sql.functions import to_date,date_format"
   ]
  },
  {
   "cell_type": "code",
   "execution_count": 16,
   "id": "d56180d1-2e75-4dba-a318-fc60a232eea3",
   "metadata": {},
   "outputs": [
    {
     "data": {
      "text/plain": [
       "['Season',\n",
       " 'Tour',\n",
       " 'Date',\n",
       " 'Time',\n",
       " 'Opponent',\n",
       " 'HoAw',\n",
       " 'ArsenalScore',\n",
       " 'OpponentScore',\n",
       " 'Stadium',\n",
       " 'Attendance',\n",
       " 'Coach',\n",
       " 'Referee',\n",
       " 'MatchID']"
      ]
     },
     "execution_count": 16,
     "metadata": {},
     "output_type": "execute_result"
    }
   ],
   "source": [
    "DimMatch.columns"
   ]
  },
  {
   "cell_type": "code",
   "execution_count": 17,
   "id": "5356009e-9445-467f-88c2-79b50fadb2a9",
   "metadata": {},
   "outputs": [],
   "source": [
    "DimMatch=DimMatch.withColumn(\"FormattedDate\", date_format(to_date(\"Date\", \"yyyy-MM-dd\"), \"yyyy-MM-dd\"))"
   ]
  },
  {
   "cell_type": "code",
   "execution_count": 18,
   "id": "e604400f-7d68-4f86-9fee-0467d1fcc6a1",
   "metadata": {},
   "outputs": [
    {
     "data": {
      "text/plain": [
       "['Season',\n",
       " 'Tour',\n",
       " 'Date',\n",
       " 'Time',\n",
       " 'Opponent',\n",
       " 'HoAw',\n",
       " 'ArsenalScore',\n",
       " 'OpponentScore',\n",
       " 'Stadium',\n",
       " 'Attendance',\n",
       " 'Coach',\n",
       " 'Referee',\n",
       " 'MatchID',\n",
       " 'FormattedDate']"
      ]
     },
     "execution_count": 18,
     "metadata": {},
     "output_type": "execute_result"
    }
   ],
   "source": [
    "DimMatch.columns"
   ]
  },
  {
   "cell_type": "code",
   "execution_count": 19,
   "id": "d2476169-2ea0-4474-a2e7-62237d0b1b6d",
   "metadata": {},
   "outputs": [],
   "source": [
    "DimMatch.createOrReplaceTempView(\"dimmatch\")"
   ]
  },
  {
   "cell_type": "code",
   "execution_count": 20,
   "id": "deee2341-01c4-4460-b3ed-c59f0e44ee2c",
   "metadata": {},
   "outputs": [
    {
     "name": "stdout",
     "output_type": "stream",
     "text": [
      "+----------+\n",
      "|      Date|\n",
      "+----------+\n",
      "|2017-12-22|\n",
      "|2020-09-12|\n",
      "|2020-06-20|\n",
      "|2018-12-22|\n",
      "|2017-10-01|\n",
      "|2019-09-22|\n",
      "|2018-09-15|\n",
      "|2022-02-19|\n",
      "|2020-11-29|\n",
      "|2018-12-16|\n",
      "|2020-01-01|\n",
      "|2022-04-04|\n",
      "|2018-10-07|\n",
      "|2021-12-06|\n",
      "|2020-12-16|\n",
      "|2022-05-16|\n",
      "|2019-10-06|\n",
      "|2018-11-11|\n",
      "|2019-04-01|\n",
      "|2019-12-09|\n",
      "+----------+\n",
      "only showing top 20 rows\n",
      "\n"
     ]
    }
   ],
   "source": [
    "spark.sql(\"\"\"\n",
    "    select distinct Date\n",
    "    from dimmatch\n",
    "\n",
    "\"\"\").show()"
   ]
  },
  {
   "cell_type": "code",
   "execution_count": 21,
   "id": "112a9a96-4a40-45dd-b700-d2582920928f",
   "metadata": {},
   "outputs": [
    {
     "name": "stdout",
     "output_type": "stream",
     "text": [
      "+-------------+\n",
      "|FormattedDate|\n",
      "+-------------+\n",
      "|   2017-12-22|\n",
      "|   2020-09-12|\n",
      "|   2020-06-20|\n",
      "|   2018-12-22|\n",
      "|   2017-10-01|\n",
      "|   2019-09-22|\n",
      "|   2018-09-15|\n",
      "|   2022-02-19|\n",
      "|   2020-11-29|\n",
      "|   2018-12-16|\n",
      "|   2020-01-01|\n",
      "|   2022-04-04|\n",
      "|   2018-10-07|\n",
      "|   2021-12-06|\n",
      "|   2020-12-16|\n",
      "|   2022-05-16|\n",
      "|   2019-10-06|\n",
      "|   2018-11-11|\n",
      "|   2019-04-01|\n",
      "|   2019-12-09|\n",
      "+-------------+\n",
      "only showing top 20 rows\n",
      "\n"
     ]
    }
   ],
   "source": [
    "spark.sql(\"\"\"\n",
    "    select distinct FormattedDate\n",
    "    from dimmatch\n",
    "\n",
    "\"\"\").show()"
   ]
  },
  {
   "cell_type": "code",
   "execution_count": 22,
   "id": "547c64a8-7c70-48c2-aca4-7f1fa3e427e0",
   "metadata": {},
   "outputs": [
    {
     "data": {
      "text/plain": [
       "StructType([StructField('Season', StringType(), True), StructField('Tour', StringType(), True), StructField('Date', StringType(), True), StructField('Time', StringType(), True), StructField('Opponent', StringType(), True), StructField('HoAw', StringType(), True), StructField('ArsenalScore', StringType(), True), StructField('OpponentScore', StringType(), True), StructField('Stadium', StringType(), True), StructField('Attendance', StringType(), True), StructField('Coach', StringType(), True), StructField('Referee', StringType(), True), StructField('MatchID', StringType(), True), StructField('FormattedDate', StringType(), True)])"
      ]
     },
     "execution_count": 22,
     "metadata": {},
     "output_type": "execute_result"
    }
   ],
   "source": [
    "DimMatch.schema"
   ]
  },
  {
   "cell_type": "code",
   "execution_count": 23,
   "id": "24dc7902-5699-4868-bf05-ccf9b2635fc1",
   "metadata": {},
   "outputs": [],
   "source": [
    "DimMatch.write.format(\"jdbc\") \\\n",
    "    .option(\"url\", \"jdbc:postgresql://postgres:5432/mydatabase\") \\\n",
    "    .option(\"driver\", \"org.postgresql.Driver\") \\\n",
    "    .option(\"dbtable\", \"dwh.DimArsenalMatches\") \\\n",
    "    .option(\"user\", \"postgres\") \\\n",
    "    .option(\"password\", \"postgres\") \\\n",
    "    .mode(\"overwrite\") \\\n",
    "    .save()"
   ]
  },
  {
   "cell_type": "code",
   "execution_count": 24,
   "id": "af301005-747f-4521-b51d-0858e6a8fe95",
   "metadata": {},
   "outputs": [],
   "source": [
    "DimMatch.write.format(\"jdbc\") \\\n",
    "    .option(\"url\", \"jdbc:postgresql://postgres:5432/mydatabase\") \\\n",
    "    .option(\"driver\", \"org.postgresql.Driver\") \\\n",
    "    .option(\"dbtable\", \"dwh.DimArsenalMatches\") \\\n",
    "    .option(\"user\", \"postgres\") \\\n",
    "    .option(\"password\", \"postgres\") \\\n",
    "    .mode(\"overwrite\") \\\n",
    "    .save()"
   ]
  },
  {
   "cell_type": "code",
   "execution_count": null,
   "id": "68865fec-f616-42ea-a769-d684bf80ba95",
   "metadata": {},
   "outputs": [],
   "source": []
  }
 ],
 "metadata": {
  "kernelspec": {
   "display_name": "Python 3 (ipykernel)",
   "language": "python",
   "name": "python3"
  },
  "language_info": {
   "codemirror_mode": {
    "name": "ipython",
    "version": 3
   },
   "file_extension": ".py",
   "mimetype": "text/x-python",
   "name": "python",
   "nbconvert_exporter": "python",
   "pygments_lexer": "ipython3",
   "version": "3.11.6"
  }
 },
 "nbformat": 4,
 "nbformat_minor": 5
}
