{
 "cells": [
  {
   "cell_type": "code",
   "execution_count": 1,
   "id": "b6d3ca77-6b6c-485d-855a-6c34e3704281",
   "metadata": {},
   "outputs": [],
   "source": [
    "from pyspark.sql import SparkSession\n",
    "from pyspark.sql.functions import *"
   ]
  },
  {
   "cell_type": "code",
   "execution_count": 2,
   "id": "154262c4-8ff2-4d31-b049-ffad5d9e0811",
   "metadata": {},
   "outputs": [],
   "source": [
    "spark= SparkSession.builder.getOrCreate()"
   ]
  },
  {
   "cell_type": "code",
   "execution_count": 3,
   "id": "b8f4397e-38c0-445d-bc1a-948a8b307d66",
   "metadata": {},
   "outputs": [],
   "source": [
    "matches=spark.read.format('csv') \\\n",
    "    .option('header','True') \\\n",
    "    .option('inferschema','True') \\\n",
    "    .load('../data/matches.csv')"
   ]
  },
  {
   "cell_type": "code",
   "execution_count": 4,
   "id": "cc0b5bc3-f9fa-4076-9bdb-4e4d9ce4de5b",
   "metadata": {},
   "outputs": [
    {
     "name": "stdout",
     "output_type": "stream",
     "text": [
      "+-------+----+----------+-------------------+----------+----+------------+-------------+----------------+----------+-------------+--------------+\n",
      "| Season|Tour|      Date|               Time|  Opponent|HoAw|ArsenalScore|OpponentScore|         Stadium|Attendance|        Coach|       Referee|\n",
      "+-------+----+----------+-------------------+----------+----+------------+-------------+----------------+----------+-------------+--------------+\n",
      "|2017/18|   1|2017-08-11|2025-03-22 20:45:00| Leicester|home|           4|            3|Emirates Stadium|     59387|Arsène Wenger|     Mike Dean|\n",
      "|2017/18|   2|2017-08-19|2025-03-22 18:30:00|Stoke City|away|           0|            1|  bet365 Stadium|     29459|Arsène Wenger|Andre Marriner|\n",
      "|2017/18|   3|2017-08-27|2025-03-22 17:00:00| Liverpool|away|           0|            4|         Anfield|     53206|Arsène Wenger|  Craig Pawson|\n",
      "+-------+----+----------+-------------------+----------+----+------------+-------------+----------------+----------+-------------+--------------+\n",
      "only showing top 3 rows\n",
      "\n"
     ]
    }
   ],
   "source": [
    "matches.show(3)"
   ]
  },
  {
   "cell_type": "code",
   "execution_count": 5,
   "id": "5c01e234-1be8-4e74-ae7c-480ae9f7db43",
   "metadata": {},
   "outputs": [
    {
     "data": {
      "text/plain": [
       "StructType([StructField('Season', StringType(), True), StructField('Tour', IntegerType(), True), StructField('Date', DateType(), True), StructField('Time', TimestampType(), True), StructField('Opponent', StringType(), True), StructField('HoAw', StringType(), True), StructField('ArsenalScore', IntegerType(), True), StructField('OpponentScore', IntegerType(), True), StructField('Stadium', StringType(), True), StructField('Attendance', IntegerType(), True), StructField('Coach', StringType(), True), StructField('Referee', StringType(), True)])"
      ]
     },
     "execution_count": 5,
     "metadata": {},
     "output_type": "execute_result"
    }
   ],
   "source": [
    "matches.schema"
   ]
  },
  {
   "cell_type": "code",
   "execution_count": 6,
   "id": "bd8d5174-bec1-4b4e-9db4-7885d542c0e5",
   "metadata": {},
   "outputs": [],
   "source": [
    "matches.createOrReplaceTempView(\"Matches\")"
   ]
  },
  {
   "cell_type": "code",
   "execution_count": 7,
   "id": "86bb7de4-8d6d-43b9-8058-c7c8162ab963",
   "metadata": {},
   "outputs": [
    {
     "name": "stdout",
     "output_type": "stream",
     "text": [
      "+--------------------+\n",
      "|count(DISTINCT Date)|\n",
      "+--------------------+\n",
      "|                 214|\n",
      "+--------------------+\n",
      "\n"
     ]
    }
   ],
   "source": [
    "distinct_matches=spark.sql('''\n",
    "    select count(distinct Date) \n",
    "    from Matches\n",
    "\n",
    "''').show()"
   ]
  },
  {
   "cell_type": "code",
   "execution_count": 8,
   "id": "d7f62eaf-9a5f-4575-8ee6-715eb5d8a993",
   "metadata": {},
   "outputs": [
    {
     "name": "stdout",
     "output_type": "stream",
     "text": [
      "+-----------+\n",
      "|count(Date)|\n",
      "+-----------+\n",
      "|        214|\n",
      "+-----------+\n",
      "\n"
     ]
    }
   ],
   "source": [
    "Matches=spark.sql(\"\"\"\n",
    "    select count(Date)\n",
    "    from Matches\n",
    "\"\"\").show()"
   ]
  },
  {
   "cell_type": "code",
   "execution_count": 9,
   "id": "63098533-11b3-4d2e-a837-e545dc5a2e30",
   "metadata": {},
   "outputs": [
    {
     "data": {
      "text/plain": [
       "['Season',\n",
       " 'Tour',\n",
       " 'Date',\n",
       " 'Time',\n",
       " 'Opponent',\n",
       " 'HoAw',\n",
       " 'ArsenalScore',\n",
       " 'OpponentScore',\n",
       " 'Stadium',\n",
       " 'Attendance',\n",
       " 'Coach',\n",
       " 'Referee']"
      ]
     },
     "execution_count": 9,
     "metadata": {},
     "output_type": "execute_result"
    }
   ],
   "source": [
    "matches.columns"
   ]
  },
  {
   "cell_type": "code",
   "execution_count": 10,
   "id": "e0979b13-2af5-4f43-b402-dd382e2d034b",
   "metadata": {},
   "outputs": [],
   "source": [
    "DimMatch= matches.withColumn(\"MatchID\", monotonically_increasing_id())"
   ]
  },
  {
   "cell_type": "code",
   "execution_count": 11,
   "id": "157b0631-5fd7-4534-adb2-ab1bff2c06aa",
   "metadata": {},
   "outputs": [
    {
     "data": {
      "text/plain": [
       "['Season',\n",
       " 'Tour',\n",
       " 'Date',\n",
       " 'Time',\n",
       " 'Opponent',\n",
       " 'HoAw',\n",
       " 'ArsenalScore',\n",
       " 'OpponentScore',\n",
       " 'Stadium',\n",
       " 'Attendance',\n",
       " 'Coach',\n",
       " 'Referee',\n",
       " 'MatchID']"
      ]
     },
     "execution_count": 11,
     "metadata": {},
     "output_type": "execute_result"
    }
   ],
   "source": [
    "DimMatch.columns"
   ]
  },
  {
   "cell_type": "code",
   "execution_count": 13,
   "id": "144f70f5-b416-43f3-be10-90226b58f10d",
   "metadata": {},
   "outputs": [],
   "source": [
    "DimMatch.write.csv('../data/DimMatches', header=True)"
   ]
  },
  {
   "cell_type": "code",
   "execution_count": null,
   "id": "c1defdb7-5db6-47fc-b426-90c36300c5d9",
   "metadata": {},
   "outputs": [],
   "source": []
  }
 ],
 "metadata": {
  "kernelspec": {
   "display_name": "Python 3 (ipykernel)",
   "language": "python",
   "name": "python3"
  },
  "language_info": {
   "codemirror_mode": {
    "name": "ipython",
    "version": 3
   },
   "file_extension": ".py",
   "mimetype": "text/x-python",
   "name": "python",
   "nbconvert_exporter": "python",
   "pygments_lexer": "ipython3",
   "version": "3.11.6"
  }
 },
 "nbformat": 4,
 "nbformat_minor": 5
}
