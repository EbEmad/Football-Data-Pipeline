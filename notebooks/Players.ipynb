{
 "cells": [
  {
   "cell_type": "code",
   "execution_count": 2,
   "id": "99e9f05d-4ef3-4574-bc85-b1ebb8de8245",
   "metadata": {},
   "outputs": [],
   "source": [
    "from pyspark.sql import SparkSession\n",
    "from pyspark.sql.functions import *"
   ]
  },
  {
   "cell_type": "code",
   "execution_count": 3,
   "id": "b5d91cc8-dfed-4965-bc94-3c1b33005556",
   "metadata": {},
   "outputs": [],
   "source": [
    "spark = SparkSession.builder.config(\"spark.jars\", \"/Drivers/SQL_Sever/jdbc/postgresql-42.7.3.jar\")\\\n",
    ".getOrCreate()"
   ]
  },
  {
   "cell_type": "code",
   "execution_count": 4,
   "id": "a9923563-c439-44d5-88c4-9a8d7ff2b80f",
   "metadata": {},
   "outputs": [],
   "source": [
    "players=spark.read.format('csv')\\\n",
    "    .option('header','True') \\\n",
    "    .option('inferSchema','True') \\\n",
    "    .load('../data/players.csv')"
   ]
  },
  {
   "cell_type": "code",
   "execution_count": 5,
   "id": "d8e08730-4296-4ded-ac06-083f5bdebdf8",
   "metadata": {},
   "outputs": [
    {
     "name": "stdout",
     "output_type": "stream",
     "text": [
      "+---------+---------+---------+-----+---+---+---+---+---+---+---+---+---+---+-------+-------+----+------+---+----+---+------+-------+------+-------+------+----------+---+\n",
      "| LastName|FirstName|     Date|Start|Pos|Min|  G|  A| PK|PKA|  S|SoT| YK| RK|Touches|Tackles|Ints|Blocks| xG|npxG|xAG|Passes|PassesA|PrgPas|Carries|PrgCar|      Line|  C|\n",
      "+---------+---------+---------+-----+---+---+---+---+---+---+---+---+---+---+-------+-------+----+------+---+----+---+------+-------+------+-------+------+----------+---+\n",
      "| Bellerin|   Hector|8/11/2017|    1| WB| 90|  0|  0|  0|  0|  1|  1|  0|  0|     79|      3|   0|     0|0.3| 0.3|0.0|    61|     70|     3|     51|     1|  Defender|  0|\n",
      "|   Elneny|  Mohamed|8/11/2017|    1| CM| 66|  0|  1|  0|  0|  1|  0|  0|  0|     82|      4|   0|     2|0.0| 0.0|0.1|    65|     72|     4|     57|     0|Midfielder|  0|\n",
      "|  Holding|      Rob|8/11/2017|    1| CB| 66|  0|  0|  0|  0|  0|  0|  0|  0|     75|      1|   1|     0|0.0| 0.0|0.0|    50|     60|     4|     50|     1|  Defender|  0|\n",
      "|Kolasinac|     Sead|8/11/2017|    1| CB| 90|  0|  1|  0|  0|  1|  1|  0|  0|     81|      4|   1|     0|0.0| 0.0|0.6|    59|     73|     9|     49|     7|  Defender|  0|\n",
      "|Lacazette|Alexandre|8/11/2017|    1| FW| 90|  1|  0|  0|  0|  3|  2|  0|  0|     34|      2|   0|     1|0.3| 0.3|0.4|    20|     24|     3|     19|     1|   Forward|  0|\n",
      "|  Monreal|    Nacho|8/11/2017|    1| CB| 90|  0|  0|  0|  0|  0|  0|  0|  0|     70|      2|   5|     0|0.0| 0.0|0.0|    54|     57|     3|     43|     1|  Defender|  0|\n",
      "|     Ozil|    Mesut|8/11/2017|    1| AM| 90|  0|  0|  0|  0|  3|  0|  0|  0|     95|      1|   0|     1|0.1| 0.1|0.6|    70|     86|     6|     69|     3|Midfielder|  0|\n",
      "|  Welbeck|    Danny|8/11/2017|    1| AM| 74|  1|  0|  0|  0|  3|  1|  0|  0|     31|      1|   1|     0|1.0| 1.0|0.4|    16|     21|     2|     18|     3|Midfielder|  0|\n",
      "|    Xhaka|   Granit|8/11/2017|    1| CM| 90|  0|  2|  0|  0|  4|  1|  0|  0|    114|      1|   1|     1|0.1| 0.1|0.2|    86|    106|    20|     80|     4|Midfielder|  0|\n",
      "|   Ramsey|    Aaron|8/11/2017|    0| DM| 24|  1|  0|  0|  0|  4|  1|  0|  0|     19|      0|   0|     0|0.4| 0.4|0.0|     9|     12|     1|     13|     0|Midfielder|  0|\n",
      "| Bellerin|   Hector|8/19/2017|    1| WB| 90|  0|  0|  0|  0|  2|  1|  0|  0|     83|      2|   0|     0|0.1| 0.1|0.0|    66|     77|     6|     47|     2|  Defender|  0|\n",
      "|Kolasinac|     Sead|8/19/2017|    1| CB| 65|  0|  0|  0|  0|  0|  0|  0|  0|     60|      0|   0|     0|0.0| 0.0|0.0|    52|     58|     5|     43|     2|  Defender|  0|\n",
      "|Lacazette|Alexandre|8/19/2017|    1| FW| 77|  0|  0|  0|  0|  0|  0|  0|  0|     47|      0|   0|     1|0.0| 0.0|0.0|    29|     39|     4|     28|     1|   Forward|  0|\n",
      "|  Monreal|    Nacho|8/19/2017|    1| CB| 90|  0|  0|  0|  0|  0|  0|  0|  0|     88|      3|   0|     0|0.0| 0.0|0.1|    76|     83|     2|     61|     0|  Defender|  0|\n",
      "|  Mustafi| Shkodran|8/19/2017|    1| CB| 90|  0|  0|  0|  0|  1|  0|  0|  0|     95|      3|   1|     0|0.0| 0.0|0.1|    76|     89|     6|     72|     3|  Defender|  0|\n",
      "|     Ozil|    Mesut|8/19/2017|    1| AM| 90|  0|  0|  0|  0|  2|  0|  0|  0|    106|      0|   0|     0|0.1| 0.1|0.5|    94|    103|    15|     84|     7|Midfielder|  0|\n",
      "|   Ramsey|    Aaron|8/19/2017|    1| CM| 90|  0|  0|  0|  0|  4|  2|  0|  0|     96|      3|   0|     1|0.5| 0.5|0.0|    74|     85|    12|     73|     1|Midfielder|  0|\n",
      "|  Welbeck|    Danny|8/19/2017|    1| AM| 90|  0|  0|  0|  0|  3|  2|  0|  0|     32|      1|   0|     0|0.6| 0.6|0.0|    19|     24|     2|     28|     3|Midfielder|  0|\n",
      "|    Xhaka|   Granit|8/19/2017|    1| CM| 78|  0|  0|  0|  0|  2|  1|  0|  0|    113|      0|   3|     0|0.1| 0.1|0.1|    86|    106|    17|     85|     3|Midfielder|  0|\n",
      "|    Iwobi|     Alex|8/19/2017|    0| DM| 12|  0|  0|  0|  0|  0|  0|  0|  0|     24|      1|   0|     0|0.0| 0.0|0.0|    22|     24|     6|     21|     2|Midfielder|  0|\n",
      "+---------+---------+---------+-----+---+---+---+---+---+---+---+---+---+---+-------+-------+----+------+---+----+---+------+-------+------+-------+------+----------+---+\n",
      "only showing top 20 rows\n",
      "\n"
     ]
    }
   ],
   "source": [
    "players.show()"
   ]
  },
  {
   "cell_type": "code",
   "execution_count": 6,
   "id": "d0fb4a2c-bba0-40f7-b195-5b9a27c28fd5",
   "metadata": {},
   "outputs": [
    {
     "data": {
      "text/plain": [
       "['LastName',\n",
       " 'FirstName',\n",
       " 'Date',\n",
       " 'Start',\n",
       " 'Pos',\n",
       " 'Min',\n",
       " 'G',\n",
       " 'A',\n",
       " 'PK',\n",
       " 'PKA',\n",
       " 'S',\n",
       " 'SoT',\n",
       " 'YK',\n",
       " 'RK',\n",
       " 'Touches',\n",
       " 'Tackles',\n",
       " 'Ints',\n",
       " 'Blocks',\n",
       " 'xG',\n",
       " 'npxG',\n",
       " 'xAG',\n",
       " 'Passes',\n",
       " 'PassesA',\n",
       " 'PrgPas',\n",
       " 'Carries',\n",
       " 'PrgCar',\n",
       " 'Line',\n",
       " 'C']"
      ]
     },
     "execution_count": 6,
     "metadata": {},
     "output_type": "execute_result"
    }
   ],
   "source": [
    "players.columns"
   ]
  },
  {
   "cell_type": "code",
   "execution_count": 7,
   "id": "620b0c15-a998-43b1-a8d5-1e3e4ba0e255",
   "metadata": {},
   "outputs": [
    {
     "data": {
      "text/plain": [
       "StructType([StructField('LastName', StringType(), True), StructField('FirstName', StringType(), True), StructField('Date', StringType(), True), StructField('Start', IntegerType(), True), StructField('Pos', StringType(), True), StructField('Min', IntegerType(), True), StructField('G', IntegerType(), True), StructField('A', IntegerType(), True), StructField('PK', IntegerType(), True), StructField('PKA', IntegerType(), True), StructField('S', IntegerType(), True), StructField('SoT', IntegerType(), True), StructField('YK', IntegerType(), True), StructField('RK', IntegerType(), True), StructField('Touches', IntegerType(), True), StructField('Tackles', IntegerType(), True), StructField('Ints', IntegerType(), True), StructField('Blocks', IntegerType(), True), StructField('xG', DoubleType(), True), StructField('npxG', DoubleType(), True), StructField('xAG', DoubleType(), True), StructField('Passes', IntegerType(), True), StructField('PassesA', IntegerType(), True), StructField('PrgPas', IntegerType(), True), StructField('Carries', IntegerType(), True), StructField('PrgCar', IntegerType(), True), StructField('Line', StringType(), True), StructField('C', IntegerType(), True)])"
      ]
     },
     "execution_count": 7,
     "metadata": {},
     "output_type": "execute_result"
    }
   ],
   "source": [
    "players.schema"
   ]
  },
  {
   "cell_type": "code",
   "execution_count": 8,
   "id": "b6ae6ade-55c4-4056-ad18-9e232ed5e10d",
   "metadata": {},
   "outputs": [],
   "source": [
    "players.createOrReplaceTempView(\"players\")"
   ]
  },
  {
   "cell_type": "code",
   "execution_count": 9,
   "id": "261bf236-23c2-42de-b8f7-736d080867da",
   "metadata": {},
   "outputs": [
    {
     "data": {
      "text/plain": [
       "2741"
      ]
     },
     "execution_count": 9,
     "metadata": {},
     "output_type": "execute_result"
    }
   ],
   "source": [
    "spark.sql('''\n",
    "        select concat(firstname,\" \",lastname) as fullname\n",
    "        from players\n",
    "          \n",
    "          ''').count()"
   ]
  },
  {
   "cell_type": "code",
   "execution_count": 10,
   "id": "3e0d5ef1-720b-431d-b9f1-7536761b0d6c",
   "metadata": {},
   "outputs": [],
   "source": [
    "distinct_players=spark.sql('''\n",
    "        select distinct concat(firstname,\" \",lastname) as fullname\n",
    "        from players\n",
    "          \n",
    "          ''')"
   ]
  },
  {
   "cell_type": "code",
   "execution_count": 11,
   "id": "dbdd57c0-52dc-4277-86c9-8502855f4fe6",
   "metadata": {},
   "outputs": [],
   "source": [
    "players_dates=spark.sql('''\n",
    "    select count(distinct Date)\n",
    "    from players\n",
    "\n",
    "''')"
   ]
  },
  {
   "cell_type": "code",
   "execution_count": 12,
   "id": "fdff38a7-34de-4b2d-b7e6-f64ebd00c0af",
   "metadata": {},
   "outputs": [
    {
     "name": "stdout",
     "output_type": "stream",
     "text": [
      "+--------------------+\n",
      "|count(DISTINCT Date)|\n",
      "+--------------------+\n",
      "|                 214|\n",
      "+--------------------+\n",
      "\n"
     ]
    }
   ],
   "source": [
    "players_dates.show()"
   ]
  },
  {
   "cell_type": "markdown",
   "id": "13bcb0bf-9e64-4bc4-aa81-83ef9191f1c7",
   "metadata": {},
   "source": [
    "## Here we make sure that the distinct count date for matches in DimMatches Equal the distinct count Date for DimPlayers 214"
   ]
  },
  {
   "cell_type": "code",
   "execution_count": 13,
   "id": "16e16729-df45-4029-8e14-8f7b5c131fac",
   "metadata": {},
   "outputs": [],
   "source": [
    "distinct_players=distinct_players.withColumn('PlayersID',monotonically_increasing_id())"
   ]
  },
  {
   "cell_type": "code",
   "execution_count": 14,
   "id": "265bfc92-6d83-4efa-9ec9-b3e19a8e327f",
   "metadata": {},
   "outputs": [
    {
     "name": "stdout",
     "output_type": "stream",
     "text": [
      "+-------------------+---------+\n",
      "|           fullname|PlayersID|\n",
      "+-------------------+---------+\n",
      "|   Emile Smith Rowe|        0|\n",
      "|    Folarin Balogun|        1|\n",
      "|    Hector Bellerin|        2|\n",
      "|        Joe Willock|        3|\n",
      "|     William Saliba|        4|\n",
      "|       Aaron Ramsey|        5|\n",
      "|        Bukayo Saka|        6|\n",
      "|     Kieran Tierney|        7|\n",
      "|   Shkodran Mustafi|        8|\n",
      "|    Daniel Ceballos|        9|\n",
      "|Alexandre Lacazette|       10|\n",
      "|     Kieran Willian|       11|\n",
      "|      Gabriel Jesus|       12|\n",
      "|      Danny Welbeck|       13|\n",
      "| Gabriel Marquinhos|       14|\n",
      "|         Pablo Mari|       15|\n",
      "|          Ben White|       16|\n",
      "|      Ethan Nwaneri|       17|\n",
      "|     Sead Kolasinac|       18|\n",
      "|     Calum Chambers|       19|\n",
      "+-------------------+---------+\n",
      "only showing top 20 rows\n",
      "\n"
     ]
    }
   ],
   "source": [
    "distinct_players.show()"
   ]
  },
  {
   "cell_type": "code",
   "execution_count": 15,
   "id": "5629a53a-badb-4192-8e85-37524f4bc293",
   "metadata": {},
   "outputs": [],
   "source": [
    "players=players.withColumn('fullname',concat_ws(' ',col('FirstName'),col('LastName')))"
   ]
  },
  {
   "cell_type": "code",
   "execution_count": 16,
   "id": "022f5759-5fdb-4954-9493-29cd328038ad",
   "metadata": {},
   "outputs": [
    {
     "data": {
      "text/plain": [
       "['LastName',\n",
       " 'FirstName',\n",
       " 'Date',\n",
       " 'Start',\n",
       " 'Pos',\n",
       " 'Min',\n",
       " 'G',\n",
       " 'A',\n",
       " 'PK',\n",
       " 'PKA',\n",
       " 'S',\n",
       " 'SoT',\n",
       " 'YK',\n",
       " 'RK',\n",
       " 'Touches',\n",
       " 'Tackles',\n",
       " 'Ints',\n",
       " 'Blocks',\n",
       " 'xG',\n",
       " 'npxG',\n",
       " 'xAG',\n",
       " 'Passes',\n",
       " 'PassesA',\n",
       " 'PrgPas',\n",
       " 'Carries',\n",
       " 'PrgCar',\n",
       " 'Line',\n",
       " 'C',\n",
       " 'fullname']"
      ]
     },
     "execution_count": 16,
     "metadata": {},
     "output_type": "execute_result"
    }
   ],
   "source": [
    "players.columns"
   ]
  },
  {
   "cell_type": "code",
   "execution_count": 17,
   "id": "02737677-2563-4560-bbd4-59702b69c037",
   "metadata": {},
   "outputs": [
    {
     "name": "stdout",
     "output_type": "stream",
     "text": [
      "+-------------------+\n",
      "|           fullname|\n",
      "+-------------------+\n",
      "|    Hector Bellerin|\n",
      "|     Mohamed Elneny|\n",
      "|        Rob Holding|\n",
      "|     Sead Kolasinac|\n",
      "|Alexandre Lacazette|\n",
      "+-------------------+\n",
      "only showing top 5 rows\n",
      "\n"
     ]
    }
   ],
   "source": [
    "players.select('fullname').show(5)"
   ]
  },
  {
   "cell_type": "code",
   "execution_count": 18,
   "id": "9c6e2722-7bec-4bca-b623-9643df8617df",
   "metadata": {},
   "outputs": [],
   "source": [
    "dimplayer=players.join(distinct_players,on='fullname',how='inner')"
   ]
  },
  {
   "cell_type": "code",
   "execution_count": 19,
   "id": "f37b58f6-9bc0-45a8-9025-7e41f7dfd6f3",
   "metadata": {},
   "outputs": [
    {
     "data": {
      "text/plain": [
       "['fullname',\n",
       " 'LastName',\n",
       " 'FirstName',\n",
       " 'Date',\n",
       " 'Start',\n",
       " 'Pos',\n",
       " 'Min',\n",
       " 'G',\n",
       " 'A',\n",
       " 'PK',\n",
       " 'PKA',\n",
       " 'S',\n",
       " 'SoT',\n",
       " 'YK',\n",
       " 'RK',\n",
       " 'Touches',\n",
       " 'Tackles',\n",
       " 'Ints',\n",
       " 'Blocks',\n",
       " 'xG',\n",
       " 'npxG',\n",
       " 'xAG',\n",
       " 'Passes',\n",
       " 'PassesA',\n",
       " 'PrgPas',\n",
       " 'Carries',\n",
       " 'PrgCar',\n",
       " 'Line',\n",
       " 'C',\n",
       " 'PlayersID']"
      ]
     },
     "execution_count": 19,
     "metadata": {},
     "output_type": "execute_result"
    }
   ],
   "source": [
    "dimplayer.columns"
   ]
  },
  {
   "cell_type": "code",
   "execution_count": 19,
   "id": "47b72d40-3682-46ca-97e6-277dba09ae59",
   "metadata": {},
   "outputs": [],
   "source": [
    "dimplayer.write.csv('../data/Dimplayers.csv', header=True)"
   ]
  },
  {
   "cell_type": "code",
   "execution_count": 20,
   "id": "a461b1b0-3fdf-41d0-a8ce-030e94589009",
   "metadata": {},
   "outputs": [
    {
     "name": "stdout",
     "output_type": "stream",
     "text": [
      "+---------+---------+---------+---------+-----+---+---+---+---+---+---+\n",
      "|PlayersID| LastName|FirstName|     Date|Start|Pos|Min|  G|  A| PK|PKA|\n",
      "+---------+---------+---------+---------+-----+---+---+---+---+---+---+\n",
      "|        2| Bellerin|   Hector|8/11/2017|    1| WB| 90|  0|  0|  0|  0|\n",
      "|       49|   Elneny|  Mohamed|8/11/2017|    1| CM| 66|  0|  1|  0|  0|\n",
      "|       26|  Holding|      Rob|8/11/2017|    1| CB| 66|  0|  0|  0|  0|\n",
      "|       18|Kolasinac|     Sead|8/11/2017|    1| CB| 90|  0|  1|  0|  0|\n",
      "|       10|Lacazette|Alexandre|8/11/2017|    1| FW| 90|  1|  0|  0|  0|\n",
      "|       21|  Monreal|    Nacho|8/11/2017|    1| CB| 90|  0|  0|  0|  0|\n",
      "|       53|     Ozil|    Mesut|8/11/2017|    1| AM| 90|  0|  0|  0|  0|\n",
      "|       13|  Welbeck|    Danny|8/11/2017|    1| AM| 74|  1|  0|  0|  0|\n",
      "|       44|    Xhaka|   Granit|8/11/2017|    1| CM| 90|  0|  2|  0|  0|\n",
      "|        5|   Ramsey|    Aaron|8/11/2017|    0| DM| 24|  1|  0|  0|  0|\n",
      "|        2| Bellerin|   Hector|8/19/2017|    1| WB| 90|  0|  0|  0|  0|\n",
      "|       18|Kolasinac|     Sead|8/19/2017|    1| CB| 65|  0|  0|  0|  0|\n",
      "|       10|Lacazette|Alexandre|8/19/2017|    1| FW| 77|  0|  0|  0|  0|\n",
      "|       21|  Monreal|    Nacho|8/19/2017|    1| CB| 90|  0|  0|  0|  0|\n",
      "|        8|  Mustafi| Shkodran|8/19/2017|    1| CB| 90|  0|  0|  0|  0|\n",
      "|       53|     Ozil|    Mesut|8/19/2017|    1| AM| 90|  0|  0|  0|  0|\n",
      "|        5|   Ramsey|    Aaron|8/19/2017|    1| CM| 90|  0|  0|  0|  0|\n",
      "|       13|  Welbeck|    Danny|8/19/2017|    1| AM| 90|  0|  0|  0|  0|\n",
      "|       44|    Xhaka|   Granit|8/19/2017|    1| CM| 78|  0|  0|  0|  0|\n",
      "|       50|    Iwobi|     Alex|8/19/2017|    0| DM| 12|  0|  0|  0|  0|\n",
      "+---------+---------+---------+---------+-----+---+---+---+---+---+---+\n",
      "only showing top 20 rows\n",
      "\n"
     ]
    }
   ],
   "source": [
    "dimplayer.select('PlayersID',\n",
    "'LastName',\n",
    " 'FirstName',\n",
    " 'Date',\n",
    " 'Start',\n",
    " 'Pos',\n",
    " 'Min',\n",
    " 'G',\n",
    " 'A',\n",
    " 'PK',\n",
    " 'PKA' \n",
    ").show()"
   ]
  },
  {
   "cell_type": "markdown",
   "id": "ce0633c0-7d77-4b5a-9461-07d3c435d9d7",
   "metadata": {},
   "source": [
    "### Creating the FactPlayers"
   ]
  },
  {
   "cell_type": "code",
   "execution_count": 21,
   "id": "76ac6d1b-a28b-434c-a6bc-7416e615e367",
   "metadata": {},
   "outputs": [],
   "source": [
    "dimmatch=spark.read.format('csv')\\\n",
    "    .option('header','True')\\\n",
    "    .option('inferSchema','True')\\\n",
    "    .load('../data/DimMatches/DimMatches.csv')"
   ]
  },
  {
   "cell_type": "code",
   "execution_count": 22,
   "id": "195fabb2-9328-4c38-808d-d74673950c8d",
   "metadata": {},
   "outputs": [
    {
     "data": {
      "text/plain": [
       "['Season',\n",
       " 'Tour',\n",
       " 'Date',\n",
       " 'Time',\n",
       " 'Opponent',\n",
       " 'HoAw',\n",
       " 'ArsenalScore',\n",
       " 'OpponentScore',\n",
       " 'Stadium',\n",
       " 'Attendance',\n",
       " 'Coach',\n",
       " 'Referee',\n",
       " 'MatchID']"
      ]
     },
     "execution_count": 22,
     "metadata": {},
     "output_type": "execute_result"
    }
   ],
   "source": [
    "dimmatch.columns"
   ]
  },
  {
   "cell_type": "code",
   "execution_count": 23,
   "id": "db8c2c86-0d59-466a-abc1-74a0843b0366",
   "metadata": {},
   "outputs": [],
   "source": [
    "dimplayers=spark.read.format('csv')\\\n",
    "    .option('header','True')\\\n",
    "    .option('inferSchema','True')\\\n",
    "    .load(\"../data/Dimplayers/DimPlayers.csv\")"
   ]
  },
  {
   "cell_type": "code",
   "execution_count": 24,
   "id": "044ed7c3-b1a4-4414-bbb9-413855564e4d",
   "metadata": {},
   "outputs": [
    {
     "data": {
      "text/plain": [
       "['fullname',\n",
       " 'LastName',\n",
       " 'FirstName',\n",
       " 'Date',\n",
       " 'Start',\n",
       " 'Pos',\n",
       " 'Min',\n",
       " 'G',\n",
       " 'A',\n",
       " 'PK',\n",
       " 'PKA',\n",
       " 'S',\n",
       " 'SoT',\n",
       " 'YK',\n",
       " 'RK',\n",
       " 'Touches',\n",
       " 'Tackles',\n",
       " 'Ints',\n",
       " 'Blocks',\n",
       " 'xG',\n",
       " 'npxG',\n",
       " 'xAG',\n",
       " 'Passes',\n",
       " 'PassesA',\n",
       " 'PrgPas',\n",
       " 'Carries',\n",
       " 'PrgCar',\n",
       " 'Line',\n",
       " 'C',\n",
       " 'PlayersID']"
      ]
     },
     "execution_count": 24,
     "metadata": {},
     "output_type": "execute_result"
    }
   ],
   "source": [
    "dimplayers.columns"
   ]
  },
  {
   "cell_type": "code",
   "execution_count": 25,
   "id": "dda7d5e4-26cd-49ef-86bb-ab0d55ab799e",
   "metadata": {},
   "outputs": [],
   "source": [
    "factplayers=dimmatch.join(dimplayers,on='Date',how='left')"
   ]
  },
  {
   "cell_type": "code",
   "execution_count": 26,
   "id": "3d3354a5-3bc9-4398-8899-65cba06ea02d",
   "metadata": {},
   "outputs": [
    {
     "name": "stdout",
     "output_type": "stream",
     "text": [
      "+----------+-------+----+-------------------+--------------+----+------------+-------------+-----------------+----------+-------------+---------------+-------+--------+--------+---------+-----+----+----+----+----+----+----+----+----+----+----+-------+-------+----+------+----+----+----+------+-------+------+-------+------+----+----+---------+\n",
      "|      Date| Season|Tour|               Time|      Opponent|HoAw|ArsenalScore|OpponentScore|          Stadium|Attendance|        Coach|        Referee|MatchID|fullname|LastName|FirstName|Start| Pos| Min|   G|   A|  PK| PKA|   S| SoT|  YK|  RK|Touches|Tackles|Ints|Blocks|  xG|npxG| xAG|Passes|PassesA|PrgPas|Carries|PrgCar|Line|   C|PlayersID|\n",
      "+----------+-------+----+-------------------+--------------+----+------------+-------------+-----------------+----------+-------------+---------------+-------+--------+--------+---------+-----+----+----+----+----+----+----+----+----+----+----+-------+-------+----+------+----+----+----+------+-------+------+-------+------+----+----+---------+\n",
      "|2017-08-11|2017/18|   1|2025-03-27 20:45:00|     Leicester|home|           4|            3| Emirates Stadium|     59387|Arsène Wenger|      Mike Dean|      0|    NULL|    NULL|     NULL| NULL|NULL|NULL|NULL|NULL|NULL|NULL|NULL|NULL|NULL|NULL|   NULL|   NULL|NULL|  NULL|NULL|NULL|NULL|  NULL|   NULL|  NULL|   NULL|  NULL|NULL|NULL|     NULL|\n",
      "|2017-08-19|2017/18|   2|2025-03-27 18:30:00|    Stoke City|away|           0|            1|   bet365 Stadium|     29459|Arsène Wenger| Andre Marriner|      1|    NULL|    NULL|     NULL| NULL|NULL|NULL|NULL|NULL|NULL|NULL|NULL|NULL|NULL|NULL|   NULL|   NULL|NULL|  NULL|NULL|NULL|NULL|  NULL|   NULL|  NULL|   NULL|  NULL|NULL|NULL|     NULL|\n",
      "|2017-08-27|2017/18|   3|2025-03-27 17:00:00|     Liverpool|away|           0|            4|          Anfield|     53206|Arsène Wenger|   Craig Pawson|      2|    NULL|    NULL|     NULL| NULL|NULL|NULL|NULL|NULL|NULL|NULL|NULL|NULL|NULL|NULL|   NULL|   NULL|NULL|  NULL|NULL|NULL|NULL|  NULL|   NULL|  NULL|   NULL|  NULL|NULL|NULL|     NULL|\n",
      "|2017-09-09|2017/18|   4|2025-03-27 16:00:00|   Bournemouth|home|           3|            0| Emirates Stadium|     59262|Arsène Wenger| Anthony Taylor|      3|    NULL|    NULL|     NULL| NULL|NULL|NULL|NULL|NULL|NULL|NULL|NULL|NULL|NULL|NULL|   NULL|   NULL|NULL|  NULL|NULL|NULL|NULL|  NULL|   NULL|  NULL|   NULL|  NULL|NULL|NULL|     NULL|\n",
      "|2017-09-17|2017/18|   5|2025-03-27 14:30:00|       Chelsea|away|           0|            0|  Stamford Bridge|     41478|Arsène Wenger| Michael Oliver|      4|    NULL|    NULL|     NULL| NULL|NULL|NULL|NULL|NULL|NULL|NULL|NULL|NULL|NULL|NULL|   NULL|   NULL|NULL|  NULL|NULL|NULL|NULL|  NULL|   NULL|  NULL|   NULL|  NULL|NULL|NULL|     NULL|\n",
      "|2017-09-25|2017/18|   6|2025-03-27 21:00:00|     West Brom|home|           2|            0| Emirates Stadium|     59134|Arsène Wenger|   Bobby Madley|      5|    NULL|    NULL|     NULL| NULL|NULL|NULL|NULL|NULL|NULL|NULL|NULL|NULL|NULL|NULL|   NULL|   NULL|NULL|  NULL|NULL|NULL|NULL|  NULL|   NULL|  NULL|   NULL|  NULL|NULL|NULL|     NULL|\n",
      "|2017-10-01|2017/18|   7|2025-03-27 13:00:00|      Brighton|home|           2|            0| Emirates Stadium|     59378|Arsène Wenger|   Kevin Friend|      6|    NULL|    NULL|     NULL| NULL|NULL|NULL|NULL|NULL|NULL|NULL|NULL|NULL|NULL|NULL|   NULL|   NULL|NULL|  NULL|NULL|NULL|NULL|  NULL|   NULL|  NULL|   NULL|  NULL|NULL|NULL|     NULL|\n",
      "|2017-10-14|2017/18|   8|2025-03-27 18:30:00|       Watford|away|           1|            2|    Vicarage Road|     20384|Arsène Wenger| Neil Swarbrick|      7|    NULL|    NULL|     NULL| NULL|NULL|NULL|NULL|NULL|NULL|NULL|NULL|NULL|NULL|NULL|   NULL|   NULL|NULL|  NULL|NULL|NULL|NULL|  NULL|   NULL|  NULL|   NULL|  NULL|NULL|NULL|     NULL|\n",
      "|2017-10-22|2017/18|   9|2025-03-27 14:30:00|       Everton|away|           5|            2|    Goodison Park|     39189|Arsène Wenger|   Craig Pawson|      8|    NULL|    NULL|     NULL| NULL|NULL|NULL|NULL|NULL|NULL|NULL|NULL|NULL|NULL|NULL|   NULL|   NULL|NULL|  NULL|NULL|NULL|NULL|  NULL|   NULL|  NULL|   NULL|  NULL|NULL|NULL|     NULL|\n",
      "|2017-10-28|2017/18|  10|2025-03-27 16:00:00|       Swansea|home|           2|            1| Emirates Stadium|     59493|Arsène Wenger|      Lee Mason|      9|    NULL|    NULL|     NULL| NULL|NULL|NULL|NULL|NULL|NULL|NULL|NULL|NULL|NULL|NULL|   NULL|   NULL|NULL|  NULL|NULL|NULL|NULL|  NULL|   NULL|  NULL|   NULL|  NULL|NULL|NULL|     NULL|\n",
      "|2017-11-05|2017/18|  11|2025-03-27 15:15:00|      Man City|away|           1|            3|   Etihad Stadium|     54286|Arsène Wenger| Michael Oliver|     10|    NULL|    NULL|     NULL| NULL|NULL|NULL|NULL|NULL|NULL|NULL|NULL|NULL|NULL|NULL|   NULL|   NULL|NULL|  NULL|NULL|NULL|NULL|  NULL|   NULL|  NULL|   NULL|  NULL|NULL|NULL|     NULL|\n",
      "|2017-11-18|2017/18|  12|2025-03-27 13:30:00|     Tottenham|home|           2|            0| Emirates Stadium|     59530|Arsène Wenger|      Mike Dean|     11|    NULL|    NULL|     NULL| NULL|NULL|NULL|NULL|NULL|NULL|NULL|NULL|NULL|NULL|NULL|   NULL|   NULL|NULL|  NULL|NULL|NULL|NULL|  NULL|   NULL|  NULL|   NULL|  NULL|NULL|NULL|     NULL|\n",
      "|2017-11-26|2017/18|  13|2025-03-27 15:00:00|       Burnley|away|           1|            0|        Turf Moor|     21722|Arsène Wenger|      Lee Mason|     12|    NULL|    NULL|     NULL| NULL|NULL|NULL|NULL|NULL|NULL|NULL|NULL|NULL|NULL|NULL|   NULL|   NULL|NULL|  NULL|NULL|NULL|NULL|  NULL|   NULL|  NULL|   NULL|  NULL|NULL|NULL|     NULL|\n",
      "|2017-11-29|2017/18|  14|2025-03-27 20:45:00|  Huddersfield|home|           5|            0| Emirates Stadium|     59285|Arsène Wenger|   Graham Scott|     13|    NULL|    NULL|     NULL| NULL|NULL|NULL|NULL|NULL|NULL|NULL|NULL|NULL|NULL|NULL|   NULL|   NULL|NULL|  NULL|NULL|NULL|NULL|  NULL|   NULL|  NULL|   NULL|  NULL|NULL|NULL|     NULL|\n",
      "|2017-12-02|2017/18|  15|2025-03-27 18:30:00|       Man Utd|home|           1|            3| Emirates Stadium|     59547|Arsène Wenger| Andre Marriner|     14|    NULL|    NULL|     NULL| NULL|NULL|NULL|NULL|NULL|NULL|NULL|NULL|NULL|NULL|NULL|   NULL|   NULL|NULL|  NULL|NULL|NULL|NULL|  NULL|   NULL|  NULL|   NULL|  NULL|NULL|NULL|     NULL|\n",
      "|2017-12-10|2017/18|  16|2025-03-27 13:00:00|   Southampton|away|           1|            1|St Mary's Stadium|     31643|Arsène Wenger|   Bobby Madley|     15|    NULL|    NULL|     NULL| NULL|NULL|NULL|NULL|NULL|NULL|NULL|NULL|NULL|NULL|NULL|   NULL|   NULL|NULL|  NULL|NULL|NULL|NULL|  NULL|   NULL|  NULL|   NULL|  NULL|NULL|NULL|     NULL|\n",
      "|2017-12-13|2017/18|  17|2025-03-27 21:00:00|      West Ham|away|           0|            0|   London Stadium|     56925|Arsène Wenger|  Jonathan Moss|     16|    NULL|    NULL|     NULL| NULL|NULL|NULL|NULL|NULL|NULL|NULL|NULL|NULL|NULL|NULL|   NULL|   NULL|NULL|  NULL|NULL|NULL|NULL|  NULL|   NULL|  NULL|   NULL|  NULL|NULL|NULL|     NULL|\n",
      "|2017-12-16|2017/18|  18|2025-03-27 16:00:00|     Newcastle|home|           1|            0| Emirates Stadium|     59379|Arsène Wenger| Stuart Attwell|     17|    NULL|    NULL|     NULL| NULL|NULL|NULL|NULL|NULL|NULL|NULL|NULL|NULL|NULL|NULL|   NULL|   NULL|NULL|  NULL|NULL|NULL|NULL|  NULL|   NULL|  NULL|   NULL|  NULL|NULL|NULL|     NULL|\n",
      "|2017-12-22|2017/18|  19|2025-03-27 20:45:00|     Liverpool|home|           3|            3| Emirates Stadium|     59409|Arsène Wenger|Martin Atkinson|     18|    NULL|    NULL|     NULL| NULL|NULL|NULL|NULL|NULL|NULL|NULL|NULL|NULL|NULL|NULL|   NULL|   NULL|NULL|  NULL|NULL|NULL|NULL|  NULL|   NULL|  NULL|   NULL|  NULL|NULL|NULL|     NULL|\n",
      "|2017-12-28|2017/18|  20|2025-03-27 21:00:00|Crystal Palace|away|           3|            2|    Selhurst Park|     25762|Arsène Wenger| Michael Oliver|     19|    NULL|    NULL|     NULL| NULL|NULL|NULL|NULL|NULL|NULL|NULL|NULL|NULL|NULL|NULL|   NULL|   NULL|NULL|  NULL|NULL|NULL|NULL|  NULL|   NULL|  NULL|   NULL|  NULL|NULL|NULL|     NULL|\n",
      "+----------+-------+----+-------------------+--------------+----+------------+-------------+-----------------+----------+-------------+---------------+-------+--------+--------+---------+-----+----+----+----+----+----+----+----+----+----+----+-------+-------+----+------+----+----+----+------+-------+------+-------+------+----+----+---------+\n",
      "only showing top 20 rows\n",
      "\n"
     ]
    }
   ],
   "source": [
    "factplayers.show()"
   ]
  },
  {
   "cell_type": "code",
   "execution_count": 27,
   "id": "b1456e6d-11a9-472c-83ef-2df16007fea5",
   "metadata": {},
   "outputs": [
    {
     "data": {
      "text/plain": [
       "['Date',\n",
       " 'Season',\n",
       " 'Tour',\n",
       " 'Time',\n",
       " 'Opponent',\n",
       " 'HoAw',\n",
       " 'ArsenalScore',\n",
       " 'OpponentScore',\n",
       " 'Stadium',\n",
       " 'Attendance',\n",
       " 'Coach',\n",
       " 'Referee',\n",
       " 'MatchID',\n",
       " 'fullname',\n",
       " 'LastName',\n",
       " 'FirstName',\n",
       " 'Start',\n",
       " 'Pos',\n",
       " 'Min',\n",
       " 'G',\n",
       " 'A',\n",
       " 'PK',\n",
       " 'PKA',\n",
       " 'S',\n",
       " 'SoT',\n",
       " 'YK',\n",
       " 'RK',\n",
       " 'Touches',\n",
       " 'Tackles',\n",
       " 'Ints',\n",
       " 'Blocks',\n",
       " 'xG',\n",
       " 'npxG',\n",
       " 'xAG',\n",
       " 'Passes',\n",
       " 'PassesA',\n",
       " 'PrgPas',\n",
       " 'Carries',\n",
       " 'PrgCar',\n",
       " 'Line',\n",
       " 'C',\n",
       " 'PlayersID']"
      ]
     },
     "execution_count": 27,
     "metadata": {},
     "output_type": "execute_result"
    }
   ],
   "source": [
    "factplayers.columns"
   ]
  },
  {
   "cell_type": "code",
   "execution_count": 28,
   "id": "ec0514db-08f8-4e51-9452-729d72b4a075",
   "metadata": {},
   "outputs": [],
   "source": [
    "factplayers=factplayers.drop(\n",
    "     'fullname',\n",
    " 'LastName',\n",
    " 'FirstName',\n",
    " 'Line',\n",
    " 'Stadium',\n",
    " 'Coach',\n",
    " 'Referee',\n",
    " 'Opponent',\n",
    " 'HoAw',\n",
    " 'Season',\n",
    " 'Tour',\n",
    " 'Time',\n",
    " 'C'\n",
    ")"
   ]
  },
  {
   "cell_type": "code",
   "execution_count": 29,
   "id": "fa8f6cf3-0695-4ed2-ab04-5d4731145b45",
   "metadata": {},
   "outputs": [
    {
     "data": {
      "text/plain": [
       "['Date',\n",
       " 'ArsenalScore',\n",
       " 'OpponentScore',\n",
       " 'Attendance',\n",
       " 'MatchID',\n",
       " 'Start',\n",
       " 'Pos',\n",
       " 'Min',\n",
       " 'G',\n",
       " 'A',\n",
       " 'PK',\n",
       " 'PKA',\n",
       " 'S',\n",
       " 'SoT',\n",
       " 'YK',\n",
       " 'RK',\n",
       " 'Touches',\n",
       " 'Tackles',\n",
       " 'Ints',\n",
       " 'Blocks',\n",
       " 'xG',\n",
       " 'npxG',\n",
       " 'xAG',\n",
       " 'Passes',\n",
       " 'PassesA',\n",
       " 'PrgPas',\n",
       " 'Carries',\n",
       " 'PrgCar',\n",
       " 'PlayersID']"
      ]
     },
     "execution_count": 29,
     "metadata": {},
     "output_type": "execute_result"
    }
   ],
   "source": [
    "factplayers.columns"
   ]
  },
  {
   "cell_type": "code",
   "execution_count": 32,
   "id": "263a3e1c-71cd-4a90-b4df-7db3425a6af3",
   "metadata": {},
   "outputs": [],
   "source": [
    "factplayers.write.csv('../data/Factplayers', header=True)"
   ]
  },
  {
   "cell_type": "markdown",
   "id": "425a3afb-1778-4e20-a243-f59e7f8d21c2",
   "metadata": {},
   "source": [
    "### Transforming Players Data & Creating the DimPlayers and Fact Players"
   ]
  },
  {
   "cell_type": "code",
   "execution_count": 30,
   "id": "5f64b9a2-e88e-4f43-8ad0-ed01e7c987cb",
   "metadata": {},
   "outputs": [],
   "source": [
    "dimplayer=spark.read.csv('../data/Dimplayers/DimPlayers.csv',header=True)"
   ]
  },
  {
   "cell_type": "code",
   "execution_count": 31,
   "id": "2d0744f2-65b2-4bd5-9f1f-8521bc3cecdb",
   "metadata": {},
   "outputs": [
    {
     "name": "stdout",
     "output_type": "stream",
     "text": [
      "+-------------------+---------+---------+---------+-----+---+---+---+---+---+---+---+---+---+---+-------+-------+----+------+---+----+---+------+-------+------+-------+------+----------+---+---------+\n",
      "|           fullname| LastName|FirstName|     Date|Start|Pos|Min|  G|  A| PK|PKA|  S|SoT| YK| RK|Touches|Tackles|Ints|Blocks| xG|npxG|xAG|Passes|PassesA|PrgPas|Carries|PrgCar|      Line|  C|PlayersID|\n",
      "+-------------------+---------+---------+---------+-----+---+---+---+---+---+---+---+---+---+---+-------+-------+----+------+---+----+---+------+-------+------+-------+------+----------+---+---------+\n",
      "|    Hector Bellerin| Bellerin|   Hector|8/11/2017|    1| WB| 90|  0|  0|  0|  0|  1|  1|  0|  0|     79|      3|   0|     0|0.3| 0.3|0.0|    61|     70|     3|     51|     1|  Defender|  0|        2|\n",
      "|     Mohamed Elneny|   Elneny|  Mohamed|8/11/2017|    1| CM| 66|  0|  1|  0|  0|  1|  0|  0|  0|     82|      4|   0|     2|0.0| 0.0|0.1|    65|     72|     4|     57|     0|Midfielder|  0|       49|\n",
      "|        Rob Holding|  Holding|      Rob|8/11/2017|    1| CB| 66|  0|  0|  0|  0|  0|  0|  0|  0|     75|      1|   1|     0|0.0| 0.0|0.0|    50|     60|     4|     50|     1|  Defender|  0|       26|\n",
      "|     Sead Kolasinac|Kolasinac|     Sead|8/11/2017|    1| CB| 90|  0|  1|  0|  0|  1|  1|  0|  0|     81|      4|   1|     0|0.0| 0.0|0.6|    59|     73|     9|     49|     7|  Defender|  0|       18|\n",
      "|Alexandre Lacazette|Lacazette|Alexandre|8/11/2017|    1| FW| 90|  1|  0|  0|  0|  3|  2|  0|  0|     34|      2|   0|     1|0.3| 0.3|0.4|    20|     24|     3|     19|     1|   Forward|  0|       10|\n",
      "|      Nacho Monreal|  Monreal|    Nacho|8/11/2017|    1| CB| 90|  0|  0|  0|  0|  0|  0|  0|  0|     70|      2|   5|     0|0.0| 0.0|0.0|    54|     57|     3|     43|     1|  Defender|  0|       21|\n",
      "|         Mesut Ozil|     Ozil|    Mesut|8/11/2017|    1| AM| 90|  0|  0|  0|  0|  3|  0|  0|  0|     95|      1|   0|     1|0.1| 0.1|0.6|    70|     86|     6|     69|     3|Midfielder|  0|       53|\n",
      "|      Danny Welbeck|  Welbeck|    Danny|8/11/2017|    1| AM| 74|  1|  0|  0|  0|  3|  1|  0|  0|     31|      1|   1|     0|1.0| 1.0|0.4|    16|     21|     2|     18|     3|Midfielder|  0|       13|\n",
      "|       Granit Xhaka|    Xhaka|   Granit|8/11/2017|    1| CM| 90|  0|  2|  0|  0|  4|  1|  0|  0|    114|      1|   1|     1|0.1| 0.1|0.2|    86|    106|    20|     80|     4|Midfielder|  0|       44|\n",
      "|       Aaron Ramsey|   Ramsey|    Aaron|8/11/2017|    0| DM| 24|  1|  0|  0|  0|  4|  1|  0|  0|     19|      0|   0|     0|0.4| 0.4|0.0|     9|     12|     1|     13|     0|Midfielder|  0|        5|\n",
      "|    Hector Bellerin| Bellerin|   Hector|8/19/2017|    1| WB| 90|  0|  0|  0|  0|  2|  1|  0|  0|     83|      2|   0|     0|0.1| 0.1|0.0|    66|     77|     6|     47|     2|  Defender|  0|        2|\n",
      "|     Sead Kolasinac|Kolasinac|     Sead|8/19/2017|    1| CB| 65|  0|  0|  0|  0|  0|  0|  0|  0|     60|      0|   0|     0|0.0| 0.0|0.0|    52|     58|     5|     43|     2|  Defender|  0|       18|\n",
      "|Alexandre Lacazette|Lacazette|Alexandre|8/19/2017|    1| FW| 77|  0|  0|  0|  0|  0|  0|  0|  0|     47|      0|   0|     1|0.0| 0.0|0.0|    29|     39|     4|     28|     1|   Forward|  0|       10|\n",
      "|      Nacho Monreal|  Monreal|    Nacho|8/19/2017|    1| CB| 90|  0|  0|  0|  0|  0|  0|  0|  0|     88|      3|   0|     0|0.0| 0.0|0.1|    76|     83|     2|     61|     0|  Defender|  0|       21|\n",
      "|   Shkodran Mustafi|  Mustafi| Shkodran|8/19/2017|    1| CB| 90|  0|  0|  0|  0|  1|  0|  0|  0|     95|      3|   1|     0|0.0| 0.0|0.1|    76|     89|     6|     72|     3|  Defender|  0|        8|\n",
      "|         Mesut Ozil|     Ozil|    Mesut|8/19/2017|    1| AM| 90|  0|  0|  0|  0|  2|  0|  0|  0|    106|      0|   0|     0|0.1| 0.1|0.5|    94|    103|    15|     84|     7|Midfielder|  0|       53|\n",
      "|       Aaron Ramsey|   Ramsey|    Aaron|8/19/2017|    1| CM| 90|  0|  0|  0|  0|  4|  2|  0|  0|     96|      3|   0|     1|0.5| 0.5|0.0|    74|     85|    12|     73|     1|Midfielder|  0|        5|\n",
      "|      Danny Welbeck|  Welbeck|    Danny|8/19/2017|    1| AM| 90|  0|  0|  0|  0|  3|  2|  0|  0|     32|      1|   0|     0|0.6| 0.6|0.0|    19|     24|     2|     28|     3|Midfielder|  0|       13|\n",
      "|       Granit Xhaka|    Xhaka|   Granit|8/19/2017|    1| CM| 78|  0|  0|  0|  0|  2|  1|  0|  0|    113|      0|   3|     0|0.1| 0.1|0.1|    86|    106|    17|     85|     3|Midfielder|  0|       44|\n",
      "|         Alex Iwobi|    Iwobi|     Alex|8/19/2017|    0| DM| 12|  0|  0|  0|  0|  0|  0|  0|  0|     24|      1|   0|     0|0.0| 0.0|0.0|    22|     24|     6|     21|     2|Midfielder|  0|       50|\n",
      "+-------------------+---------+---------+---------+-----+---+---+---+---+---+---+---+---+---+---+-------+-------+----+------+---+----+---+------+-------+------+-------+------+----------+---+---------+\n",
      "only showing top 20 rows\n",
      "\n"
     ]
    }
   ],
   "source": [
    "dimplayer.show()"
   ]
  },
  {
   "cell_type": "code",
   "execution_count": 32,
   "id": "53ff13ff-3a1a-4628-a404-c3902aedc75b",
   "metadata": {},
   "outputs": [
    {
     "data": {
      "text/plain": [
       "['fullname',\n",
       " 'LastName',\n",
       " 'FirstName',\n",
       " 'Date',\n",
       " 'Start',\n",
       " 'Pos',\n",
       " 'Min',\n",
       " 'G',\n",
       " 'A',\n",
       " 'PK',\n",
       " 'PKA',\n",
       " 'S',\n",
       " 'SoT',\n",
       " 'YK',\n",
       " 'RK',\n",
       " 'Touches',\n",
       " 'Tackles',\n",
       " 'Ints',\n",
       " 'Blocks',\n",
       " 'xG',\n",
       " 'npxG',\n",
       " 'xAG',\n",
       " 'Passes',\n",
       " 'PassesA',\n",
       " 'PrgPas',\n",
       " 'Carries',\n",
       " 'PrgCar',\n",
       " 'Line',\n",
       " 'C',\n",
       " 'PlayersID']"
      ]
     },
     "execution_count": 32,
     "metadata": {},
     "output_type": "execute_result"
    }
   ],
   "source": [
    "dimplayer.columns"
   ]
  },
  {
   "cell_type": "code",
   "execution_count": 33,
   "id": "5a413240-8569-483b-96bf-2d04d37a2d81",
   "metadata": {},
   "outputs": [],
   "source": [
    "dimplayer=dimplayer.drop('Date',\n",
    " 'Start',\n",
    " 'Min',\n",
    " 'G',\n",
    " 'A',\n",
    " 'PK',\n",
    " 'PKA',\n",
    " 'S',\n",
    " 'SoT',\n",
    " 'YK',\n",
    " 'RK',\n",
    " 'Touches',\n",
    " 'Tackles',\n",
    " 'Ints',\n",
    " 'Blocks',\n",
    " 'xG',\n",
    " 'npxG',\n",
    " 'xAG',\n",
    " 'Passes',\n",
    " 'PassesA',\n",
    " 'PrgPas',\n",
    " 'Carries',\n",
    " 'PrgCar',\n",
    " 'Line',\n",
    " 'C','FormattedDate', 'Pos')"
   ]
  },
  {
   "cell_type": "code",
   "execution_count": 34,
   "id": "6173fd7e-fa37-45b0-bd80-f50fdc29b23a",
   "metadata": {},
   "outputs": [
    {
     "data": {
      "text/plain": [
       "['fullname', 'LastName', 'FirstName', 'PlayersID']"
      ]
     },
     "execution_count": 34,
     "metadata": {},
     "output_type": "execute_result"
    }
   ],
   "source": [
    "dimplayer.columns"
   ]
  },
  {
   "cell_type": "code",
   "execution_count": 35,
   "id": "8abf7f2b-16f7-4055-b18f-f26f861f9034",
   "metadata": {},
   "outputs": [
    {
     "name": "stdout",
     "output_type": "stream",
     "text": [
      "+-------------------+---------+---------+---------+\n",
      "|           fullname| LastName|FirstName|PlayersID|\n",
      "+-------------------+---------+---------+---------+\n",
      "|    Hector Bellerin| Bellerin|   Hector|        2|\n",
      "|     Mohamed Elneny|   Elneny|  Mohamed|       49|\n",
      "|        Rob Holding|  Holding|      Rob|       26|\n",
      "|     Sead Kolasinac|Kolasinac|     Sead|       18|\n",
      "|Alexandre Lacazette|Lacazette|Alexandre|       10|\n",
      "|      Nacho Monreal|  Monreal|    Nacho|       21|\n",
      "|         Mesut Ozil|     Ozil|    Mesut|       53|\n",
      "|      Danny Welbeck|  Welbeck|    Danny|       13|\n",
      "|       Granit Xhaka|    Xhaka|   Granit|       44|\n",
      "|       Aaron Ramsey|   Ramsey|    Aaron|        5|\n",
      "|    Hector Bellerin| Bellerin|   Hector|        2|\n",
      "|     Sead Kolasinac|Kolasinac|     Sead|       18|\n",
      "|Alexandre Lacazette|Lacazette|Alexandre|       10|\n",
      "|      Nacho Monreal|  Monreal|    Nacho|       21|\n",
      "|   Shkodran Mustafi|  Mustafi| Shkodran|        8|\n",
      "|         Mesut Ozil|     Ozil|    Mesut|       53|\n",
      "|       Aaron Ramsey|   Ramsey|    Aaron|        5|\n",
      "|      Danny Welbeck|  Welbeck|    Danny|       13|\n",
      "|       Granit Xhaka|    Xhaka|   Granit|       44|\n",
      "|         Alex Iwobi|    Iwobi|     Alex|       50|\n",
      "+-------------------+---------+---------+---------+\n",
      "only showing top 20 rows\n",
      "\n"
     ]
    }
   ],
   "source": [
    "dimplayer.show()"
   ]
  },
  {
   "cell_type": "markdown",
   "id": "1ad4df76-0fe5-432c-8147-290651a321fb",
   "metadata": {},
   "source": [
    "#### Loading the DimPlayers for DWH Schema in ArsenalFC Database in PostgreSql"
   ]
  },
  {
   "cell_type": "code",
   "execution_count": 36,
   "id": "02cde344-0c6c-425f-9495-d336b0828f5b",
   "metadata": {},
   "outputs": [
    {
     "data": {
      "text/plain": [
       "StructType([StructField('fullname', StringType(), True), StructField('LastName', StringType(), True), StructField('FirstName', StringType(), True), StructField('PlayersID', StringType(), True)])"
      ]
     },
     "execution_count": 36,
     "metadata": {},
     "output_type": "execute_result"
    }
   ],
   "source": [
    "dimplayer.schema"
   ]
  },
  {
   "cell_type": "code",
   "execution_count": 37,
   "id": "c6b261dd-48d6-4563-b206-329f831bcc38",
   "metadata": {},
   "outputs": [
    {
     "name": "stdout",
     "output_type": "stream",
     "text": [
      "+-------------------+---------+---------+---------+\n",
      "|           fullname| LastName|FirstName|PlayersID|\n",
      "+-------------------+---------+---------+---------+\n",
      "|    Hector Bellerin| Bellerin|   Hector|        2|\n",
      "|     Mohamed Elneny|   Elneny|  Mohamed|       49|\n",
      "|        Rob Holding|  Holding|      Rob|       26|\n",
      "|     Sead Kolasinac|Kolasinac|     Sead|       18|\n",
      "|Alexandre Lacazette|Lacazette|Alexandre|       10|\n",
      "|      Nacho Monreal|  Monreal|    Nacho|       21|\n",
      "|         Mesut Ozil|     Ozil|    Mesut|       53|\n",
      "|      Danny Welbeck|  Welbeck|    Danny|       13|\n",
      "|       Granit Xhaka|    Xhaka|   Granit|       44|\n",
      "|       Aaron Ramsey|   Ramsey|    Aaron|        5|\n",
      "|    Hector Bellerin| Bellerin|   Hector|        2|\n",
      "|     Sead Kolasinac|Kolasinac|     Sead|       18|\n",
      "|Alexandre Lacazette|Lacazette|Alexandre|       10|\n",
      "|      Nacho Monreal|  Monreal|    Nacho|       21|\n",
      "|   Shkodran Mustafi|  Mustafi| Shkodran|        8|\n",
      "|         Mesut Ozil|     Ozil|    Mesut|       53|\n",
      "|       Aaron Ramsey|   Ramsey|    Aaron|        5|\n",
      "|      Danny Welbeck|  Welbeck|    Danny|       13|\n",
      "|       Granit Xhaka|    Xhaka|   Granit|       44|\n",
      "|         Alex Iwobi|    Iwobi|     Alex|       50|\n",
      "+-------------------+---------+---------+---------+\n",
      "only showing top 20 rows\n",
      "\n"
     ]
    }
   ],
   "source": [
    "dimplayer.show()"
   ]
  },
  {
   "cell_type": "code",
   "execution_count": 38,
   "id": "7d9b8f5a-bb7e-4430-8980-494219c28703",
   "metadata": {},
   "outputs": [],
   "source": [
    "dimplayer.write.format(\"jdbc\") \\\n",
    "        .option(\"url\", \"jdbc:postgresql://postgres:5432/mydatabase\") \\\n",
    "        .option(\"driver\", \"org.postgresql.Driver\") \\\n",
    "        .option(\"dbtable\", \"dwh.DimArsenalPlayers\") \\\n",
    "        .option(\"user\", \"postgres\") \\\n",
    "        .option(\"password\", \"postgres\") \\\n",
    "        .mode(\"overwrite\") \\\n",
    "        .save()"
   ]
  },
  {
   "cell_type": "code",
   "execution_count": null,
   "id": "5016f32d-c2e5-4e17-8fe3-883c2568bf47",
   "metadata": {},
   "outputs": [],
   "source": []
  }
 ],
 "metadata": {
  "kernelspec": {
   "display_name": "Python 3 (ipykernel)",
   "language": "python",
   "name": "python3"
  },
  "language_info": {
   "codemirror_mode": {
    "name": "ipython",
    "version": 3
   },
   "file_extension": ".py",
   "mimetype": "text/x-python",
   "name": "python",
   "nbconvert_exporter": "python",
   "pygments_lexer": "ipython3",
   "version": "3.11.6"
  }
 },
 "nbformat": 4,
 "nbformat_minor": 5
}
