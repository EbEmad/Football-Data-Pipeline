{
 "cells": [
  {
   "cell_type": "code",
   "execution_count": 1,
   "id": "99e9f05d-4ef3-4574-bc85-b1ebb8de8245",
   "metadata": {},
   "outputs": [],
   "source": [
    "from pyspark.sql import SparkSession\n",
    "from pyspark.sql.functions import *"
   ]
  },
  {
   "cell_type": "code",
   "execution_count": 2,
   "id": "a06366f4-4eb4-42d1-bdcc-942872b05b19",
   "metadata": {},
   "outputs": [],
   "source": [
    "spark= SparkSession.builder.getOrCreate()"
   ]
  },
  {
   "cell_type": "code",
   "execution_count": 5,
   "id": "a9923563-c439-44d5-88c4-9a8d7ff2b80f",
   "metadata": {},
   "outputs": [],
   "source": [
    "players=spark.read.format('csv')\\\n",
    "    .option('header','True') \\\n",
    "    .option('inferSchema','True') \\\n",
    "    .load('../data/players.csv')"
   ]
  },
  {
   "cell_type": "code",
   "execution_count": 6,
   "id": "d8e08730-4296-4ded-ac06-083f5bdebdf8",
   "metadata": {},
   "outputs": [
    {
     "name": "stdout",
     "output_type": "stream",
     "text": [
      "+---------+---------+---------+-----+---+---+---+---+---+---+---+---+---+---+-------+-------+----+------+---+----+---+------+-------+------+-------+------+----------+---+\n",
      "| LastName|FirstName|     Date|Start|Pos|Min|  G|  A| PK|PKA|  S|SoT| YK| RK|Touches|Tackles|Ints|Blocks| xG|npxG|xAG|Passes|PassesA|PrgPas|Carries|PrgCar|      Line|  C|\n",
      "+---------+---------+---------+-----+---+---+---+---+---+---+---+---+---+---+-------+-------+----+------+---+----+---+------+-------+------+-------+------+----------+---+\n",
      "| Bellerin|   Hector|8/11/2017|    1| WB| 90|  0|  0|  0|  0|  1|  1|  0|  0|     79|      3|   0|     0|0.3| 0.3|0.0|    61|     70|     3|     51|     1|  Defender|  0|\n",
      "|   Elneny|  Mohamed|8/11/2017|    1| CM| 66|  0|  1|  0|  0|  1|  0|  0|  0|     82|      4|   0|     2|0.0| 0.0|0.1|    65|     72|     4|     57|     0|Midfielder|  0|\n",
      "|  Holding|      Rob|8/11/2017|    1| CB| 66|  0|  0|  0|  0|  0|  0|  0|  0|     75|      1|   1|     0|0.0| 0.0|0.0|    50|     60|     4|     50|     1|  Defender|  0|\n",
      "|Kolasinac|     Sead|8/11/2017|    1| CB| 90|  0|  1|  0|  0|  1|  1|  0|  0|     81|      4|   1|     0|0.0| 0.0|0.6|    59|     73|     9|     49|     7|  Defender|  0|\n",
      "|Lacazette|Alexandre|8/11/2017|    1| FW| 90|  1|  0|  0|  0|  3|  2|  0|  0|     34|      2|   0|     1|0.3| 0.3|0.4|    20|     24|     3|     19|     1|   Forward|  0|\n",
      "|  Monreal|    Nacho|8/11/2017|    1| CB| 90|  0|  0|  0|  0|  0|  0|  0|  0|     70|      2|   5|     0|0.0| 0.0|0.0|    54|     57|     3|     43|     1|  Defender|  0|\n",
      "|     Ozil|    Mesut|8/11/2017|    1| AM| 90|  0|  0|  0|  0|  3|  0|  0|  0|     95|      1|   0|     1|0.1| 0.1|0.6|    70|     86|     6|     69|     3|Midfielder|  0|\n",
      "|  Welbeck|    Danny|8/11/2017|    1| AM| 74|  1|  0|  0|  0|  3|  1|  0|  0|     31|      1|   1|     0|1.0| 1.0|0.4|    16|     21|     2|     18|     3|Midfielder|  0|\n",
      "|    Xhaka|   Granit|8/11/2017|    1| CM| 90|  0|  2|  0|  0|  4|  1|  0|  0|    114|      1|   1|     1|0.1| 0.1|0.2|    86|    106|    20|     80|     4|Midfielder|  0|\n",
      "|   Ramsey|    Aaron|8/11/2017|    0| DM| 24|  1|  0|  0|  0|  4|  1|  0|  0|     19|      0|   0|     0|0.4| 0.4|0.0|     9|     12|     1|     13|     0|Midfielder|  0|\n",
      "| Bellerin|   Hector|8/19/2017|    1| WB| 90|  0|  0|  0|  0|  2|  1|  0|  0|     83|      2|   0|     0|0.1| 0.1|0.0|    66|     77|     6|     47|     2|  Defender|  0|\n",
      "|Kolasinac|     Sead|8/19/2017|    1| CB| 65|  0|  0|  0|  0|  0|  0|  0|  0|     60|      0|   0|     0|0.0| 0.0|0.0|    52|     58|     5|     43|     2|  Defender|  0|\n",
      "|Lacazette|Alexandre|8/19/2017|    1| FW| 77|  0|  0|  0|  0|  0|  0|  0|  0|     47|      0|   0|     1|0.0| 0.0|0.0|    29|     39|     4|     28|     1|   Forward|  0|\n",
      "|  Monreal|    Nacho|8/19/2017|    1| CB| 90|  0|  0|  0|  0|  0|  0|  0|  0|     88|      3|   0|     0|0.0| 0.0|0.1|    76|     83|     2|     61|     0|  Defender|  0|\n",
      "|  Mustafi| Shkodran|8/19/2017|    1| CB| 90|  0|  0|  0|  0|  1|  0|  0|  0|     95|      3|   1|     0|0.0| 0.0|0.1|    76|     89|     6|     72|     3|  Defender|  0|\n",
      "|     Ozil|    Mesut|8/19/2017|    1| AM| 90|  0|  0|  0|  0|  2|  0|  0|  0|    106|      0|   0|     0|0.1| 0.1|0.5|    94|    103|    15|     84|     7|Midfielder|  0|\n",
      "|   Ramsey|    Aaron|8/19/2017|    1| CM| 90|  0|  0|  0|  0|  4|  2|  0|  0|     96|      3|   0|     1|0.5| 0.5|0.0|    74|     85|    12|     73|     1|Midfielder|  0|\n",
      "|  Welbeck|    Danny|8/19/2017|    1| AM| 90|  0|  0|  0|  0|  3|  2|  0|  0|     32|      1|   0|     0|0.6| 0.6|0.0|    19|     24|     2|     28|     3|Midfielder|  0|\n",
      "|    Xhaka|   Granit|8/19/2017|    1| CM| 78|  0|  0|  0|  0|  2|  1|  0|  0|    113|      0|   3|     0|0.1| 0.1|0.1|    86|    106|    17|     85|     3|Midfielder|  0|\n",
      "|    Iwobi|     Alex|8/19/2017|    0| DM| 12|  0|  0|  0|  0|  0|  0|  0|  0|     24|      1|   0|     0|0.0| 0.0|0.0|    22|     24|     6|     21|     2|Midfielder|  0|\n",
      "+---------+---------+---------+-----+---+---+---+---+---+---+---+---+---+---+-------+-------+----+------+---+----+---+------+-------+------+-------+------+----------+---+\n",
      "only showing top 20 rows\n",
      "\n"
     ]
    }
   ],
   "source": [
    "players.show()"
   ]
  },
  {
   "cell_type": "code",
   "execution_count": 7,
   "id": "d0fb4a2c-bba0-40f7-b195-5b9a27c28fd5",
   "metadata": {},
   "outputs": [
    {
     "data": {
      "text/plain": [
       "['LastName',\n",
       " 'FirstName',\n",
       " 'Date',\n",
       " 'Start',\n",
       " 'Pos',\n",
       " 'Min',\n",
       " 'G',\n",
       " 'A',\n",
       " 'PK',\n",
       " 'PKA',\n",
       " 'S',\n",
       " 'SoT',\n",
       " 'YK',\n",
       " 'RK',\n",
       " 'Touches',\n",
       " 'Tackles',\n",
       " 'Ints',\n",
       " 'Blocks',\n",
       " 'xG',\n",
       " 'npxG',\n",
       " 'xAG',\n",
       " 'Passes',\n",
       " 'PassesA',\n",
       " 'PrgPas',\n",
       " 'Carries',\n",
       " 'PrgCar',\n",
       " 'Line',\n",
       " 'C']"
      ]
     },
     "execution_count": 7,
     "metadata": {},
     "output_type": "execute_result"
    }
   ],
   "source": [
    "players.columns"
   ]
  },
  {
   "cell_type": "code",
   "execution_count": 8,
   "id": "620b0c15-a998-43b1-a8d5-1e3e4ba0e255",
   "metadata": {},
   "outputs": [
    {
     "data": {
      "text/plain": [
       "StructType([StructField('LastName', StringType(), True), StructField('FirstName', StringType(), True), StructField('Date', StringType(), True), StructField('Start', IntegerType(), True), StructField('Pos', StringType(), True), StructField('Min', IntegerType(), True), StructField('G', IntegerType(), True), StructField('A', IntegerType(), True), StructField('PK', IntegerType(), True), StructField('PKA', IntegerType(), True), StructField('S', IntegerType(), True), StructField('SoT', IntegerType(), True), StructField('YK', IntegerType(), True), StructField('RK', IntegerType(), True), StructField('Touches', IntegerType(), True), StructField('Tackles', IntegerType(), True), StructField('Ints', IntegerType(), True), StructField('Blocks', IntegerType(), True), StructField('xG', DoubleType(), True), StructField('npxG', DoubleType(), True), StructField('xAG', DoubleType(), True), StructField('Passes', IntegerType(), True), StructField('PassesA', IntegerType(), True), StructField('PrgPas', IntegerType(), True), StructField('Carries', IntegerType(), True), StructField('PrgCar', IntegerType(), True), StructField('Line', StringType(), True), StructField('C', IntegerType(), True)])"
      ]
     },
     "execution_count": 8,
     "metadata": {},
     "output_type": "execute_result"
    }
   ],
   "source": [
    "players.schema"
   ]
  },
  {
   "cell_type": "code",
   "execution_count": 9,
   "id": "b6ae6ade-55c4-4056-ad18-9e232ed5e10d",
   "metadata": {},
   "outputs": [],
   "source": [
    "players.createOrReplaceTempView(\"players\")"
   ]
  },
  {
   "cell_type": "code",
   "execution_count": 12,
   "id": "261bf236-23c2-42de-b8f7-736d080867da",
   "metadata": {},
   "outputs": [
    {
     "data": {
      "text/plain": [
       "2741"
      ]
     },
     "execution_count": 12,
     "metadata": {},
     "output_type": "execute_result"
    }
   ],
   "source": [
    "spark.sql('''\n",
    "        select concat(firstname,\" \",lastname) as fullname\n",
    "        from players\n",
    "          \n",
    "          ''').count()"
   ]
  },
  {
   "cell_type": "code",
   "execution_count": 16,
   "id": "3e0d5ef1-720b-431d-b9f1-7536761b0d6c",
   "metadata": {},
   "outputs": [],
   "source": [
    "distinct_players=spark.sql('''\n",
    "        select distinct concat(firstname,\" \",lastname) as fullname\n",
    "        from players\n",
    "          \n",
    "          ''')"
   ]
  },
  {
   "cell_type": "code",
   "execution_count": 17,
   "id": "dbdd57c0-52dc-4277-86c9-8502855f4fe6",
   "metadata": {},
   "outputs": [],
   "source": [
    "players_dates=spark.sql('''\n",
    "    select count(distinct Date)\n",
    "    from players\n",
    "\n",
    "''')"
   ]
  },
  {
   "cell_type": "code",
   "execution_count": 18,
   "id": "fdff38a7-34de-4b2d-b7e6-f64ebd00c0af",
   "metadata": {},
   "outputs": [
    {
     "name": "stdout",
     "output_type": "stream",
     "text": [
      "+--------------------+\n",
      "|count(DISTINCT Date)|\n",
      "+--------------------+\n",
      "|                 214|\n",
      "+--------------------+\n",
      "\n"
     ]
    }
   ],
   "source": [
    "players_dates.show()"
   ]
  },
  {
   "cell_type": "markdown",
   "id": "13bcb0bf-9e64-4bc4-aa81-83ef9191f1c7",
   "metadata": {},
   "source": [
    "## Here we make sure that the distinct count date for matches in DimMatches Equal the distinct count Date for DimPlayers 214"
   ]
  },
  {
   "cell_type": "code",
   "execution_count": 20,
   "id": "16e16729-df45-4029-8e14-8f7b5c131fac",
   "metadata": {},
   "outputs": [],
   "source": [
    "distinct_players=distinct_players.withColumn('PlayersID',monotonically_increasing_id())"
   ]
  },
  {
   "cell_type": "code",
   "execution_count": 21,
   "id": "265bfc92-6d83-4efa-9ec9-b3e19a8e327f",
   "metadata": {},
   "outputs": [
    {
     "name": "stdout",
     "output_type": "stream",
     "text": [
      "+-------------------+---------+\n",
      "|           fullname|PlayersID|\n",
      "+-------------------+---------+\n",
      "|   Emile Smith Rowe|        0|\n",
      "|    Folarin Balogun|        1|\n",
      "|    Hector Bellerin|        2|\n",
      "|        Joe Willock|        3|\n",
      "|     William Saliba|        4|\n",
      "|       Aaron Ramsey|        5|\n",
      "|        Bukayo Saka|        6|\n",
      "|     Kieran Tierney|        7|\n",
      "|   Shkodran Mustafi|        8|\n",
      "|    Daniel Ceballos|        9|\n",
      "|Alexandre Lacazette|       10|\n",
      "|     Kieran Willian|       11|\n",
      "|      Gabriel Jesus|       12|\n",
      "|      Danny Welbeck|       13|\n",
      "| Gabriel Marquinhos|       14|\n",
      "|         Pablo Mari|       15|\n",
      "|          Ben White|       16|\n",
      "|      Ethan Nwaneri|       17|\n",
      "|     Sead Kolasinac|       18|\n",
      "|     Calum Chambers|       19|\n",
      "+-------------------+---------+\n",
      "only showing top 20 rows\n",
      "\n"
     ]
    }
   ],
   "source": [
    "distinct_players.show()"
   ]
  },
  {
   "cell_type": "code",
   "execution_count": 23,
   "id": "5629a53a-badb-4192-8e85-37524f4bc293",
   "metadata": {},
   "outputs": [],
   "source": [
    "players=players.withColumn('fullname',concat_ws(' ',col('FirstName'),col('LastName')))"
   ]
  },
  {
   "cell_type": "code",
   "execution_count": 24,
   "id": "022f5759-5fdb-4954-9493-29cd328038ad",
   "metadata": {},
   "outputs": [
    {
     "data": {
      "text/plain": [
       "['LastName',\n",
       " 'FirstName',\n",
       " 'Date',\n",
       " 'Start',\n",
       " 'Pos',\n",
       " 'Min',\n",
       " 'G',\n",
       " 'A',\n",
       " 'PK',\n",
       " 'PKA',\n",
       " 'S',\n",
       " 'SoT',\n",
       " 'YK',\n",
       " 'RK',\n",
       " 'Touches',\n",
       " 'Tackles',\n",
       " 'Ints',\n",
       " 'Blocks',\n",
       " 'xG',\n",
       " 'npxG',\n",
       " 'xAG',\n",
       " 'Passes',\n",
       " 'PassesA',\n",
       " 'PrgPas',\n",
       " 'Carries',\n",
       " 'PrgCar',\n",
       " 'Line',\n",
       " 'C',\n",
       " 'fullname']"
      ]
     },
     "execution_count": 24,
     "metadata": {},
     "output_type": "execute_result"
    }
   ],
   "source": [
    "players.columns"
   ]
  },
  {
   "cell_type": "code",
   "execution_count": 28,
   "id": "02737677-2563-4560-bbd4-59702b69c037",
   "metadata": {},
   "outputs": [
    {
     "name": "stdout",
     "output_type": "stream",
     "text": [
      "+-------------------+\n",
      "|           fullname|\n",
      "+-------------------+\n",
      "|    Hector Bellerin|\n",
      "|     Mohamed Elneny|\n",
      "|        Rob Holding|\n",
      "|     Sead Kolasinac|\n",
      "|Alexandre Lacazette|\n",
      "+-------------------+\n",
      "only showing top 5 rows\n",
      "\n"
     ]
    }
   ],
   "source": [
    "players.select('fullname').show(5)"
   ]
  },
  {
   "cell_type": "code",
   "execution_count": 29,
   "id": "9c6e2722-7bec-4bca-b623-9643df8617df",
   "metadata": {},
   "outputs": [],
   "source": [
    "dimplayer=players.join(distinct_players,on='fullname',how='inner')"
   ]
  },
  {
   "cell_type": "code",
   "execution_count": 31,
   "id": "f37b58f6-9bc0-45a8-9025-7e41f7dfd6f3",
   "metadata": {},
   "outputs": [
    {
     "data": {
      "text/plain": [
       "['fullname',\n",
       " 'LastName',\n",
       " 'FirstName',\n",
       " 'Date',\n",
       " 'Start',\n",
       " 'Pos',\n",
       " 'Min',\n",
       " 'G',\n",
       " 'A',\n",
       " 'PK',\n",
       " 'PKA',\n",
       " 'S',\n",
       " 'SoT',\n",
       " 'YK',\n",
       " 'RK',\n",
       " 'Touches',\n",
       " 'Tackles',\n",
       " 'Ints',\n",
       " 'Blocks',\n",
       " 'xG',\n",
       " 'npxG',\n",
       " 'xAG',\n",
       " 'Passes',\n",
       " 'PassesA',\n",
       " 'PrgPas',\n",
       " 'Carries',\n",
       " 'PrgCar',\n",
       " 'Line',\n",
       " 'C',\n",
       " 'PlayersID']"
      ]
     },
     "execution_count": 31,
     "metadata": {},
     "output_type": "execute_result"
    }
   ],
   "source": [
    "dimplayer.columns"
   ]
  },
  {
   "cell_type": "code",
   "execution_count": 33,
   "id": "47b72d40-3682-46ca-97e6-277dba09ae59",
   "metadata": {},
   "outputs": [],
   "source": [
    "dimplayer.write.csv('../data/Dimplayers.csv', header=True)"
   ]
  },
  {
   "cell_type": "code",
   "execution_count": 36,
   "id": "a461b1b0-3fdf-41d0-a8ce-030e94589009",
   "metadata": {},
   "outputs": [
    {
     "name": "stdout",
     "output_type": "stream",
     "text": [
      "+---------+---------+---------+---------+-----+---+---+---+---+---+---+\n",
      "|PlayersID| LastName|FirstName|     Date|Start|Pos|Min|  G|  A| PK|PKA|\n",
      "+---------+---------+---------+---------+-----+---+---+---+---+---+---+\n",
      "|        2| Bellerin|   Hector|8/11/2017|    1| WB| 90|  0|  0|  0|  0|\n",
      "|       49|   Elneny|  Mohamed|8/11/2017|    1| CM| 66|  0|  1|  0|  0|\n",
      "|       26|  Holding|      Rob|8/11/2017|    1| CB| 66|  0|  0|  0|  0|\n",
      "|       18|Kolasinac|     Sead|8/11/2017|    1| CB| 90|  0|  1|  0|  0|\n",
      "|       10|Lacazette|Alexandre|8/11/2017|    1| FW| 90|  1|  0|  0|  0|\n",
      "|       21|  Monreal|    Nacho|8/11/2017|    1| CB| 90|  0|  0|  0|  0|\n",
      "|       53|     Ozil|    Mesut|8/11/2017|    1| AM| 90|  0|  0|  0|  0|\n",
      "|       13|  Welbeck|    Danny|8/11/2017|    1| AM| 74|  1|  0|  0|  0|\n",
      "|       44|    Xhaka|   Granit|8/11/2017|    1| CM| 90|  0|  2|  0|  0|\n",
      "|        5|   Ramsey|    Aaron|8/11/2017|    0| DM| 24|  1|  0|  0|  0|\n",
      "|        2| Bellerin|   Hector|8/19/2017|    1| WB| 90|  0|  0|  0|  0|\n",
      "|       18|Kolasinac|     Sead|8/19/2017|    1| CB| 65|  0|  0|  0|  0|\n",
      "|       10|Lacazette|Alexandre|8/19/2017|    1| FW| 77|  0|  0|  0|  0|\n",
      "|       21|  Monreal|    Nacho|8/19/2017|    1| CB| 90|  0|  0|  0|  0|\n",
      "|        8|  Mustafi| Shkodran|8/19/2017|    1| CB| 90|  0|  0|  0|  0|\n",
      "|       53|     Ozil|    Mesut|8/19/2017|    1| AM| 90|  0|  0|  0|  0|\n",
      "|        5|   Ramsey|    Aaron|8/19/2017|    1| CM| 90|  0|  0|  0|  0|\n",
      "|       13|  Welbeck|    Danny|8/19/2017|    1| AM| 90|  0|  0|  0|  0|\n",
      "|       44|    Xhaka|   Granit|8/19/2017|    1| CM| 78|  0|  0|  0|  0|\n",
      "|       50|    Iwobi|     Alex|8/19/2017|    0| DM| 12|  0|  0|  0|  0|\n",
      "+---------+---------+---------+---------+-----+---+---+---+---+---+---+\n",
      "only showing top 20 rows\n",
      "\n"
     ]
    }
   ],
   "source": [
    "dimplayer.select('PlayersID',\n",
    "'LastName',\n",
    " 'FirstName',\n",
    " 'Date',\n",
    " 'Start',\n",
    " 'Pos',\n",
    " 'Min',\n",
    " 'G',\n",
    " 'A',\n",
    " 'PK',\n",
    " 'PKA' \n",
    ").show()"
   ]
  },
  {
   "cell_type": "code",
   "execution_count": null,
   "id": "480f37af-6d5b-49fd-854c-1b9d3213eab4",
   "metadata": {},
   "outputs": [],
   "source": []
  }
 ],
 "metadata": {
  "kernelspec": {
   "display_name": "Python 3 (ipykernel)",
   "language": "python",
   "name": "python3"
  },
  "language_info": {
   "codemirror_mode": {
    "name": "ipython",
    "version": 3
   },
   "file_extension": ".py",
   "mimetype": "text/x-python",
   "name": "python",
   "nbconvert_exporter": "python",
   "pygments_lexer": "ipython3",
   "version": "3.11.6"
  }
 },
 "nbformat": 4,
 "nbformat_minor": 5
}
