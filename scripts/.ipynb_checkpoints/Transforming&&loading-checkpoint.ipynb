{
 "cells": [
  {
   "cell_type": "code",
   "execution_count": 112,
   "id": "4e2bbdce-22ae-4e3e-a33a-128ff022cfa6",
   "metadata": {},
   "outputs": [],
   "source": [
    "from pyspark.sql import SparkSession\n",
    "from pyspark.sql.functions import *\n",
    "from pyspark.sql.functions import to_date, date_format"
   ]
  },
  {
   "cell_type": "code",
   "execution_count": 113,
   "id": "4b79e23c-3267-4229-818b-d8ee40b64b86",
   "metadata": {},
   "outputs": [],
   "source": [
    "spark = SparkSession.builder.config(\"spark.jars\", \"/Drivers/SQL_Sever/jdbc/postgresql-42.7.3.jar\")\\\n",
    ".getOrCreate()"
   ]
  },
  {
   "cell_type": "code",
   "execution_count": 114,
   "id": "78b9951f-1e4e-4bfb-a62b-977871c7ceac",
   "metadata": {},
   "outputs": [],
   "source": [
    "table_lst=['goalKeepers','players','matches']\n",
    "dataframe={}\n",
    "for table in table_lst:\n",
    "    df=spark.read.format('jdbc')\\\n",
    "    .option('url','jdbc:postgresql://localhost:5432/Football')\\\n",
    "    .option('driver','org.postgresql.Driver')\\\n",
    "    .option('dbtable',f'{table}')\\\n",
    "    .option('user','root')\\\n",
    "    .option('password','root')\\\n",
    "    .load()\n",
    "    dataframe[table]=df"
   ]
  },
  {
   "cell_type": "code",
   "execution_count": 115,
   "id": "1289cbe4-c272-4fa9-bf03-21f8e4e55a8a",
   "metadata": {},
   "outputs": [
    {
     "name": "stdout",
     "output_type": "stream",
     "text": [
      "dict_keys(['goalKeepers', 'players', 'matches'])\n"
     ]
    }
   ],
   "source": [
    "print(dataframe.keys())"
   ]
  },
  {
   "cell_type": "code",
   "execution_count": 116,
   "id": "bcf483dd-d78f-4180-a705-d746532731ba",
   "metadata": {},
   "outputs": [],
   "source": [
    "matches=dataframe['matches']\n",
    "players=dataframe['players']\n",
    "goalkeepers=dataframe['goalKeepers']"
   ]
  },
  {
   "cell_type": "code",
   "execution_count": 153,
   "id": "1a52fac7-b766-4fb6-97a6-6b7fba82dcc8",
   "metadata": {},
   "outputs": [
    {
     "name": "stdout",
     "output_type": "stream",
     "text": [
      "<class 'pyspark.sql.dataframe.DataFrame'>\n",
      "<class 'pyspark.sql.dataframe.DataFrame'>\n"
     ]
    }
   ],
   "source": [
    "print(type(dataframe['matches']))  # Should be <class 'pyspark.sql.dataframe.DataFrame'>\n",
    "\n",
    "matches = dataframe['matches']\n",
    "print(type(matches))  # Should be <class 'pyspark.sql.dataframe.DataFrame'>\n",
    "\n",
    "\n"
   ]
  },
  {
   "cell_type": "code",
   "execution_count": 118,
   "id": "00ec0637-3243-4d01-92c6-aee742d0a742",
   "metadata": {},
   "outputs": [],
   "source": [
    "matches.createOrReplaceTempView(\"matches\")"
   ]
  },
  {
   "cell_type": "code",
   "execution_count": 120,
   "id": "72accea4-6adc-4592-b140-b4d9b34dfcd3",
   "metadata": {},
   "outputs": [
    {
     "name": "stdout",
     "output_type": "stream",
     "text": [
      "+--------------------+\n",
      "|count(DISTINCT Date)|\n",
      "+--------------------+\n",
      "|                 214|\n",
      "+--------------------+\n",
      "\n"
     ]
    }
   ],
   "source": [
    "distinct_matches = spark.sql (\"\"\"\n",
    "select Count(distinct Date) from matches\n",
    "\n",
    "\"\"\").show()"
   ]
  },
  {
   "cell_type": "code",
   "execution_count": 121,
   "id": "ddf21f7c-02c9-40f5-8491-dd9c7b82e6b7",
   "metadata": {},
   "outputs": [
    {
     "name": "stdout",
     "output_type": "stream",
     "text": [
      "root\n",
      " |-- Season: string (nullable = true)\n",
      " |-- Tour: string (nullable = true)\n",
      " |-- Date: string (nullable = true)\n",
      " |-- Time: string (nullable = true)\n",
      " |-- Opponent: string (nullable = true)\n",
      " |-- HoAw: string (nullable = true)\n",
      " |-- ArsenalScore: string (nullable = true)\n",
      " |-- OpponentScore: string (nullable = true)\n",
      " |-- Stadium: string (nullable = true)\n",
      " |-- Attendance: string (nullable = true)\n",
      " |-- Coach: string (nullable = true)\n",
      " |-- Referee: string (nullable = true)\n",
      "\n"
     ]
    }
   ],
   "source": [
    "matches.printSchema()"
   ]
  },
  {
   "cell_type": "markdown",
   "id": "9e408341-1eac-4207-8f3a-d4a9b64b793f",
   "metadata": {},
   "source": [
    "#### Making sure that all matches are unique for each date"
   ]
  },
  {
   "cell_type": "code",
   "execution_count": 122,
   "id": "9e1cd20c-5ee1-45f9-85ee-061894b68579",
   "metadata": {},
   "outputs": [
    {
     "name": "stdout",
     "output_type": "stream",
     "text": [
      "+-----------+\n",
      "|count(Date)|\n",
      "+-----------+\n",
      "|        214|\n",
      "+-----------+\n",
      "\n"
     ]
    }
   ],
   "source": [
    "matches = spark.sql (\"\"\"\n",
    "select count(Date) from matches\n",
    "\"\"\").show()"
   ]
  },
  {
   "cell_type": "markdown",
   "id": "62bbafbd-fbde-4517-844d-7d2a8f6b1f9b",
   "metadata": {},
   "source": [
    "#### Know the Max and Min date to create the DimDate Later"
   ]
  },
  {
   "cell_type": "code",
   "execution_count": 123,
   "id": "96e27870-aa7e-49e6-a5b7-1e334528ad22",
   "metadata": {},
   "outputs": [
    {
     "name": "stdout",
     "output_type": "stream",
     "text": [
      "+----------+----------+\n",
      "|  Max_date|  Min_date|\n",
      "+----------+----------+\n",
      "|2023-02-25|2017-08-11|\n",
      "+----------+----------+\n",
      "\n"
     ]
    }
   ],
   "source": [
    "Dates=spark.sql(\"\"\"\n",
    "    select max(Date) as Max_date,min(Date) as Min_date\n",
    "    from matches\n",
    "\"\"\").show()"
   ]
  },
  {
   "cell_type": "code",
   "execution_count": 155,
   "id": "9ce69fd5-e0a0-4a83-9eb9-4b3cfbb3eb19",
   "metadata": {},
   "outputs": [
    {
     "name": "stdout",
     "output_type": "stream",
     "text": [
      "<class 'pyspark.sql.dataframe.DataFrame'>\n"
     ]
    }
   ],
   "source": [
    "print(type(matches))"
   ]
  },
  {
   "cell_type": "markdown",
   "id": "9c18b6c8-412f-4695-8b33-f8d47c99c98a",
   "metadata": {},
   "source": [
    "##### Adding MatchID column to Matches DataFrame\n"
   ]
  },
  {
   "cell_type": "code",
   "execution_count": 154,
   "id": "c16cb818-cb29-49f7-84b0-e57adf4f1ddc",
   "metadata": {},
   "outputs": [
    {
     "name": "stdout",
     "output_type": "stream",
     "text": [
      "+-------+----+----------+--------+--------------+----+------------+-------------+-----------------+----------+-------------+---------------+-------+\n",
      "| Season|Tour|      Date|    Time|      Opponent|HoAw|ArsenalScore|OpponentScore|          Stadium|Attendance|        Coach|        Referee|MatchID|\n",
      "+-------+----+----------+--------+--------------+----+------------+-------------+-----------------+----------+-------------+---------------+-------+\n",
      "|2017/18|   1|2017-08-11|20:45:00|     Leicester|home|           4|            3| Emirates Stadium|     59387|Arsène Wenger|      Mike Dean|      0|\n",
      "|2017/18|   2|2017-08-19|18:30:00|    Stoke City|away|           0|            1|   bet365 Stadium|     29459|Arsène Wenger| Andre Marriner|      1|\n",
      "|2017/18|   3|2017-08-27|17:00:00|     Liverpool|away|           0|            4|          Anfield|     53206|Arsène Wenger|   Craig Pawson|      2|\n",
      "|2017/18|   4|2017-09-09|16:00:00|   Bournemouth|home|           3|            0| Emirates Stadium|     59262|Arsène Wenger| Anthony Taylor|      3|\n",
      "|2017/18|   5|2017-09-17|14:30:00|       Chelsea|away|           0|            0|  Stamford Bridge|     41478|Arsène Wenger| Michael Oliver|      4|\n",
      "|2017/18|   6|2017-09-25|21:00:00|     West Brom|home|           2|            0| Emirates Stadium|     59134|Arsène Wenger|   Bobby Madley|      5|\n",
      "|2017/18|   7|2017-10-01|13:00:00|      Brighton|home|           2|            0| Emirates Stadium|     59378|Arsène Wenger|   Kevin Friend|      6|\n",
      "|2017/18|   8|2017-10-14|18:30:00|       Watford|away|           1|            2|    Vicarage Road|     20384|Arsène Wenger| Neil Swarbrick|      7|\n",
      "|2017/18|   9|2017-10-22|14:30:00|       Everton|away|           5|            2|    Goodison Park|     39189|Arsène Wenger|   Craig Pawson|      8|\n",
      "|2017/18|  10|2017-10-28|16:00:00|       Swansea|home|           2|            1| Emirates Stadium|     59493|Arsène Wenger|      Lee Mason|      9|\n",
      "|2017/18|  11|2017-11-05|15:15:00|      Man City|away|           1|            3|   Etihad Stadium|     54286|Arsène Wenger| Michael Oliver|     10|\n",
      "|2017/18|  12|2017-11-18|13:30:00|     Tottenham|home|           2|            0| Emirates Stadium|     59530|Arsène Wenger|      Mike Dean|     11|\n",
      "|2017/18|  13|2017-11-26|15:00:00|       Burnley|away|           1|            0|        Turf Moor|     21722|Arsène Wenger|      Lee Mason|     12|\n",
      "|2017/18|  14|2017-11-29|20:45:00|  Huddersfield|home|           5|            0| Emirates Stadium|     59285|Arsène Wenger|   Graham Scott|     13|\n",
      "|2017/18|  15|2017-12-02|18:30:00|       Man Utd|home|           1|            3| Emirates Stadium|     59547|Arsène Wenger| Andre Marriner|     14|\n",
      "|2017/18|  16|2017-12-10|13:00:00|   Southampton|away|           1|            1|St Mary's Stadium|     31643|Arsène Wenger|   Bobby Madley|     15|\n",
      "|2017/18|  17|2017-12-13|21:00:00|      West Ham|away|           0|            0|   London Stadium|     56925|Arsène Wenger|  Jonathan Moss|     16|\n",
      "|2017/18|  18|2017-12-16|16:00:00|     Newcastle|home|           1|            0| Emirates Stadium|     59379|Arsène Wenger| Stuart Attwell|     17|\n",
      "|2017/18|  19|2017-12-22|20:45:00|     Liverpool|home|           3|            3| Emirates Stadium|     59409|Arsène Wenger|Martin Atkinson|     18|\n",
      "|2017/18|  20|2017-12-28|21:00:00|Crystal Palace|away|           3|            2|    Selhurst Park|     25762|Arsène Wenger| Michael Oliver|     19|\n",
      "+-------+----+----------+--------+--------------+----+------------+-------------+-----------------+----------+-------------+---------------+-------+\n",
      "only showing top 20 rows\n",
      "\n"
     ]
    }
   ],
   "source": [
    "\n",
    "DimMatch = matches.withColumn(\"MatchID\", monotonically_increasing_id())\n",
    "DimMatch.show()\n"
   ]
  },
  {
   "cell_type": "code",
   "execution_count": 156,
   "id": "762fa32e-d798-476b-b1c1-85e19e77bd9d",
   "metadata": {},
   "outputs": [
    {
     "data": {
      "text/plain": [
       "['Season',\n",
       " 'Tour',\n",
       " 'Date',\n",
       " 'Time',\n",
       " 'Opponent',\n",
       " 'HoAw',\n",
       " 'ArsenalScore',\n",
       " 'OpponentScore',\n",
       " 'Stadium',\n",
       " 'Attendance',\n",
       " 'Coach',\n",
       " 'Referee',\n",
       " 'MatchID']"
      ]
     },
     "execution_count": 156,
     "metadata": {},
     "output_type": "execute_result"
    }
   ],
   "source": [
    "DimMatch.columns"
   ]
  },
  {
   "cell_type": "markdown",
   "id": "21acef81-6886-4374-bca6-e399d3223f12",
   "metadata": {},
   "source": [
    "#### Loading the DimMatch for DWH Schema in ArsenalFC Database in Post"
   ]
  },
  {
   "cell_type": "code",
   "execution_count": 157,
   "id": "0f5e9131-c229-4c1d-b862-747b75584bca",
   "metadata": {},
   "outputs": [],
   "source": [
    "DimMatch=DimMatch.withColumn(\"FormattedDate\",date_format(to_date(\"Date\",\"yyyy-MM-dd\"),\"yyyy-MM-dd\"))"
   ]
  },
  {
   "cell_type": "code",
   "execution_count": 158,
   "id": "1a28c5cf-8491-4bd4-ac73-ee0cca8c9823",
   "metadata": {},
   "outputs": [],
   "source": [
    "DimMatch.write.format(\"jdbc\") \\\n",
    "    .option(\"url\", \"jdbc:postgresql://localhost:5432/Football\") \\\n",
    "    .option(\"driver\", \"org.postgresql.Driver\") \\\n",
    "    .option(\"dbtable\", \"dwh.DimArsenalMatches\") \\\n",
    "    .option(\"user\", \"root\") \\\n",
    "    .option(\"password\", \"root\") \\\n",
    "    .mode(\"overwrite\") \\\n",
    "    .save()"
   ]
  },
  {
   "cell_type": "markdown",
   "id": "477b5da3-3f80-4cf0-a65e-5d852b5bbf00",
   "metadata": {},
   "source": [
    "### Transforming Players Data & Creating the DimPlayers and Fact Players"
   ]
  },
  {
   "cell_type": "code",
   "execution_count": 159,
   "id": "cd7c72e3-daa5-4508-bd27-92dc355c81bc",
   "metadata": {},
   "outputs": [],
   "source": [
    "players.createOrReplaceTempView(\"players\")"
   ]
  },
  {
   "cell_type": "code",
   "execution_count": 160,
   "id": "a00dd5fc-8ec4-49b0-a18d-a7a704d1b574",
   "metadata": {},
   "outputs": [
    {
     "data": {
      "text/plain": [
       "['LastName',\n",
       " 'FirstName',\n",
       " 'Date',\n",
       " 'Start',\n",
       " 'Pos',\n",
       " 'Min',\n",
       " 'G',\n",
       " 'A',\n",
       " 'PK',\n",
       " 'PKA',\n",
       " 'S',\n",
       " 'SoT',\n",
       " 'YK',\n",
       " 'RK',\n",
       " 'Touches',\n",
       " 'Tackles',\n",
       " 'Ints',\n",
       " 'Blocks',\n",
       " 'xG',\n",
       " 'npxG',\n",
       " 'xAG',\n",
       " 'Passes',\n",
       " 'PassesA',\n",
       " 'PrgPas',\n",
       " 'Carries',\n",
       " 'PrgCar',\n",
       " 'Line',\n",
       " 'C',\n",
       " 'fullname']"
      ]
     },
     "execution_count": 160,
     "metadata": {},
     "output_type": "execute_result"
    }
   ],
   "source": [
    "players.columns"
   ]
  },
  {
   "cell_type": "code",
   "execution_count": 161,
   "id": "c7dda0f6-8c8a-4ac1-aa50-ab8f31f8e363",
   "metadata": {},
   "outputs": [
    {
     "name": "stdout",
     "output_type": "stream",
     "text": [
      "+-------------------+\n",
      "|           fullname|\n",
      "+-------------------+\n",
      "|    Hector Bellerin|\n",
      "|     Mohamed Elneny|\n",
      "|        Rob Holding|\n",
      "|     Sead Kolasinac|\n",
      "|Alexandre Lacazette|\n",
      "|      Nacho Monreal|\n",
      "|         Mesut Ozil|\n",
      "|      Danny Welbeck|\n",
      "|       Granit Xhaka|\n",
      "|       Aaron Ramsey|\n",
      "|    Hector Bellerin|\n",
      "|     Sead Kolasinac|\n",
      "|Alexandre Lacazette|\n",
      "|      Nacho Monreal|\n",
      "|   Shkodran Mustafi|\n",
      "|         Mesut Ozil|\n",
      "|       Aaron Ramsey|\n",
      "|      Danny Welbeck|\n",
      "|       Granit Xhaka|\n",
      "|         Alex Iwobi|\n",
      "+-------------------+\n",
      "only showing top 20 rows\n",
      "\n"
     ]
    }
   ],
   "source": [
    "spark.sql(\"\"\"\n",
    "    select concat(FirstName, \" \", LastName) as fullname\n",
    "    from players\n",
    "\"\"\").show()"
   ]
  },
  {
   "cell_type": "code",
   "execution_count": 162,
   "id": "c018e8a5-9bb2-4a84-b1e8-f541ab7b93b6",
   "metadata": {},
   "outputs": [
    {
     "name": "stdout",
     "output_type": "stream",
     "text": [
      "+----------------+\n",
      "|        FullName|\n",
      "+----------------+\n",
      "|Emile Smith Rowe|\n",
      "| Folarin Balogun|\n",
      "| Hector Bellerin|\n",
      "|     Joe Willock|\n",
      "|  William Saliba|\n",
      "|    Aaron Ramsey|\n",
      "|     Bukayo Saka|\n",
      "|  Kieran Tierney|\n",
      "|Shkodran Mustafi|\n",
      "| Daniel Ceballos|\n",
      "+----------------+\n",
      "only showing top 10 rows\n",
      "\n"
     ]
    }
   ],
   "source": [
    "distinct_players=spark.sql(\"\"\"\n",
    "        select distinct concat(FirstName,\" \",LastName) as FullName\n",
    "        from players\n",
    "\"\"\")\n",
    "distinct_players.show(10)"
   ]
  },
  {
   "cell_type": "markdown",
   "id": "1bb44020-8b42-4a6d-9943-adcf28965f00",
   "metadata": {},
   "source": [
    "### Count the distinct Date to check if it match with DimMatches or not"
   ]
  },
  {
   "cell_type": "code",
   "execution_count": 163,
   "id": "c14dc7e8-b4b9-4c49-bad1-60cbffb9eb3a",
   "metadata": {},
   "outputs": [
    {
     "name": "stdout",
     "output_type": "stream",
     "text": [
      "+-----+\n",
      "|count|\n",
      "+-----+\n",
      "|  214|\n",
      "+-----+\n",
      "\n"
     ]
    }
   ],
   "source": [
    "spark.sql(\"\"\"\n",
    "    select count(distinct date) as count\n",
    "    from players\n",
    "\"\"\").show()"
   ]
  },
  {
   "cell_type": "code",
   "execution_count": 164,
   "id": "538160ca-6c22-469b-af00-094559ecf9de",
   "metadata": {},
   "outputs": [],
   "source": [
    "distinct_players=distinct_players.withColumn(\"playerID\",monotonically_increasing_id())"
   ]
  },
  {
   "cell_type": "markdown",
   "id": "9a16912b-c8ec-44f2-8236-19e0cc6a0804",
   "metadata": {},
   "source": [
    "### Adding fullname column to Player so we can create the DimPlayers joinig it with Distinct_Player Table"
   ]
  },
  {
   "cell_type": "code",
   "execution_count": 165,
   "id": "75dfb84d-d677-48fa-8cf9-ffbe0d2be741",
   "metadata": {},
   "outputs": [],
   "source": [
    "players=players.withColumn('fullname',concat_ws(\" \",col('FirstName'),col('LastName')))"
   ]
  },
  {
   "cell_type": "code",
   "execution_count": 166,
   "id": "f81e8816-0e50-4e28-83c7-92b78d25333a",
   "metadata": {},
   "outputs": [
    {
     "name": "stdout",
     "output_type": "stream",
     "text": [
      "+-------------------+\n",
      "|fullname           |\n",
      "+-------------------+\n",
      "|Hector Bellerin    |\n",
      "|Mohamed Elneny     |\n",
      "|Rob Holding        |\n",
      "|Sead Kolasinac     |\n",
      "|Alexandre Lacazette|\n",
      "+-------------------+\n",
      "only showing top 5 rows\n",
      "\n"
     ]
    }
   ],
   "source": [
    "players.select('fullname').show(5,False)"
   ]
  },
  {
   "cell_type": "code",
   "execution_count": 167,
   "id": "325fd0f4-6ca7-49c3-bfd3-1ca0dcd39181",
   "metadata": {},
   "outputs": [
    {
     "name": "stdout",
     "output_type": "stream",
     "text": [
      "+--------+---------+---------+-----+---+---+---+---+---+---+---+---+---+---+-------+-------+----+------+---+----+---+------+-------+------+-------+------+----------+---+---------------+\n",
      "|LastName|FirstName|     Date|Start|Pos|Min|  G|  A| PK|PKA|  S|SoT| YK| RK|Touches|Tackles|Ints|Blocks| xG|npxG|xAG|Passes|PassesA|PrgPas|Carries|PrgCar|      Line|  C|       fullname|\n",
      "+--------+---------+---------+-----+---+---+---+---+---+---+---+---+---+---+-------+-------+----+------+---+----+---+------+-------+------+-------+------+----------+---+---------------+\n",
      "|Bellerin|   Hector|8/11/2017|    1| WB| 90|  0|  0|  0|  0|  1|  1|  0|  0|     79|      3|   0|     0|0.3| 0.3|  0|    61|     70|     3|     51|     1|  Defender|  0|Hector Bellerin|\n",
      "|  Elneny|  Mohamed|8/11/2017|    1| CM| 66|  0|  1|  0|  0|  1|  0|  0|  0|     82|      4|   0|     2|  0|   0|0.1|    65|     72|     4|     57|     0|Midfielder|  0| Mohamed Elneny|\n",
      "+--------+---------+---------+-----+---+---+---+---+---+---+---+---+---+---+-------+-------+----+------+---+----+---+------+-------+------+-------+------+----------+---+---------------+\n",
      "only showing top 2 rows\n",
      "\n"
     ]
    }
   ],
   "source": [
    "players.show(2)"
   ]
  },
  {
   "cell_type": "code",
   "execution_count": 168,
   "id": "9af36404-5e2c-46b7-bdcf-d0240a6443ca",
   "metadata": {},
   "outputs": [
    {
     "data": {
      "text/plain": [
       "['LastName',\n",
       " 'FirstName',\n",
       " 'Date',\n",
       " 'Start',\n",
       " 'Pos',\n",
       " 'Min',\n",
       " 'G',\n",
       " 'A',\n",
       " 'PK',\n",
       " 'PKA',\n",
       " 'S',\n",
       " 'SoT',\n",
       " 'YK',\n",
       " 'RK',\n",
       " 'Touches',\n",
       " 'Tackles',\n",
       " 'Ints',\n",
       " 'Blocks',\n",
       " 'xG',\n",
       " 'npxG',\n",
       " 'xAG',\n",
       " 'Passes',\n",
       " 'PassesA',\n",
       " 'PrgPas',\n",
       " 'Carries',\n",
       " 'PrgCar',\n",
       " 'Line',\n",
       " 'C',\n",
       " 'fullname']"
      ]
     },
     "execution_count": 168,
     "metadata": {},
     "output_type": "execute_result"
    }
   ],
   "source": [
    "players.columns"
   ]
  },
  {
   "cell_type": "markdown",
   "id": "ac2e2bb6-c484-4324-96c1-7ac6a0578a9c",
   "metadata": {},
   "source": [
    "Creating DimPlayers"
   ]
  },
  {
   "cell_type": "code",
   "execution_count": 169,
   "id": "f6819281-cd4d-4d73-afd8-d0b35d09c022",
   "metadata": {},
   "outputs": [],
   "source": [
    "DimPlayers=players.join(distinct_players,on='fullname',how='inner')"
   ]
  },
  {
   "cell_type": "code",
   "execution_count": 170,
   "id": "95e5c506-94fb-4b6c-81b8-e29ac1f41cfa",
   "metadata": {},
   "outputs": [
    {
     "data": {
      "text/plain": [
       "['fullname',\n",
       " 'LastName',\n",
       " 'FirstName',\n",
       " 'Date',\n",
       " 'Start',\n",
       " 'Pos',\n",
       " 'Min',\n",
       " 'G',\n",
       " 'A',\n",
       " 'PK',\n",
       " 'PKA',\n",
       " 'S',\n",
       " 'SoT',\n",
       " 'YK',\n",
       " 'RK',\n",
       " 'Touches',\n",
       " 'Tackles',\n",
       " 'Ints',\n",
       " 'Blocks',\n",
       " 'xG',\n",
       " 'npxG',\n",
       " 'xAG',\n",
       " 'Passes',\n",
       " 'PassesA',\n",
       " 'PrgPas',\n",
       " 'Carries',\n",
       " 'PrgCar',\n",
       " 'Line',\n",
       " 'C',\n",
       " 'playerID']"
      ]
     },
     "execution_count": 170,
     "metadata": {},
     "output_type": "execute_result"
    }
   ],
   "source": [
    "DimPlayers.columns"
   ]
  },
  {
   "cell_type": "code",
   "execution_count": 171,
   "id": "b139cd29-721c-4624-a097-e2662b093d83",
   "metadata": {},
   "outputs": [],
   "source": [
    "DimPlayers=DimPlayers.withColumn('FormattedDate',date_format(to_date('Date','m/d/yyyy'),'yyyy-MM-dd'))"
   ]
  },
  {
   "cell_type": "code",
   "execution_count": 172,
   "id": "7f68fe76-f04c-4228-8a37-b6c084c720f2",
   "metadata": {},
   "outputs": [
    {
     "name": "stdout",
     "output_type": "stream",
     "text": [
      "+----------------+----------+---------+----------+-----+---+---+---+---+---+---+---+---+---+---+-------+-------+----+------+---+----+---+------+-------+------+-------+------+----------+---+--------+-------------+\n",
      "|        fullname|  LastName|FirstName|      Date|Start|Pos|Min|  G|  A| PK|PKA|  S|SoT| YK| RK|Touches|Tackles|Ints|Blocks| xG|npxG|xAG|Passes|PassesA|PrgPas|Carries|PrgCar|      Line|  C|playerID|FormattedDate|\n",
      "+----------------+----------+---------+----------+-----+---+---+---+---+---+---+---+---+---+---+-------+-------+----+------+---+----+---+------+-------+------+-------+------+----------+---+--------+-------------+\n",
      "|Emile Smith Rowe|Smith Rowe|    Emile|12/15/2019|    0| AM| 32|  0|  0|  0|  0|  0|  0|  0|  0|     15|      1|   0|     0|  0|   0|  0|    12|     13|     0|     11|     2|Midfielder|  0|       0|   2019-01-15|\n",
      "+----------------+----------+---------+----------+-----+---+---+---+---+---+---+---+---+---+---+-------+-------+----+------+---+----+---+------+-------+------+-------+------+----------+---+--------+-------------+\n",
      "only showing top 1 row\n",
      "\n"
     ]
    }
   ],
   "source": [
    "DimPlayers.show(1)"
   ]
  },
  {
   "cell_type": "markdown",
   "id": "99569727-862e-4ae5-a704-efe0bb156293",
   "metadata": {},
   "source": [
    "### Creating the FactPayers"
   ]
  },
  {
   "cell_type": "code",
   "execution_count": 175,
   "id": "0f446913-b027-456b-9606-e6fef9b7d5a6",
   "metadata": {},
   "outputs": [],
   "source": [
    "DimMatch = DimMatch.withColumn(\"Date\", to_date(\"Date\", \"yyyy-M-d\"))\n",
    "\n",
    "DimPlayers = DimPlayers.withColumn(\"Date\", to_date(\"Date\", \"yyyy-M-d\"))\n"
   ]
  },
  {
   "cell_type": "code",
   "execution_count": 176,
   "id": "d7727f33-9223-4164-b952-bec6ed2a39ea",
   "metadata": {},
   "outputs": [
    {
     "data": {
      "text/plain": [
       "StructType([StructField('fullname', StringType(), False), StructField('LastName', StringType(), True), StructField('FirstName', StringType(), True), StructField('Date', DateType(), True), StructField('Start', StringType(), True), StructField('Pos', StringType(), True), StructField('Min', StringType(), True), StructField('G', StringType(), True), StructField('A', StringType(), True), StructField('PK', StringType(), True), StructField('PKA', StringType(), True), StructField('S', StringType(), True), StructField('SoT', StringType(), True), StructField('YK', StringType(), True), StructField('RK', StringType(), True), StructField('Touches', StringType(), True), StructField('Tackles', StringType(), True), StructField('Ints', StringType(), True), StructField('Blocks', StringType(), True), StructField('xG', StringType(), True), StructField('npxG', StringType(), True), StructField('xAG', StringType(), True), StructField('Passes', StringType(), True), StructField('PassesA', StringType(), True), StructField('PrgPas', StringType(), True), StructField('Carries', StringType(), True), StructField('PrgCar', StringType(), True), StructField('Line', StringType(), True), StructField('C', StringType(), True), StructField('playerID', LongType(), False), StructField('FormattedDate', StringType(), True)])"
      ]
     },
     "execution_count": 176,
     "metadata": {},
     "output_type": "execute_result"
    }
   ],
   "source": [
    "DimPlayers.schema"
   ]
  },
  {
   "cell_type": "code",
   "execution_count": 179,
   "id": "389c3640-129c-4f8e-9605-6d5e9b8a55e0",
   "metadata": {},
   "outputs": [],
   "source": [
    "FactPlayers=DimMatch.join(DimPlayers,on='FormattedDate',how='left')"
   ]
  },
  {
   "cell_type": "code",
   "execution_count": 202,
   "id": "8ba72233-e8a3-4924-a88c-2302b0105dc2",
   "metadata": {},
   "outputs": [
    {
     "name": "stdout",
     "output_type": "stream",
     "text": [
      "+-------------+-------+----+--------+--------------+----+------------+-------------+-----------------+----------+-------------+---------------+-------+--------+--------+---------+-----+----+----+----+----+----+----+----+----+----+----+-------+-------+----+------+----+----+----+------+-------+------+-------+------+----+----+--------+\n",
      "|FormattedDate| Season|Tour|    Time|      Opponent|HoAw|ArsenalScore|OpponentScore|          Stadium|Attendance|        Coach|        Referee|MatchID|fullname|LastName|FirstName|Start| Pos| Min|   G|   A|  PK| PKA|   S| SoT|  YK|  RK|Touches|Tackles|Ints|Blocks|  xG|npxG| xAG|Passes|PassesA|PrgPas|Carries|PrgCar|Line|   C|playerID|\n",
      "+-------------+-------+----+--------+--------------+----+------------+-------------+-----------------+----------+-------------+---------------+-------+--------+--------+---------+-----+----+----+----+----+----+----+----+----+----+----+-------+-------+----+------+----+----+----+------+-------+------+-------+------+----+----+--------+\n",
      "|   2017-08-11|2017/18|   1|20:45:00|     Leicester|home|           4|            3| Emirates Stadium|     59387|Arsène Wenger|      Mike Dean|      0|    NULL|    NULL|     NULL| NULL|NULL|NULL|NULL|NULL|NULL|NULL|NULL|NULL|NULL|NULL|   NULL|   NULL|NULL|  NULL|NULL|NULL|NULL|  NULL|   NULL|  NULL|   NULL|  NULL|NULL|NULL|    NULL|\n",
      "|   2017-08-19|2017/18|   2|18:30:00|    Stoke City|away|           0|            1|   bet365 Stadium|     29459|Arsène Wenger| Andre Marriner|      1|    NULL|    NULL|     NULL| NULL|NULL|NULL|NULL|NULL|NULL|NULL|NULL|NULL|NULL|NULL|   NULL|   NULL|NULL|  NULL|NULL|NULL|NULL|  NULL|   NULL|  NULL|   NULL|  NULL|NULL|NULL|    NULL|\n",
      "|   2017-08-27|2017/18|   3|17:00:00|     Liverpool|away|           0|            4|          Anfield|     53206|Arsène Wenger|   Craig Pawson|      2|    NULL|    NULL|     NULL| NULL|NULL|NULL|NULL|NULL|NULL|NULL|NULL|NULL|NULL|NULL|   NULL|   NULL|NULL|  NULL|NULL|NULL|NULL|  NULL|   NULL|  NULL|   NULL|  NULL|NULL|NULL|    NULL|\n",
      "|   2017-09-09|2017/18|   4|16:00:00|   Bournemouth|home|           3|            0| Emirates Stadium|     59262|Arsène Wenger| Anthony Taylor|      3|    NULL|    NULL|     NULL| NULL|NULL|NULL|NULL|NULL|NULL|NULL|NULL|NULL|NULL|NULL|   NULL|   NULL|NULL|  NULL|NULL|NULL|NULL|  NULL|   NULL|  NULL|   NULL|  NULL|NULL|NULL|    NULL|\n",
      "|   2017-09-17|2017/18|   5|14:30:00|       Chelsea|away|           0|            0|  Stamford Bridge|     41478|Arsène Wenger| Michael Oliver|      4|    NULL|    NULL|     NULL| NULL|NULL|NULL|NULL|NULL|NULL|NULL|NULL|NULL|NULL|NULL|   NULL|   NULL|NULL|  NULL|NULL|NULL|NULL|  NULL|   NULL|  NULL|   NULL|  NULL|NULL|NULL|    NULL|\n",
      "|   2017-09-25|2017/18|   6|21:00:00|     West Brom|home|           2|            0| Emirates Stadium|     59134|Arsène Wenger|   Bobby Madley|      5|    NULL|    NULL|     NULL| NULL|NULL|NULL|NULL|NULL|NULL|NULL|NULL|NULL|NULL|NULL|   NULL|   NULL|NULL|  NULL|NULL|NULL|NULL|  NULL|   NULL|  NULL|   NULL|  NULL|NULL|NULL|    NULL|\n",
      "|   2017-10-01|2017/18|   7|13:00:00|      Brighton|home|           2|            0| Emirates Stadium|     59378|Arsène Wenger|   Kevin Friend|      6|    NULL|    NULL|     NULL| NULL|NULL|NULL|NULL|NULL|NULL|NULL|NULL|NULL|NULL|NULL|   NULL|   NULL|NULL|  NULL|NULL|NULL|NULL|  NULL|   NULL|  NULL|   NULL|  NULL|NULL|NULL|    NULL|\n",
      "|   2017-10-14|2017/18|   8|18:30:00|       Watford|away|           1|            2|    Vicarage Road|     20384|Arsène Wenger| Neil Swarbrick|      7|    NULL|    NULL|     NULL| NULL|NULL|NULL|NULL|NULL|NULL|NULL|NULL|NULL|NULL|NULL|   NULL|   NULL|NULL|  NULL|NULL|NULL|NULL|  NULL|   NULL|  NULL|   NULL|  NULL|NULL|NULL|    NULL|\n",
      "|   2017-10-22|2017/18|   9|14:30:00|       Everton|away|           5|            2|    Goodison Park|     39189|Arsène Wenger|   Craig Pawson|      8|    NULL|    NULL|     NULL| NULL|NULL|NULL|NULL|NULL|NULL|NULL|NULL|NULL|NULL|NULL|   NULL|   NULL|NULL|  NULL|NULL|NULL|NULL|  NULL|   NULL|  NULL|   NULL|  NULL|NULL|NULL|    NULL|\n",
      "|   2017-10-28|2017/18|  10|16:00:00|       Swansea|home|           2|            1| Emirates Stadium|     59493|Arsène Wenger|      Lee Mason|      9|    NULL|    NULL|     NULL| NULL|NULL|NULL|NULL|NULL|NULL|NULL|NULL|NULL|NULL|NULL|   NULL|   NULL|NULL|  NULL|NULL|NULL|NULL|  NULL|   NULL|  NULL|   NULL|  NULL|NULL|NULL|    NULL|\n",
      "|   2017-11-05|2017/18|  11|15:15:00|      Man City|away|           1|            3|   Etihad Stadium|     54286|Arsène Wenger| Michael Oliver|     10|    NULL|    NULL|     NULL| NULL|NULL|NULL|NULL|NULL|NULL|NULL|NULL|NULL|NULL|NULL|   NULL|   NULL|NULL|  NULL|NULL|NULL|NULL|  NULL|   NULL|  NULL|   NULL|  NULL|NULL|NULL|    NULL|\n",
      "|   2017-11-18|2017/18|  12|13:30:00|     Tottenham|home|           2|            0| Emirates Stadium|     59530|Arsène Wenger|      Mike Dean|     11|    NULL|    NULL|     NULL| NULL|NULL|NULL|NULL|NULL|NULL|NULL|NULL|NULL|NULL|NULL|   NULL|   NULL|NULL|  NULL|NULL|NULL|NULL|  NULL|   NULL|  NULL|   NULL|  NULL|NULL|NULL|    NULL|\n",
      "|   2017-11-26|2017/18|  13|15:00:00|       Burnley|away|           1|            0|        Turf Moor|     21722|Arsène Wenger|      Lee Mason|     12|    NULL|    NULL|     NULL| NULL|NULL|NULL|NULL|NULL|NULL|NULL|NULL|NULL|NULL|NULL|   NULL|   NULL|NULL|  NULL|NULL|NULL|NULL|  NULL|   NULL|  NULL|   NULL|  NULL|NULL|NULL|    NULL|\n",
      "|   2017-11-29|2017/18|  14|20:45:00|  Huddersfield|home|           5|            0| Emirates Stadium|     59285|Arsène Wenger|   Graham Scott|     13|    NULL|    NULL|     NULL| NULL|NULL|NULL|NULL|NULL|NULL|NULL|NULL|NULL|NULL|NULL|   NULL|   NULL|NULL|  NULL|NULL|NULL|NULL|  NULL|   NULL|  NULL|   NULL|  NULL|NULL|NULL|    NULL|\n",
      "|   2017-12-02|2017/18|  15|18:30:00|       Man Utd|home|           1|            3| Emirates Stadium|     59547|Arsène Wenger| Andre Marriner|     14|    NULL|    NULL|     NULL| NULL|NULL|NULL|NULL|NULL|NULL|NULL|NULL|NULL|NULL|NULL|   NULL|   NULL|NULL|  NULL|NULL|NULL|NULL|  NULL|   NULL|  NULL|   NULL|  NULL|NULL|NULL|    NULL|\n",
      "|   2017-12-10|2017/18|  16|13:00:00|   Southampton|away|           1|            1|St Mary's Stadium|     31643|Arsène Wenger|   Bobby Madley|     15|    NULL|    NULL|     NULL| NULL|NULL|NULL|NULL|NULL|NULL|NULL|NULL|NULL|NULL|NULL|   NULL|   NULL|NULL|  NULL|NULL|NULL|NULL|  NULL|   NULL|  NULL|   NULL|  NULL|NULL|NULL|    NULL|\n",
      "|   2017-12-13|2017/18|  17|21:00:00|      West Ham|away|           0|            0|   London Stadium|     56925|Arsène Wenger|  Jonathan Moss|     16|    NULL|    NULL|     NULL| NULL|NULL|NULL|NULL|NULL|NULL|NULL|NULL|NULL|NULL|NULL|   NULL|   NULL|NULL|  NULL|NULL|NULL|NULL|  NULL|   NULL|  NULL|   NULL|  NULL|NULL|NULL|    NULL|\n",
      "|   2017-12-16|2017/18|  18|16:00:00|     Newcastle|home|           1|            0| Emirates Stadium|     59379|Arsène Wenger| Stuart Attwell|     17|    NULL|    NULL|     NULL| NULL|NULL|NULL|NULL|NULL|NULL|NULL|NULL|NULL|NULL|NULL|   NULL|   NULL|NULL|  NULL|NULL|NULL|NULL|  NULL|   NULL|  NULL|   NULL|  NULL|NULL|NULL|    NULL|\n",
      "|   2017-12-22|2017/18|  19|20:45:00|     Liverpool|home|           3|            3| Emirates Stadium|     59409|Arsène Wenger|Martin Atkinson|     18|    NULL|    NULL|     NULL| NULL|NULL|NULL|NULL|NULL|NULL|NULL|NULL|NULL|NULL|NULL|   NULL|   NULL|NULL|  NULL|NULL|NULL|NULL|  NULL|   NULL|  NULL|   NULL|  NULL|NULL|NULL|    NULL|\n",
      "|   2017-12-28|2017/18|  20|21:00:00|Crystal Palace|away|           3|            2|    Selhurst Park|     25762|Arsène Wenger| Michael Oliver|     19|    NULL|    NULL|     NULL| NULL|NULL|NULL|NULL|NULL|NULL|NULL|NULL|NULL|NULL|NULL|   NULL|   NULL|NULL|  NULL|NULL|NULL|NULL|  NULL|   NULL|  NULL|   NULL|  NULL|NULL|NULL|    NULL|\n",
      "+-------------+-------+----+--------+--------------+----+------------+-------------+-----------------+----------+-------------+---------------+-------+--------+--------+---------+-----+----+----+----+----+----+----+----+----+----+----+-------+-------+----+------+----+----+----+------+-------+------+-------+------+----+----+--------+\n",
      "only showing top 20 rows\n",
      "\n"
     ]
    }
   ],
   "source": [
    "FactPlayers.show()"
   ]
  },
  {
   "cell_type": "code",
   "execution_count": 204,
   "id": "e7b06337-9d58-4e9d-aefb-3eaff4724026",
   "metadata": {},
   "outputs": [],
   "source": [
    "FactPlayers = FactPlayers.drop('Date')\n"
   ]
  },
  {
   "cell_type": "code",
   "execution_count": 208,
   "id": "71cc54dc-cef1-41f8-ae02-512062b815bd",
   "metadata": {},
   "outputs": [
    {
     "name": "stdout",
     "output_type": "stream",
     "text": [
      "+-------------+-------+----+----------+--------+--------------+----+------------+-------------+-----------------+----------+-----------------+---------------+-------+--------+--------+---------+----+-----+----+----+----+----+----+----+----+----+----+----+-------+-------+----+------+----+----+----+------+-------+------+-------+------+----+----+--------+\n",
      "|FormattedDate| Season|Tour|      Date|    Time|      Opponent|HoAw|ArsenalScore|OpponentScore|          Stadium|Attendance|            Coach|        Referee|MatchID|fullname|LastName|FirstName|Date|Start| Pos| Min|   G|   A|  PK| PKA|   S| SoT|  YK|  RK|Touches|Tackles|Ints|Blocks|  xG|npxG| xAG|Passes|PassesA|PrgPas|Carries|PrgCar|Line|   C|playerID|\n",
      "+-------------+-------+----+----------+--------+--------------+----+------------+-------------+-----------------+----------+-----------------+---------------+-------+--------+--------+---------+----+-----+----+----+----+----+----+----+----+----+----+----+-------+-------+----+------+----+----+----+------+-------+------+-------+------+----+----+--------+\n",
      "|   2017-12-22|2017/18|  19|2017-12-22|20:45:00|     Liverpool|home|           3|            3| Emirates Stadium|     59409|    Arsène Wenger|Martin Atkinson|     18|    NULL|    NULL|     NULL|NULL| NULL|NULL|NULL|NULL|NULL|NULL|NULL|NULL|NULL|NULL|NULL|   NULL|   NULL|NULL|  NULL|NULL|NULL|NULL|  NULL|   NULL|  NULL|   NULL|  NULL|NULL|NULL|    NULL|\n",
      "|   2020-09-12|2020/21|   1|2020-09-12|13:30:00|        Fulham|away|           3|            0|   Craven Cottage|         0|     Mikel Arteta| Chris Kavanagh|    114|    NULL|    NULL|     NULL|NULL| NULL|NULL|NULL|NULL|NULL|NULL|NULL|NULL|NULL|NULL|NULL|   NULL|   NULL|NULL|  NULL|NULL|NULL|NULL|  NULL|   NULL|  NULL|   NULL|  NULL|NULL|NULL|    NULL|\n",
      "|   2020-06-20|2019/20|  30|2020-06-20|16:00:00|      Brighton|away|           1|            2|     AMEX Stadium|         0|     Mikel Arteta|Martin Atkinson|    105|    NULL|    NULL|     NULL|NULL| NULL|NULL|NULL|NULL|NULL|NULL|NULL|NULL|NULL|NULL|NULL|   NULL|   NULL|NULL|  NULL|NULL|NULL|NULL|  NULL|   NULL|  NULL|   NULL|  NULL|NULL|NULL|    NULL|\n",
      "|   2018-12-22|2018/19|  18|2018-12-22|13:30:00|       Burnley|home|           3|            1| Emirates Stadium|     59493|       Unai Emery|   Kevin Friend|     55|    NULL|    NULL|     NULL|NULL| NULL|NULL|NULL|NULL|NULL|NULL|NULL|NULL|NULL|NULL|NULL|   NULL|   NULL|NULL|  NULL|NULL|NULL|NULL|  NULL|   NULL|  NULL|   NULL|  NULL|NULL|NULL|    NULL|\n",
      "|   2017-10-01|2017/18|   7|2017-10-01|13:00:00|      Brighton|home|           2|            0| Emirates Stadium|     59378|    Arsène Wenger|   Kevin Friend|      6|    NULL|    NULL|     NULL|NULL| NULL|NULL|NULL|NULL|NULL|NULL|NULL|NULL|NULL|NULL|NULL|   NULL|   NULL|NULL|  NULL|NULL|NULL|NULL|  NULL|   NULL|  NULL|   NULL|  NULL|NULL|NULL|    NULL|\n",
      "|   2019-09-22|2019/20|   6|2019-09-22|17:30:00|   Aston Villa|home|           3|            2| Emirates Stadium|     60331|       Unai Emery|  Jonathan Moss|     81|    NULL|    NULL|     NULL|NULL| NULL|NULL|NULL|NULL|NULL|NULL|NULL|NULL|NULL|NULL|NULL|   NULL|   NULL|NULL|  NULL|NULL|NULL|NULL|  NULL|   NULL|  NULL|   NULL|  NULL|NULL|NULL|    NULL|\n",
      "|   2018-09-15|2018/19|   5|2018-09-15|16:00:00|     Newcastle|away|           2|            1|   St James' Park|     52165|       Unai Emery|    Lee Probert|     42|    NULL|    NULL|     NULL|NULL| NULL|NULL|NULL|NULL|NULL|NULL|NULL|NULL|NULL|NULL|NULL|   NULL|   NULL|NULL|  NULL|NULL|NULL|NULL|  NULL|   NULL|  NULL|   NULL|  NULL|NULL|NULL|    NULL|\n",
      "|   2022-02-19|2021/22|  26|2022-02-19|16:00:00|     Brentford|home|           2|            1| Emirates Stadium|     60015|     Mikel Arteta|  Jonathan Moss|    174|    NULL|    NULL|     NULL|NULL| NULL|NULL|NULL|NULL|NULL|NULL|NULL|NULL|NULL|NULL|NULL|   NULL|   NULL|NULL|  NULL|NULL|NULL|NULL|  NULL|   NULL|  NULL|   NULL|  NULL|NULL|NULL|    NULL|\n",
      "|   2020-11-29|2020/21|  10|2020-11-29|20:15:00|        Wolves|home|           1|            2| Emirates Stadium|         0|     Mikel Arteta| Michael Oliver|    123|    NULL|    NULL|     NULL|NULL| NULL|NULL|NULL|NULL|NULL|NULL|NULL|NULL|NULL|NULL|NULL|   NULL|   NULL|NULL|  NULL|NULL|NULL|NULL|  NULL|   NULL|  NULL|   NULL|  NULL|NULL|NULL|    NULL|\n",
      "|   2018-12-16|2018/19|  17|2018-12-16|14:30:00|   Southampton|away|           2|            3|St Mary's Stadium|     29497|       Unai Emery| Chris Kavanagh|     54|    NULL|    NULL|     NULL|NULL| NULL|NULL|NULL|NULL|NULL|NULL|NULL|NULL|NULL|NULL|NULL|   NULL|   NULL|NULL|  NULL|NULL|NULL|NULL|  NULL|   NULL|  NULL|   NULL|  NULL|NULL|NULL|    NULL|\n",
      "|   2022-04-04|2021/22|  31|2022-04-04|21:00:00|Crystal Palace|away|           0|            3|    Selhurst Park|     25149|     Mikel Arteta|   Paul Tierney|    180|    NULL|    NULL|     NULL|NULL| NULL|NULL|NULL|NULL|NULL|NULL|NULL|NULL|NULL|NULL|NULL|   NULL|   NULL|NULL|  NULL|NULL|NULL|NULL|  NULL|   NULL|  NULL|   NULL|  NULL|NULL|NULL|    NULL|\n",
      "|   2018-10-07|2018/19|   8|2018-10-07|13:00:00|        Fulham|away|           5|            1|   Craven Cottage|     25401|       Unai Emery|   Paul Tierney|     45|    NULL|    NULL|     NULL|NULL| NULL|NULL|NULL|NULL|NULL|NULL|NULL|NULL|NULL|NULL|NULL|   NULL|   NULL|NULL|  NULL|NULL|NULL|NULL|  NULL|   NULL|  NULL|   NULL|  NULL|NULL|NULL|    NULL|\n",
      "|   2021-12-06|2021/22|  15|2021-12-06|21:00:00|       Everton|away|           1|            2|    Goodison Park|     38906|     Mikel Arteta|      Mike Dean|    166|    NULL|    NULL|     NULL|NULL| NULL|NULL|NULL|NULL|NULL|NULL|NULL|NULL|NULL|NULL|NULL|   NULL|   NULL|NULL|  NULL|NULL|NULL|NULL|  NULL|   NULL|  NULL|   NULL|  NULL|NULL|NULL|    NULL|\n",
      "|   2020-12-16|2020/21|  13|2020-12-16|19:00:00|   Southampton|home|           1|            1| Emirates Stadium|         0|     Mikel Arteta|   Paul Tierney|    126|    NULL|    NULL|     NULL|NULL| NULL|NULL|NULL|NULL|NULL|NULL|NULL|NULL|NULL|NULL|NULL|   NULL|   NULL|NULL|  NULL|NULL|NULL|NULL|  NULL|   NULL|  NULL|   NULL|  NULL|NULL|NULL|    NULL|\n",
      "|   2022-05-16|2021/22|  37|2022-05-16|21:00:00|     Newcastle|away|           0|            2|   St James' Park|     52274|     Mikel Arteta| Darren England|    188|    NULL|    NULL|     NULL|NULL| NULL|NULL|NULL|NULL|NULL|NULL|NULL|NULL|NULL|NULL|NULL|   NULL|   NULL|NULL|  NULL|NULL|NULL|NULL|  NULL|   NULL|  NULL|   NULL|  NULL|NULL|NULL|    NULL|\n",
      "|   2019-10-06|2019/20|   8|2019-10-06|15:00:00|   Bournemouth|home|           1|            0| Emirates Stadium|     60326|       Unai Emery|Martin Atkinson|     83|    NULL|    NULL|     NULL|NULL| NULL|NULL|NULL|NULL|NULL|NULL|NULL|NULL|NULL|NULL|NULL|   NULL|   NULL|NULL|  NULL|NULL|NULL|NULL|  NULL|   NULL|  NULL|   NULL|  NULL|NULL|NULL|    NULL|\n",
      "|   2018-11-11|2018/19|  12|2018-11-11|17:30:00|        Wolves|home|           1|            1| Emirates Stadium|     60030|       Unai Emery| Stuart Attwell|     49|    NULL|    NULL|     NULL|NULL| NULL|NULL|NULL|NULL|NULL|NULL|NULL|NULL|NULL|NULL|NULL|   NULL|   NULL|NULL|  NULL|NULL|NULL|NULL|  NULL|   NULL|  NULL|   NULL|  NULL|NULL|NULL|    NULL|\n",
      "|   2019-04-01|2018/19|  32|2019-04-01|21:00:00|     Newcastle|home|           2|            0| Emirates Stadium|     59869|       Unai Emery| Anthony Taylor|     68|    NULL|    NULL|     NULL|NULL| NULL|NULL|NULL|NULL|NULL|NULL|NULL|NULL|NULL|NULL|NULL|   NULL|   NULL|NULL|  NULL|NULL|NULL|NULL|  NULL|   NULL|  NULL|   NULL|  NULL|NULL|NULL|    NULL|\n",
      "|   2019-12-09|2019/20|  16|2019-12-09|21:00:00|      West Ham|away|           3|            1|   London Stadium|     59936|Freddie Ljungberg|      Mike Dean|     91|    NULL|    NULL|     NULL|NULL| NULL|NULL|NULL|NULL|NULL|NULL|NULL|NULL|NULL|NULL|NULL|   NULL|   NULL|NULL|  NULL|NULL|NULL|NULL|  NULL|   NULL|  NULL|   NULL|  NULL|NULL|NULL|    NULL|\n",
      "|   2019-08-11|2019/20|   1|2019-08-11|15:00:00|     Newcastle|away|           1|            0|   St James' Park|     47635|       Unai Emery|Martin Atkinson|     76|    NULL|    NULL|     NULL|NULL| NULL|NULL|NULL|NULL|NULL|NULL|NULL|NULL|NULL|NULL|NULL|   NULL|   NULL|NULL|  NULL|NULL|NULL|NULL|  NULL|   NULL|  NULL|   NULL|  NULL|NULL|NULL|    NULL|\n",
      "+-------------+-------+----+----------+--------+--------------+----+------------+-------------+-----------------+----------+-----------------+---------------+-------+--------+--------+---------+----+-----+----+----+----+----+----+----+----+----+----+----+-------+-------+----+------+----+----+----+------+-------+------+-------+------+----+----+--------+\n",
      "only showing top 20 rows\n",
      "\n"
     ]
    }
   ],
   "source": [
    "spark.sql( \"SELECT * FROM fact_players WHERE \" + ' OR '.join([f\"{col} IS NULL\" for col in FactPlayers.columns])\n",
    "         ).show()\n"
   ]
  },
  {
   "cell_type": "code",
   "execution_count": 207,
   "id": "8745e651-a8dc-4440-a06a-9c027e3a8775",
   "metadata": {},
   "outputs": [
    {
     "data": {
      "text/plain": [
       "['FormattedDate',\n",
       " 'Season',\n",
       " 'Tour',\n",
       " 'Time',\n",
       " 'Opponent',\n",
       " 'HoAw',\n",
       " 'ArsenalScore',\n",
       " 'OpponentScore',\n",
       " 'Stadium',\n",
       " 'Attendance',\n",
       " 'Coach',\n",
       " 'Referee',\n",
       " 'MatchID',\n",
       " 'fullname',\n",
       " 'LastName',\n",
       " 'FirstName',\n",
       " 'Start',\n",
       " 'Pos',\n",
       " 'Min',\n",
       " 'G',\n",
       " 'A',\n",
       " 'PK',\n",
       " 'PKA',\n",
       " 'S',\n",
       " 'SoT',\n",
       " 'YK',\n",
       " 'RK',\n",
       " 'Touches',\n",
       " 'Tackles',\n",
       " 'Ints',\n",
       " 'Blocks',\n",
       " 'xG',\n",
       " 'npxG',\n",
       " 'xAG',\n",
       " 'Passes',\n",
       " 'PassesA',\n",
       " 'PrgPas',\n",
       " 'Carries',\n",
       " 'PrgCar',\n",
       " 'Line',\n",
       " 'C',\n",
       " 'playerID']"
      ]
     },
     "execution_count": 207,
     "metadata": {},
     "output_type": "execute_result"
    }
   ],
   "source": [
    "FactPlayers.columns"
   ]
  },
  {
   "cell_type": "code",
   "execution_count": 209,
   "id": "0813b00f-d6dc-4ceb-943f-7ddb97299004",
   "metadata": {},
   "outputs": [],
   "source": [
    "FactPlayers=FactPlayers.drop('Season',\n",
    " 'Tour',\n",
    " 'Time',\n",
    " 'Opponent',\n",
    " 'HoAw',\n",
    " 'Stadium','Coach',\n",
    " 'Referee',\n",
    "   'fullname',\n",
    " 'LastName',\n",
    " 'FirstName','Line')"
   ]
  },
  {
   "cell_type": "code",
   "execution_count": 213,
   "id": "73e75711-1a7c-4ed1-a0c9-5b73b76c74dd",
   "metadata": {},
   "outputs": [
    {
     "data": {
      "text/plain": [
       "['FormattedDate',\n",
       " 'ArsenalScore',\n",
       " 'OpponentScore',\n",
       " 'Attendance',\n",
       " 'MatchID',\n",
       " 'Start',\n",
       " 'Pos',\n",
       " 'Min',\n",
       " 'G',\n",
       " 'A',\n",
       " 'PK',\n",
       " 'PKA',\n",
       " 'S',\n",
       " 'SoT',\n",
       " 'YK',\n",
       " 'RK',\n",
       " 'Touches',\n",
       " 'Tackles',\n",
       " 'Ints',\n",
       " 'Blocks',\n",
       " 'xG',\n",
       " 'npxG',\n",
       " 'xAG',\n",
       " 'Passes',\n",
       " 'PassesA',\n",
       " 'PrgPas',\n",
       " 'Carries',\n",
       " 'PrgCar',\n",
       " 'C',\n",
       " 'playerID']"
      ]
     },
     "execution_count": 213,
     "metadata": {},
     "output_type": "execute_result"
    }
   ],
   "source": [
    "FactPlayers.columns"
   ]
  },
  {
   "cell_type": "markdown",
   "id": "424c9661-df33-4986-97f6-e308f3274a39",
   "metadata": {},
   "source": [
    "#### Loading the FactPlayers for DWH Schema in ArsenalFC Database in PostgreSql"
   ]
  },
  {
   "cell_type": "code",
   "execution_count": 215,
   "id": "2264cf49-bd97-430d-b11f-170fe6f1d377",
   "metadata": {},
   "outputs": [],
   "source": [
    "FactPlayers.write.format(\"jdbc\") \\\n",
    "    .option(\"url\",\"jdbc:postgresql://localhost:5432/Football\")\\\n",
    "    .option(\"driver\",\"org.postgresql.Driver\") \\\n",
    "    .option(\"dbtable\",\"dwh.FactArsenalPlayers\") \\\n",
    "    .option(\"user\",\"root\") \\\n",
    "    .option(\"password\",\"root\")\\\n",
    "    .mode(\"overwrite\") \\\n",
    "    .save()"
   ]
  },
  {
   "cell_type": "code",
   "execution_count": 216,
   "id": "b04b956b-126a-4a30-aad9-d5cbb63dcbcf",
   "metadata": {},
   "outputs": [
    {
     "data": {
      "text/plain": [
       "['FormattedDate',\n",
       " 'ArsenalScore',\n",
       " 'OpponentScore',\n",
       " 'Attendance',\n",
       " 'MatchID',\n",
       " 'Start',\n",
       " 'Pos',\n",
       " 'Min',\n",
       " 'G',\n",
       " 'A',\n",
       " 'PK',\n",
       " 'PKA',\n",
       " 'S',\n",
       " 'SoT',\n",
       " 'YK',\n",
       " 'RK',\n",
       " 'Touches',\n",
       " 'Tackles',\n",
       " 'Ints',\n",
       " 'Blocks',\n",
       " 'xG',\n",
       " 'npxG',\n",
       " 'xAG',\n",
       " 'Passes',\n",
       " 'PassesA',\n",
       " 'PrgPas',\n",
       " 'Carries',\n",
       " 'PrgCar',\n",
       " 'C',\n",
       " 'playerID']"
      ]
     },
     "execution_count": 216,
     "metadata": {},
     "output_type": "execute_result"
    }
   ],
   "source": [
    "FactPlayers.columns"
   ]
  },
  {
   "cell_type": "code",
   "execution_count": 217,
   "id": "06c6202a-b8eb-4135-82ca-7bef6ecf115f",
   "metadata": {},
   "outputs": [],
   "source": [
    "DimPlayers= DimPlayers.drop('Date',\n",
    " 'Start',\n",
    " 'Min',\n",
    " 'G',\n",
    " 'A',\n",
    " 'PK',\n",
    " 'PKA',\n",
    " 'S',\n",
    " 'SoT',\n",
    " 'YK',\n",
    " 'RK',\n",
    " 'Touches',\n",
    " 'Tackles',\n",
    " 'Ints',\n",
    " 'Blocks',\n",
    " 'xG',\n",
    " 'npxG',\n",
    " 'xAG',\n",
    " 'Passes',\n",
    " 'PassesA',\n",
    " 'PrgPas',\n",
    " 'Carries',\n",
    " 'PrgCar',\n",
    " 'Line',\n",
    " 'C','FormattedDate', 'Pos')\n",
    "\n"
   ]
  },
  {
   "cell_type": "code",
   "execution_count": 218,
   "id": "f35d0d43-dd23-4816-a2ee-b68331956e48",
   "metadata": {},
   "outputs": [],
   "source": [
    "DimPlayers.createOrReplaceTempView(\"DimPlayers\")"
   ]
  },
  {
   "cell_type": "code",
   "execution_count": 219,
   "id": "001a30e5-2b16-46b5-b182-1587caab32d7",
   "metadata": {},
   "outputs": [
    {
     "data": {
      "text/plain": [
       "['fullname', 'LastName', 'FirstName', 'playerID']"
      ]
     },
     "execution_count": 219,
     "metadata": {},
     "output_type": "execute_result"
    }
   ],
   "source": [
    "DimPlayers.columns"
   ]
  },
  {
   "cell_type": "code",
   "execution_count": 220,
   "id": "638b5ee3-c2ef-459b-a773-891429e9511f",
   "metadata": {},
   "outputs": [
    {
     "name": "stdout",
     "output_type": "stream",
     "text": [
      "+----------------+----------+---------+--------+\n",
      "|        fullname|  LastName|FirstName|playerID|\n",
      "+----------------+----------+---------+--------+\n",
      "|Emile Smith Rowe|Smith Rowe|    Emile|       0|\n",
      "|Emile Smith Rowe|Smith Rowe|    Emile|       0|\n",
      "|Emile Smith Rowe|Smith Rowe|    Emile|       0|\n",
      "|Emile Smith Rowe|Smith Rowe|    Emile|       0|\n",
      "|Emile Smith Rowe|Smith Rowe|    Emile|       0|\n",
      "|Emile Smith Rowe|Smith Rowe|    Emile|       0|\n",
      "|Emile Smith Rowe|Smith Rowe|    Emile|       0|\n",
      "|Emile Smith Rowe|Smith Rowe|    Emile|       0|\n",
      "|Emile Smith Rowe|Smith Rowe|    Emile|       0|\n",
      "|Emile Smith Rowe|Smith Rowe|    Emile|       0|\n",
      "|Emile Smith Rowe|Smith Rowe|    Emile|       0|\n",
      "|Emile Smith Rowe|Smith Rowe|    Emile|       0|\n",
      "|Emile Smith Rowe|Smith Rowe|    Emile|       0|\n",
      "|Emile Smith Rowe|Smith Rowe|    Emile|       0|\n",
      "|Emile Smith Rowe|Smith Rowe|    Emile|       0|\n",
      "|Emile Smith Rowe|Smith Rowe|    Emile|       0|\n",
      "|Emile Smith Rowe|Smith Rowe|    Emile|       0|\n",
      "|Emile Smith Rowe|Smith Rowe|    Emile|       0|\n",
      "|Emile Smith Rowe|Smith Rowe|    Emile|       0|\n",
      "|Emile Smith Rowe|Smith Rowe|    Emile|       0|\n",
      "+----------------+----------+---------+--------+\n",
      "only showing top 20 rows\n",
      "\n"
     ]
    }
   ],
   "source": [
    "DimPlayers.show()"
   ]
  },
  {
   "cell_type": "code",
   "execution_count": 222,
   "id": "9edaf700-61cd-4b62-b4a7-f7742344464b",
   "metadata": {},
   "outputs": [],
   "source": [
    "DimPlayers.write.format(\"jdbc\") \\\n",
    "    .option(\"url\", \"jdbc:postgresql://localhost:5432/Football\") \\\n",
    "    .option(\"driver\", \"org.postgresql.Driver\") \\\n",
    "    .option(\"dbtable\", \"dwh.DimArsenalPlayers\") \\\n",
    "    .option(\"user\", \"root\") \\\n",
    "    .option(\"password\", \"root\") \\\n",
    "    .mode(\"overwrite\") \\\n",
    "    .save()\n"
   ]
  },
  {
   "cell_type": "code",
   "execution_count": null,
   "id": "7303fb88-2af9-4443-883b-d695f0d16bce",
   "metadata": {},
   "outputs": [],
   "source": []
  }
 ],
 "metadata": {
  "kernelspec": {
   "display_name": "Python 3 (ipykernel)",
   "language": "python",
   "name": "python3"
  },
  "language_info": {
   "codemirror_mode": {
    "name": "ipython",
    "version": 3
   },
   "file_extension": ".py",
   "mimetype": "text/x-python",
   "name": "python",
   "nbconvert_exporter": "python",
   "pygments_lexer": "ipython3",
   "version": "3.12.7"
  }
 },
 "nbformat": 4,
 "nbformat_minor": 5
}
